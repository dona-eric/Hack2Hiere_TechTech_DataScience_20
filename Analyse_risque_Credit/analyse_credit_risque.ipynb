{
 "cells": [
  {
   "cell_type": "code",
   "execution_count": null,
   "metadata": {},
   "outputs": [],
   "source": [
    "import pandas as pd\n",
    "import numpy as np\n",
    "import matplotlib.pyplot as plt\n",
    "import seaborn as sns \n",
    "import plotly.express as px\n",
    "import warnings\n",
    "import joblib, pickle, os, re\n",
    "import datetime\n",
    "from datetime import datetime\n",
    "from sklearn.model_selection import GridSearchCV, StratifiedKFold, cross_val_score, learning_curve, train_test_split\n",
    "from sklearn.preprocessing import LabelEncoder, OneHotEncoder, OrdinalEncoder, TargetEncoder, PowerTransformer, StandardScaler\n",
    "from sklearn.metrics import accuracy_score, precision_score, precision_recall_curve, classification_report, f1_score, roc_auc_score, confusion_matrix\n",
    "from sklearn.pipeline import Pipeline, make_pipeline\n",
    "from sklearn.base import BaseEstimator, TransformerMixin\n",
    "from sklearn.compose import ColumnTransformer, make_column_transformer, make_column_selector\n",
    "from sklearn.cluster import KMeans, DBSCAN\n",
    "from sklearn.linear_model import LogisticRegression\n",
    "from sklearn.ensemble import (RandomForestClassifier, ExtraTreesClassifier, AdaBoostClassifier, BaggingClassifier, \n",
    "                            VotingClassifier)\n",
    "from sklearn.impute import SimpleImputer, KNNImputer\n",
    "from sklearn.svm import SVC, LinearSVC\n",
    "from sklearn.decomposition import KernelPCA, PCA\n",
    "from sklearn.tree import (DecisionTreeClassifier, ExtraTreeClassifier, plot_tree)\n",
    "import sys\n",
    "import dataviz\n",
    "import xgboost\n",
    "from sklearn.naive_bayes import GaussianNB\n",
    "from sklearn.neighbors import KNeighborsClassifier\n",
    "from xgboost import XGBClassifier, XGBRFClassifier\n",
    "#from catboost import CatBoostClassifier\n",
    "import plotly.graph_objs as go\n",
    "import plotly.io as pio\n",
    "from plotly.subplots import make_subplots\n",
    "%matplotlib inline\n",
    "pd.set_option('display.max_columns',None)\n",
    "sns.set(style=\"darkgrid\", palette=\"pastel\", color_codes=True)\n",
    "sns.set_context('paper')\n",
    "\n",
    "warnings.filterwarnings(action='ignore')\n"
   ]
  },
  {
   "cell_type": "markdown",
   "metadata": {},
   "source": [
    "## Objectif : \n",
    " * Explorez les données pour chercher les plus grandes corrélation avec l'octroi ou non de crédit.\n",
    " * Développer un modèle de prédiction de scoring crédit\n",
    " * Créer un dockerfile pour le déploiement \n",
    " * Héberger le code sur github ou gitlab.\n",
    " * Créer un tableau de bord interactif via Power BI ou Loocker Studio pour visualiser les résultats du modèle.  "
   ]
  },
  {
   "cell_type": "markdown",
   "metadata": {},
   "source": [
    "### Données \n",
    "[German Credit Data](https://www.kaggle.com/code/mathchi/credit-risk-evaluation/notebook)"
   ]
  },
  {
   "cell_type": "markdown",
   "metadata": {},
   "source": [
    "## Importing the data"
   ]
  },
  {
   "cell_type": "code",
   "execution_count": 1,
   "metadata": {},
   "outputs": [],
   "source": [
    "\n",
    "test = pd.read_csv('/home/dona-erick/Test_Technique_DataBeez/German_Data_Credit/Test/german_credit_data.csv')\n",
    "train= pd.read_csv('/home/dona-erick/Test_Technique_DataBeez/German_Data_Credit/Train/german_credit_data (1).csv')"
   ]
  },
  {
   "cell_type": "code",
   "execution_count": 2,
   "metadata": {},
   "outputs": [
    {
     "data": {
      "text/html": [
       "<div>\n",
       "<style scoped>\n",
       "    .dataframe tbody tr th:only-of-type {\n",
       "        vertical-align: middle;\n",
       "    }\n",
       "\n",
       "    .dataframe tbody tr th {\n",
       "        vertical-align: top;\n",
       "    }\n",
       "\n",
       "    .dataframe thead th {\n",
       "        text-align: right;\n",
       "    }\n",
       "</style>\n",
       "<table border=\"1\" class=\"dataframe\">\n",
       "  <thead>\n",
       "    <tr style=\"text-align: right;\">\n",
       "      <th></th>\n",
       "      <th>Unnamed: 0</th>\n",
       "      <th>Age</th>\n",
       "      <th>Sex</th>\n",
       "      <th>Job</th>\n",
       "      <th>Housing</th>\n",
       "      <th>Saving accounts</th>\n",
       "      <th>Checking account</th>\n",
       "      <th>Credit amount</th>\n",
       "      <th>Duration</th>\n",
       "      <th>Purpose</th>\n",
       "      <th>Risk</th>\n",
       "    </tr>\n",
       "  </thead>\n",
       "  <tbody>\n",
       "    <tr>\n",
       "      <th>0</th>\n",
       "      <td>0</td>\n",
       "      <td>67</td>\n",
       "      <td>male</td>\n",
       "      <td>2</td>\n",
       "      <td>own</td>\n",
       "      <td>NaN</td>\n",
       "      <td>little</td>\n",
       "      <td>1169</td>\n",
       "      <td>6</td>\n",
       "      <td>radio/TV</td>\n",
       "      <td>good</td>\n",
       "    </tr>\n",
       "    <tr>\n",
       "      <th>1</th>\n",
       "      <td>1</td>\n",
       "      <td>22</td>\n",
       "      <td>female</td>\n",
       "      <td>2</td>\n",
       "      <td>own</td>\n",
       "      <td>little</td>\n",
       "      <td>moderate</td>\n",
       "      <td>5951</td>\n",
       "      <td>48</td>\n",
       "      <td>radio/TV</td>\n",
       "      <td>bad</td>\n",
       "    </tr>\n",
       "    <tr>\n",
       "      <th>2</th>\n",
       "      <td>2</td>\n",
       "      <td>49</td>\n",
       "      <td>male</td>\n",
       "      <td>1</td>\n",
       "      <td>own</td>\n",
       "      <td>little</td>\n",
       "      <td>NaN</td>\n",
       "      <td>2096</td>\n",
       "      <td>12</td>\n",
       "      <td>education</td>\n",
       "      <td>good</td>\n",
       "    </tr>\n",
       "    <tr>\n",
       "      <th>3</th>\n",
       "      <td>3</td>\n",
       "      <td>45</td>\n",
       "      <td>male</td>\n",
       "      <td>2</td>\n",
       "      <td>free</td>\n",
       "      <td>little</td>\n",
       "      <td>little</td>\n",
       "      <td>7882</td>\n",
       "      <td>42</td>\n",
       "      <td>furniture/equipment</td>\n",
       "      <td>good</td>\n",
       "    </tr>\n",
       "    <tr>\n",
       "      <th>4</th>\n",
       "      <td>4</td>\n",
       "      <td>53</td>\n",
       "      <td>male</td>\n",
       "      <td>2</td>\n",
       "      <td>free</td>\n",
       "      <td>little</td>\n",
       "      <td>little</td>\n",
       "      <td>4870</td>\n",
       "      <td>24</td>\n",
       "      <td>car</td>\n",
       "      <td>bad</td>\n",
       "    </tr>\n",
       "  </tbody>\n",
       "</table>\n",
       "</div>"
      ],
      "text/plain": [
       "   Unnamed: 0  Age     Sex  Job Housing Saving accounts Checking account  \\\n",
       "0           0   67    male    2     own             NaN           little   \n",
       "1           1   22  female    2     own          little         moderate   \n",
       "2           2   49    male    1     own          little              NaN   \n",
       "3           3   45    male    2    free          little           little   \n",
       "4           4   53    male    2    free          little           little   \n",
       "\n",
       "   Credit amount  Duration              Purpose  Risk  \n",
       "0           1169         6             radio/TV  good  \n",
       "1           5951        48             radio/TV   bad  \n",
       "2           2096        12            education  good  \n",
       "3           7882        42  furniture/equipment  good  \n",
       "4           4870        24                  car   bad  "
      ]
     },
     "execution_count": 2,
     "metadata": {},
     "output_type": "execute_result"
    }
   ],
   "source": [
    "train.head()"
   ]
  },
  {
   "cell_type": "code",
   "execution_count": 3,
   "metadata": {},
   "outputs": [
    {
     "data": {
      "text/html": [
       "<div>\n",
       "<style scoped>\n",
       "    .dataframe tbody tr th:only-of-type {\n",
       "        vertical-align: middle;\n",
       "    }\n",
       "\n",
       "    .dataframe tbody tr th {\n",
       "        vertical-align: top;\n",
       "    }\n",
       "\n",
       "    .dataframe thead th {\n",
       "        text-align: right;\n",
       "    }\n",
       "</style>\n",
       "<table border=\"1\" class=\"dataframe\">\n",
       "  <thead>\n",
       "    <tr style=\"text-align: right;\">\n",
       "      <th></th>\n",
       "      <th>Unnamed: 0</th>\n",
       "      <th>Age</th>\n",
       "      <th>Sex</th>\n",
       "      <th>Job</th>\n",
       "      <th>Housing</th>\n",
       "      <th>Saving accounts</th>\n",
       "      <th>Checking account</th>\n",
       "      <th>Credit amount</th>\n",
       "      <th>Duration</th>\n",
       "      <th>Purpose</th>\n",
       "    </tr>\n",
       "  </thead>\n",
       "  <tbody>\n",
       "    <tr>\n",
       "      <th>0</th>\n",
       "      <td>0</td>\n",
       "      <td>67</td>\n",
       "      <td>male</td>\n",
       "      <td>2</td>\n",
       "      <td>own</td>\n",
       "      <td>NaN</td>\n",
       "      <td>little</td>\n",
       "      <td>1169</td>\n",
       "      <td>6</td>\n",
       "      <td>radio/TV</td>\n",
       "    </tr>\n",
       "    <tr>\n",
       "      <th>1</th>\n",
       "      <td>1</td>\n",
       "      <td>22</td>\n",
       "      <td>female</td>\n",
       "      <td>2</td>\n",
       "      <td>own</td>\n",
       "      <td>little</td>\n",
       "      <td>moderate</td>\n",
       "      <td>5951</td>\n",
       "      <td>48</td>\n",
       "      <td>radio/TV</td>\n",
       "    </tr>\n",
       "    <tr>\n",
       "      <th>2</th>\n",
       "      <td>2</td>\n",
       "      <td>49</td>\n",
       "      <td>male</td>\n",
       "      <td>1</td>\n",
       "      <td>own</td>\n",
       "      <td>little</td>\n",
       "      <td>NaN</td>\n",
       "      <td>2096</td>\n",
       "      <td>12</td>\n",
       "      <td>education</td>\n",
       "    </tr>\n",
       "    <tr>\n",
       "      <th>3</th>\n",
       "      <td>3</td>\n",
       "      <td>45</td>\n",
       "      <td>male</td>\n",
       "      <td>2</td>\n",
       "      <td>free</td>\n",
       "      <td>little</td>\n",
       "      <td>little</td>\n",
       "      <td>7882</td>\n",
       "      <td>42</td>\n",
       "      <td>furniture/equipment</td>\n",
       "    </tr>\n",
       "    <tr>\n",
       "      <th>4</th>\n",
       "      <td>4</td>\n",
       "      <td>53</td>\n",
       "      <td>male</td>\n",
       "      <td>2</td>\n",
       "      <td>free</td>\n",
       "      <td>little</td>\n",
       "      <td>little</td>\n",
       "      <td>4870</td>\n",
       "      <td>24</td>\n",
       "      <td>car</td>\n",
       "    </tr>\n",
       "  </tbody>\n",
       "</table>\n",
       "</div>"
      ],
      "text/plain": [
       "   Unnamed: 0  Age     Sex  Job Housing Saving accounts Checking account  \\\n",
       "0           0   67    male    2     own             NaN           little   \n",
       "1           1   22  female    2     own          little         moderate   \n",
       "2           2   49    male    1     own          little              NaN   \n",
       "3           3   45    male    2    free          little           little   \n",
       "4           4   53    male    2    free          little           little   \n",
       "\n",
       "   Credit amount  Duration              Purpose  \n",
       "0           1169         6             radio/TV  \n",
       "1           5951        48             radio/TV  \n",
       "2           2096        12            education  \n",
       "3           7882        42  furniture/equipment  \n",
       "4           4870        24                  car  "
      ]
     },
     "execution_count": 3,
     "metadata": {},
     "output_type": "execute_result"
    }
   ],
   "source": [
    "test.head()"
   ]
  },
  {
   "cell_type": "markdown",
   "metadata": {},
   "source": [
    "## Exploratory Data Analysis"
   ]
  },
  {
   "cell_type": "code",
   "execution_count": 4,
   "metadata": {},
   "outputs": [
    {
     "name": "stdout",
     "output_type": "stream",
     "text": [
      "<class 'pandas.core.frame.DataFrame'>\n",
      "RangeIndex: 1000 entries, 0 to 999\n",
      "Data columns (total 11 columns):\n",
      " #   Column            Non-Null Count  Dtype \n",
      "---  ------            --------------  ----- \n",
      " 0   Unnamed: 0        1000 non-null   int64 \n",
      " 1   Age               1000 non-null   int64 \n",
      " 2   Sex               1000 non-null   object\n",
      " 3   Job               1000 non-null   int64 \n",
      " 4   Housing           1000 non-null   object\n",
      " 5   Saving accounts   817 non-null    object\n",
      " 6   Checking account  606 non-null    object\n",
      " 7   Credit amount     1000 non-null   int64 \n",
      " 8   Duration          1000 non-null   int64 \n",
      " 9   Purpose           1000 non-null   object\n",
      " 10  Risk              1000 non-null   object\n",
      "dtypes: int64(5), object(6)\n",
      "memory usage: 86.1+ KB\n"
     ]
    }
   ],
   "source": [
    "train.info()"
   ]
  },
  {
   "cell_type": "code",
   "execution_count": 5,
   "metadata": {},
   "outputs": [
    {
     "data": {
      "text/html": [
       "<div>\n",
       "<style scoped>\n",
       "    .dataframe tbody tr th:only-of-type {\n",
       "        vertical-align: middle;\n",
       "    }\n",
       "\n",
       "    .dataframe tbody tr th {\n",
       "        vertical-align: top;\n",
       "    }\n",
       "\n",
       "    .dataframe thead th {\n",
       "        text-align: right;\n",
       "    }\n",
       "</style>\n",
       "<table border=\"1\" class=\"dataframe\">\n",
       "  <thead>\n",
       "    <tr style=\"text-align: right;\">\n",
       "      <th></th>\n",
       "      <th>count</th>\n",
       "      <th>mean</th>\n",
       "      <th>std</th>\n",
       "      <th>min</th>\n",
       "      <th>25%</th>\n",
       "      <th>50%</th>\n",
       "      <th>75%</th>\n",
       "      <th>max</th>\n",
       "    </tr>\n",
       "  </thead>\n",
       "  <tbody>\n",
       "    <tr>\n",
       "      <th>Unnamed: 0</th>\n",
       "      <td>1000.0</td>\n",
       "      <td>499.500</td>\n",
       "      <td>288.819436</td>\n",
       "      <td>0.0</td>\n",
       "      <td>249.75</td>\n",
       "      <td>499.5</td>\n",
       "      <td>749.25</td>\n",
       "      <td>999.0</td>\n",
       "    </tr>\n",
       "    <tr>\n",
       "      <th>Age</th>\n",
       "      <td>1000.0</td>\n",
       "      <td>35.546</td>\n",
       "      <td>11.375469</td>\n",
       "      <td>19.0</td>\n",
       "      <td>27.00</td>\n",
       "      <td>33.0</td>\n",
       "      <td>42.00</td>\n",
       "      <td>75.0</td>\n",
       "    </tr>\n",
       "    <tr>\n",
       "      <th>Job</th>\n",
       "      <td>1000.0</td>\n",
       "      <td>1.904</td>\n",
       "      <td>0.653614</td>\n",
       "      <td>0.0</td>\n",
       "      <td>2.00</td>\n",
       "      <td>2.0</td>\n",
       "      <td>2.00</td>\n",
       "      <td>3.0</td>\n",
       "    </tr>\n",
       "    <tr>\n",
       "      <th>Credit amount</th>\n",
       "      <td>1000.0</td>\n",
       "      <td>3271.258</td>\n",
       "      <td>2822.736876</td>\n",
       "      <td>250.0</td>\n",
       "      <td>1365.50</td>\n",
       "      <td>2319.5</td>\n",
       "      <td>3972.25</td>\n",
       "      <td>18424.0</td>\n",
       "    </tr>\n",
       "    <tr>\n",
       "      <th>Duration</th>\n",
       "      <td>1000.0</td>\n",
       "      <td>20.903</td>\n",
       "      <td>12.058814</td>\n",
       "      <td>4.0</td>\n",
       "      <td>12.00</td>\n",
       "      <td>18.0</td>\n",
       "      <td>24.00</td>\n",
       "      <td>72.0</td>\n",
       "    </tr>\n",
       "  </tbody>\n",
       "</table>\n",
       "</div>"
      ],
      "text/plain": [
       "                count      mean          std    min      25%     50%      75%  \\\n",
       "Unnamed: 0     1000.0   499.500   288.819436    0.0   249.75   499.5   749.25   \n",
       "Age            1000.0    35.546    11.375469   19.0    27.00    33.0    42.00   \n",
       "Job            1000.0     1.904     0.653614    0.0     2.00     2.0     2.00   \n",
       "Credit amount  1000.0  3271.258  2822.736876  250.0  1365.50  2319.5  3972.25   \n",
       "Duration       1000.0    20.903    12.058814    4.0    12.00    18.0    24.00   \n",
       "\n",
       "                   max  \n",
       "Unnamed: 0       999.0  \n",
       "Age               75.0  \n",
       "Job                3.0  \n",
       "Credit amount  18424.0  \n",
       "Duration          72.0  "
      ]
     },
     "execution_count": 5,
     "metadata": {},
     "output_type": "execute_result"
    }
   ],
   "source": [
    "train.describe().T"
   ]
  },
  {
   "cell_type": "code",
   "execution_count": 6,
   "metadata": {},
   "outputs": [
    {
     "name": "stdout",
     "output_type": "stream",
     "text": [
      "<class 'pandas.core.frame.DataFrame'>\n",
      "RangeIndex: 1000 entries, 0 to 999\n",
      "Data columns (total 10 columns):\n",
      " #   Column            Non-Null Count  Dtype \n",
      "---  ------            --------------  ----- \n",
      " 0   Age               1000 non-null   int64 \n",
      " 1   Sex               1000 non-null   object\n",
      " 2   Job               1000 non-null   int64 \n",
      " 3   Housing           1000 non-null   object\n",
      " 4   Saving accounts   817 non-null    object\n",
      " 5   Checking account  606 non-null    object\n",
      " 6   Credit amount     1000 non-null   int64 \n",
      " 7   Duration          1000 non-null   int64 \n",
      " 8   Purpose           1000 non-null   object\n",
      " 9   Risk              1000 non-null   object\n",
      "dtypes: int64(4), object(6)\n",
      "memory usage: 78.3+ KB\n"
     ]
    }
   ],
   "source": [
    "columm_drop = ['Unnamed: 0']\n",
    "train = train.drop(columns=columm_drop, axis = 1)\n",
    "test=test.drop(columns =columm_drop, axis=1)\n",
    "train.info()"
   ]
  },
  {
   "cell_type": "code",
   "execution_count": 7,
   "metadata": {},
   "outputs": [
    {
     "data": {
      "text/plain": [
       "(Age                  int64\n",
       " Sex                 object\n",
       " Job                  int64\n",
       " Housing             object\n",
       " Saving accounts     object\n",
       " Checking account    object\n",
       " Credit amount        int64\n",
       " Duration             int64\n",
       " Purpose             object\n",
       " Risk                object\n",
       " dtype: object,\n",
       " np.int64(0),\n",
       " Index(['Age', 'Sex', 'Job', 'Housing', 'Saving accounts', 'Checking account',\n",
       "        'Credit amount', 'Duration', 'Purpose', 'Risk'],\n",
       "       dtype='object'))"
      ]
     },
     "execution_count": 7,
     "metadata": {},
     "output_type": "execute_result"
    }
   ],
   "source": [
    "train.dtypes, train.duplicated().sum(), train.columns"
   ]
  },
  {
   "cell_type": "code",
   "execution_count": 8,
   "metadata": {},
   "outputs": [
    {
     "data": {
      "image/png": "[encoded data removed]",
      "text/plain": [
       "<Figure size 1000x800 with 1 Axes>"
      ]
     },
     "metadata": {},
     "output_type": "display_data"
    }
   ],
   "source": [
    "## identification des valeurs manquantes\n",
    "missing_values = train.isnull().sum()\n",
    "ratio_missing = (missing_values /train.shape[0])*100\n",
    "plt.figure(figsize=(10, 8))\n",
    "sns.barplot(x=missing_values.index, y = ratio_missing.values)\n",
    "plt.title(\"Répartition des valeurs manquantes\")\n",
    "plt.xticks(rotation=90)\n",
    "plt.xlabel('Columns of dataframe')\n",
    "plt.ylabel(\"Percent of missing valuees\")\n",
    "plt.axhline(y=1.0, xmax=1,xmin=-1)\n",
    "#plt.ylim(top=3)\n",
    "plt.show()"
   ]
  },
  {
   "cell_type": "code",
   "execution_count": 9,
   "metadata": {},
   "outputs": [
    {
     "data": {
      "text/plain": [
       "Age                  0.0\n",
       "Sex                  0.0\n",
       "Job                  0.0\n",
       "Housing              0.0\n",
       "Saving accounts     18.3\n",
       "Checking account    39.4\n",
       "Credit amount        0.0\n",
       "Duration             0.0\n",
       "Purpose              0.0\n",
       "Risk                 0.0\n",
       "dtype: float64"
      ]
     },
     "execution_count": 9,
     "metadata": {},
     "output_type": "execute_result"
    }
   ],
   "source": [
    "ratio_missing"
   ]
  },
  {
   "cell_type": "markdown",
   "metadata": {},
   "source": [
    "####  1-) Analyse univariée"
   ]
  },
  {
   "cell_type": "code",
   "execution_count": 10,
   "metadata": {},
   "outputs": [
    {
     "name": "stdout",
     "output_type": "stream",
     "text": [
      "Sex\n"
     ]
    },
    {
     "data": {
      "image/png": "[encoded data removed]",
      "text/plain": [
       "<Figure size 800x800 with 1 Axes>"
      ]
     },
     "metadata": {},
     "output_type": "display_data"
    },
    {
     "name": "stdout",
     "output_type": "stream",
     "text": [
      "Housing\n"
     ]
    },
    {
     "data": {
      "image/png": "[encoded data removed]",
      "text/plain": [
       "<Figure size 640x480 with 1 Axes>"
      ]
     },
     "metadata": {},
     "output_type": "display_data"
    },
    {
     "name": "stdout",
     "output_type": "stream",
     "text": [
      "Saving accounts\n"
     ]
    },
    {
     "data": {
      "image/png": "[encoded data removed]",
      "text/plain": [
       "<Figure size 640x480 with 1 Axes>"
      ]
     },
     "metadata": {},
     "output_type": "display_data"
    },
    {
     "name": "stdout",
     "output_type": "stream",
     "text": [
      "Checking account\n"
     ]
    },
    {
     "data": {
      "image/png": "[encoded data removed]",
      "text/plain": [
       "<Figure size 640x480 with 1 Axes>"
      ]
     },
     "metadata": {},
     "output_type": "display_data"
    },
    {
     "name": "stdout",
     "output_type": "stream",
     "text": [
      "Purpose\n"
     ]
    },
    {
     "data": {
      "image/png": "[encoded data removed]",
      "text/plain": [
       "<Figure size 640x480 with 1 Axes>"
      ]
     },
     "metadata": {},
     "output_type": "display_data"
    },
    {
     "name": "stdout",
     "output_type": "stream",
     "text": [
      "Risk\n"
     ]
    },
    {
     "data": {
      "image/png": "[encoded data removed]",
      "text/plain": [
       "<Figure size 640x480 with 1 Axes>"
      ]
     },
     "metadata": {},
     "output_type": "display_data"
    }
   ],
   "source": [
    "numerical_features = train.select_dtypes(exclude ='object')\n",
    "categorical_features = train.select_dtypes(include='object')\n",
    "sns.set_style(style='darkgrid')\n",
    "plt.figure(figsize=(8, 8))\n",
    "for var in categorical_features.columns:\n",
    "    print(var)\n",
    "    sns.countplot(data =train,x=var, palette='Set3')\n",
    "    plt.title(f\"Distribution de {var}\")\n",
    "    plt.xlabel(f'{var}')\n",
    "    plt.show()"
   ]
  },
  {
   "cell_type": "code",
   "execution_count": 11,
   "metadata": {},
   "outputs": [
    {
     "data": {
      "image/png": "[encoded data removed]",
      "text/plain": [
       "<Figure size 640x480 with 1 Axes>"
      ]
     },
     "metadata": {},
     "output_type": "display_data"
    },
    {
     "data": {
      "image/png": "[encoded data removed]",
      "text/plain": [
       "<Figure size 640x480 with 1 Axes>"
      ]
     },
     "metadata": {},
     "output_type": "display_data"
    },
    {
     "data": {
      "image/png": "[encoded data removed]",
      "text/plain": [
       "<Figure size 640x480 with 1 Axes>"
      ]
     },
     "metadata": {},
     "output_type": "display_data"
    },
    {
     "data": {
      "image/png": "[encoded data removed]",
      "text/plain": [
       "<Figure size 640x480 with 1 Axes>"
      ]
     },
     "metadata": {},
     "output_type": "display_data"
    },
    {
     "data": {
      "image/png": "[encoded data removed]",
      "text/plain": [
       "<Figure size 640x480 with 1 Axes>"
      ]
     },
     "metadata": {},
     "output_type": "display_data"
    },
    {
     "data": {
      "image/png": "[encoded data removed]",
      "text/plain": [
       "<Figure size 640x480 with 1 Axes>"
      ]
     },
     "metadata": {},
     "output_type": "display_data"
    }
   ],
   "source": [
    "for col in categorical_features.columns:\n",
    "    train[col].value_counts().plot(kind='pie', autopct='%.2f%%')\n",
    "    plt.title(f'distribution des données {col}')\n",
    "    plt.show()"
   ]
  },
  {
   "cell_type": "code",
   "execution_count": 12,
   "metadata": {},
   "outputs": [
    {
     "data": {
      "application/vnd.plotly.v1+json": {
       "config": {
        "plotlyServerURL": "https://plot.ly"
       },
       "data": [
        {
         "text": [
          "good",
          "bad"
         ],
         "textposition": "outside",
         "type": "bar",
         "x": [
          "good",
          "bad"
         ],
         "y": [
          700,
          300
         ]
        }
       ],
       "layout": {
        "template": {
         "data": {
          "bar": [
           {
            "error_x": {
             "color": "#2a3f5f"
            },
            "error_y": {
             "color": "#2a3f5f"
            },
            "marker": {
             "line": {
              "color": "#E5ECF6",
              "width": 0.5
             },
             "pattern": {
              "fillmode": "overlay",
              "size": 10,
              "solidity": 0.2
             }
            },
            "type": "bar"
           }
          ],
          "barpolar": [
           {
            "marker": {
             "line": {
              "color": "#E5ECF6",
              "width": 0.5
             },
             "pattern": {
              "fillmode": "overlay",
              "size": 10,
              "solidity": 0.2
             }
            },
            "type": "barpolar"
           }
          ],
          "carpet": [
           {
            "aaxis": {
             "endlinecolor": "#2a3f5f",
             "gridcolor": "white",
             "linecolor": "white",
             "minorgridcolor": "white",
             "startlinecolor": "#2a3f5f"
            },
            "baxis": {
             "endlinecolor": "#2a3f5f",
             "gridcolor": "white",
             "linecolor": "white",
             "minorgridcolor": "white",
             "startlinecolor": "#2a3f5f"
            },
            "type": "carpet"
           }
          ],
          "choropleth": [
           {
            "colorbar": {
             "outlinewidth": 0,
             "ticks": ""
            },
            "type": "choropleth"
           }
          ],
          "contour": [
           {
            "colorbar": {
             "outlinewidth": 0,
             "ticks": ""
            },
            "colorscale": [
             [
              0,
              "#0d0887"
             ],
             [
              0.1111111111111111,
              "#46039f"
             ],
             [
              0.2222222222222222,
              "#7201a8"
             ],
             [
              0.3333333333333333,
              "#9c179e"
             ],
             [
              0.4444444444444444,
              "#bd3786"
             ],
             [
              0.5555555555555556,
              "#d8576b"
             ],
             [
              0.6666666666666666,
              "#ed7953"
             ],
             [
              0.7777777777777778,
              "#fb9f3a"
             ],
             [
              0.8888888888888888,
              "#fdca26"
             ],
             [
              1,
              "#f0f921"
             ]
            ],
            "type": "contour"
           }
          ],
          "contourcarpet": [
           {
            "colorbar": {
             "outlinewidth": 0,
             "ticks": ""
            },
            "type": "contourcarpet"
           }
          ],
          "heatmap": [
           {
            "colorbar": {
             "outlinewidth": 0,
             "ticks": ""
            },
            "colorscale": [
             [
              0,
              "#0d0887"
             ],
             [
              0.1111111111111111,
              "#46039f"
             ],
             [
              0.2222222222222222,
              "#7201a8"
             ],
             [
              0.3333333333333333,
              "#9c179e"
             ],
             [
              0.4444444444444444,
              "#bd3786"
             ],
             [
              0.5555555555555556,
              "#d8576b"
             ],
             [
              0.6666666666666666,
              "#ed7953"
             ],
             [
              0.7777777777777778,
              "#fb9f3a"
             ],
             [
              0.8888888888888888,
              "#fdca26"
             ],
             [
              1,
              "#f0f921"
             ]
            ],
            "type": "heatmap"
           }
          ],
          "heatmapgl": [
           {
            "colorbar": {
             "outlinewidth": 0,
             "ticks": ""
            },
            "colorscale": [
             [
              0,
              "#0d0887"
             ],
             [
              0.1111111111111111,
              "#46039f"
             ],
             [
              0.2222222222222222,
              "#7201a8"
             ],
             [
              0.3333333333333333,
              "#9c179e"
             ],
             [
              0.4444444444444444,
              "#bd3786"
             ],
             [
              0.5555555555555556,
              "#d8576b"
             ],
             [
              0.6666666666666666,
              "#ed7953"
             ],
             [
              0.7777777777777778,
              "#fb9f3a"
             ],
             [
              0.8888888888888888,
              "#fdca26"
             ],
             [
              1,
              "#f0f921"
             ]
            ],
            "type": "heatmapgl"
           }
          ],
          "histogram": [
           {
            "marker": {
             "pattern": {
              "fillmode": "overlay",
              "size": 10,
              "solidity": 0.2
             }
            },
            "type": "histogram"
           }
          ],
          "histogram2d": [
           {
            "colorbar": {
             "outlinewidth": 0,
             "ticks": ""
            },
            "colorscale": [
             [
              0,
              "#0d0887"
             ],
             [
              0.1111111111111111,
              "#46039f"
             ],
             [
              0.2222222222222222,
              "#7201a8"
             ],
             [
              0.3333333333333333,
              "#9c179e"
             ],
             [
              0.4444444444444444,
              "#bd3786"
             ],
             [
              0.5555555555555556,
              "#d8576b"
             ],
             [
              0.6666666666666666,
              "#ed7953"
             ],
             [
              0.7777777777777778,
              "#fb9f3a"
             ],
             [
              0.8888888888888888,
              "#fdca26"
             ],
             [
              1,
              "#f0f921"
             ]
            ],
            "type": "histogram2d"
           }
          ],
          "histogram2dcontour": [
           {
            "colorbar": {
             "outlinewidth": 0,
             "ticks": ""
            },
            "colorscale": [
             [
              0,
              "#0d0887"
             ],
             [
              0.1111111111111111,
              "#46039f"
             ],
             [
              0.2222222222222222,
              "#7201a8"
             ],
             [
              0.3333333333333333,
              "#9c179e"
             ],
             [
              0.4444444444444444,
              "#bd3786"
             ],
             [
              0.5555555555555556,
              "#d8576b"
             ],
             [
              0.6666666666666666,
              "#ed7953"
             ],
             [
              0.7777777777777778,
              "#fb9f3a"
             ],
             [
              0.8888888888888888,
              "#fdca26"
             ],
             [
              1,
              "#f0f921"
             ]
            ],
            "type": "histogram2dcontour"
           }
          ],
          "mesh3d": [
           {
            "colorbar": {
             "outlinewidth": 0,
             "ticks": ""
            },
            "type": "mesh3d"
           }
          ],
          "parcoords": [
           {
            "line": {
             "colorbar": {
              "outlinewidth": 0,
              "ticks": ""
             }
            },
            "type": "parcoords"
           }
          ],
          "pie": [
           {
            "automargin": true,
            "type": "pie"
           }
          ],
          "scatter": [
           {
            "fillpattern": {
             "fillmode": "overlay",
             "size": 10,
             "solidity": 0.2
            },
            "type": "scatter"
           }
          ],
          "scatter3d": [
           {
            "line": {
             "colorbar": {
              "outlinewidth": 0,
              "ticks": ""
             }
            },
            "marker": {
             "colorbar": {
              "outlinewidth": 0,
              "ticks": ""
             }
            },
            "type": "scatter3d"
           }
          ],
          "scattercarpet": [
           {
            "marker": {
             "colorbar": {
              "outlinewidth": 0,
              "ticks": ""
             }
            },
            "type": "scattercarpet"
           }
          ],
          "scattergeo": [
           {
            "marker": {
             "colorbar": {
              "outlinewidth": 0,
              "ticks": ""
             }
            },
            "type": "scattergeo"
           }
          ],
          "scattergl": [
           {
            "marker": {
             "colorbar": {
              "outlinewidth": 0,
              "ticks": ""
             }
            },
            "type": "scattergl"
           }
          ],
          "scattermapbox": [
           {
            "marker": {
             "colorbar": {
              "outlinewidth": 0,
              "ticks": ""
             }
            },
            "type": "scattermapbox"
           }
          ],
          "scatterpolar": [
           {
            "marker": {
             "colorbar": {
              "outlinewidth": 0,
              "ticks": ""
             }
            },
            "type": "scatterpolar"
           }
          ],
          "scatterpolargl": [
           {
            "marker": {
             "colorbar": {
              "outlinewidth": 0,
              "ticks": ""
             }
            },
            "type": "scatterpolargl"
           }
          ],
          "scatterternary": [
           {
            "marker": {
             "colorbar": {
              "outlinewidth": 0,
              "ticks": ""
             }
            },
            "type": "scatterternary"
           }
          ],
          "surface": [
           {
            "colorbar": {
             "outlinewidth": 0,
             "ticks": ""
            },
            "colorscale": [
             [
              0,
              "#0d0887"
             ],
             [
              0.1111111111111111,
              "#46039f"
             ],
             [
              0.2222222222222222,
              "#7201a8"
             ],
             [
              0.3333333333333333,
              "#9c179e"
             ],
             [
              0.4444444444444444,
              "#bd3786"
             ],
             [
              0.5555555555555556,
              "#d8576b"
             ],
             [
              0.6666666666666666,
              "#ed7953"
             ],
             [
              0.7777777777777778,
              "#fb9f3a"
             ],
             [
              0.8888888888888888,
              "#fdca26"
             ],
             [
              1,
              "#f0f921"
             ]
            ],
            "type": "surface"
           }
          ],
          "table": [
           {
            "cells": {
             "fill": {
              "color": "#EBF0F8"
             },
             "line": {
              "color": "white"
             }
            },
            "header": {
             "fill": {
              "color": "#C8D4E3"
             },
             "line": {
              "color": "white"
             }
            },
            "type": "table"
           }
          ]
         },
         "layout": {
          "annotationdefaults": {
           "arrowcolor": "#2a3f5f",
           "arrowhead": 0,
           "arrowwidth": 1
          },
          "autotypenumbers": "strict",
          "coloraxis": {
           "colorbar": {
            "outlinewidth": 0,
            "ticks": ""
           }
          },
          "colorscale": {
           "diverging": [
            [
             0,
             "#8e0152"
            ],
            [
             0.1,
             "#c51b7d"
            ],
            [
             0.2,
             "#de77ae"
            ],
            [
             0.3,
             "#f1b6da"
            ],
            [
             0.4,
             "#fde0ef"
            ],
            [
             0.5,
             "#f7f7f7"
            ],
            [
             0.6,
             "#e6f5d0"
            ],
            [
             0.7,
             "#b8e186"
            ],
            [
             0.8,
             "#7fbc41"
            ],
            [
             0.9,
             "#4d9221"
            ],
            [
             1,
             "#276419"
            ]
           ],
           "sequential": [
            [
             0,
             "#0d0887"
            ],
            [
             0.1111111111111111,
             "#46039f"
            ],
            [
             0.2222222222222222,
             "#7201a8"
            ],
            [
             0.3333333333333333,
             "#9c179e"
            ],
            [
             0.4444444444444444,
             "#bd3786"
            ],
            [
             0.5555555555555556,
             "#d8576b"
            ],
            [
             0.6666666666666666,
             "#ed7953"
            ],
            [
             0.7777777777777778,
             "#fb9f3a"
            ],
            [
             0.8888888888888888,
             "#fdca26"
            ],
            [
             1,
             "#f0f921"
            ]
           ],
           "sequentialminus": [
            [
             0,
             "#0d0887"
            ],
            [
             0.1111111111111111,
             "#46039f"
            ],
            [
             0.2222222222222222,
             "#7201a8"
            ],
            [
             0.3333333333333333,
             "#9c179e"
            ],
            [
             0.4444444444444444,
             "#bd3786"
            ],
            [
             0.5555555555555556,
             "#d8576b"
            ],
            [
             0.6666666666666666,
             "#ed7953"
            ],
            [
             0.7777777777777778,
             "#fb9f3a"
            ],
            [
             0.8888888888888888,
             "#fdca26"
            ],
            [
             1,
             "#f0f921"
            ]
           ]
          },
          "colorway": [
           "#636efa",
           "#EF553B",
           "#00cc96",
           "#ab63fa",
           "#FFA15A",
           "#19d3f3",
           "#FF6692",
           "#B6E880",
           "#FF97FF",
           "#FECB52"
          ],
          "font": {
           "color": "#2a3f5f"
          },
          "geo": {
           "bgcolor": "white",
           "lakecolor": "white",
           "landcolor": "#E5ECF6",
           "showlakes": true,
           "showland": true,
           "subunitcolor": "white"
          },
          "hoverlabel": {
           "align": "left"
          },
          "hovermode": "closest",
          "mapbox": {
           "style": "light"
          },
          "paper_bgcolor": "white",
          "plot_bgcolor": "#E5ECF6",
          "polar": {
           "angularaxis": {
            "gridcolor": "white",
            "linecolor": "white",
            "ticks": ""
           },
           "bgcolor": "#E5ECF6",
           "radialaxis": {
            "gridcolor": "white",
            "linecolor": "white",
            "ticks": ""
           }
          },
          "scene": {
           "xaxis": {
            "backgroundcolor": "#E5ECF6",
            "gridcolor": "white",
            "gridwidth": 2,
            "linecolor": "white",
            "showbackground": true,
            "ticks": "",
            "zerolinecolor": "white"
           },
           "yaxis": {
            "backgroundcolor": "#E5ECF6",
            "gridcolor": "white",
            "gridwidth": 2,
            "linecolor": "white",
            "showbackground": true,
            "ticks": "",
            "zerolinecolor": "white"
           },
           "zaxis": {
            "backgroundcolor": "#E5ECF6",
            "gridcolor": "white",
            "gridwidth": 2,
            "linecolor": "white",
            "showbackground": true,
            "ticks": "",
            "zerolinecolor": "white"
           }
          },
          "shapedefaults": {
           "line": {
            "color": "#2a3f5f"
           }
          },
          "ternary": {
           "aaxis": {
            "gridcolor": "white",
            "linecolor": "white",
            "ticks": ""
           },
           "baxis": {
            "gridcolor": "white",
            "linecolor": "white",
            "ticks": ""
           },
           "bgcolor": "#E5ECF6",
           "caxis": {
            "gridcolor": "white",
            "linecolor": "white",
            "ticks": ""
           }
          },
          "title": {
           "x": 0.05
          },
          "xaxis": {
           "automargin": true,
           "gridcolor": "white",
           "linecolor": "white",
           "ticks": "",
           "title": {
            "standoff": 15
           },
           "zerolinecolor": "white",
           "zerolinewidth": 2
          },
          "yaxis": {
           "automargin": true,
           "gridcolor": "white",
           "linecolor": "white",
           "ticks": "",
           "title": {
            "standoff": 15
           },
           "zerolinecolor": "white",
           "zerolinewidth": 2
          }
         }
        },
        "title": {
         "text": "Countplot of Target"
        },
        "xaxis": {
         "title": {
          "text": "Risk"
         }
        },
        "yaxis": {
         "title": {
          "text": "count"
         }
        }
       }
      }
     },
     "metadata": {},
     "output_type": "display_data"
    }
   ],
   "source": [
    "target_count = train['Risk'].value_counts().reset_index()\n",
    "\n",
    "fig=go.Figure(go.Bar(\n",
    "    x=target_count['Risk'], y=target_count['count'], text=target_count['Risk'], #marker={'color': target_count['Risk']},\n",
    "    textposition='outside')\n",
    "            )\n",
    "fig.update_layout(title_text = 'Countplot of Target', xaxis_title ='Risk' , yaxis_title ='count')\n",
    "fig.show()"
   ]
  },
  {
   "cell_type": "code",
   "execution_count": 13,
   "metadata": {},
   "outputs": [
    {
     "data": {
      "application/vnd.plotly.v1+json": {
       "config": {
        "plotlyServerURL": "https://plot.ly"
       },
       "data": [
        {
         "text": [
          690,
          310
         ],
         "textposition": "outside",
         "type": "bar",
         "x": [
          "male",
          "female"
         ],
         "y": [
          690,
          310
         ]
        }
       ],
       "layout": {
        "template": {
         "data": {
          "bar": [
           {
            "error_x": {
             "color": "#2a3f5f"
            },
            "error_y": {
             "color": "#2a3f5f"
            },
            "marker": {
             "line": {
              "color": "#E5ECF6",
              "width": 0.5
             },
             "pattern": {
              "fillmode": "overlay",
              "size": 10,
              "solidity": 0.2
             }
            },
            "type": "bar"
           }
          ],
          "barpolar": [
           {
            "marker": {
             "line": {
              "color": "#E5ECF6",
              "width": 0.5
             },
             "pattern": {
              "fillmode": "overlay",
              "size": 10,
              "solidity": 0.2
             }
            },
            "type": "barpolar"
           }
          ],
          "carpet": [
           {
            "aaxis": {
             "endlinecolor": "#2a3f5f",
             "gridcolor": "white",
             "linecolor": "white",
             "minorgridcolor": "white",
             "startlinecolor": "#2a3f5f"
            },
            "baxis": {
             "endlinecolor": "#2a3f5f",
             "gridcolor": "white",
             "linecolor": "white",
             "minorgridcolor": "white",
             "startlinecolor": "#2a3f5f"
            },
            "type": "carpet"
           }
          ],
          "choropleth": [
           {
            "colorbar": {
             "outlinewidth": 0,
             "ticks": ""
            },
            "type": "choropleth"
           }
          ],
          "contour": [
           {
            "colorbar": {
             "outlinewidth": 0,
             "ticks": ""
            },
            "colorscale": [
             [
              0,
              "#0d0887"
             ],
             [
              0.1111111111111111,
              "#46039f"
             ],
             [
              0.2222222222222222,
              "#7201a8"
             ],
             [
              0.3333333333333333,
              "#9c179e"
             ],
             [
              0.4444444444444444,
              "#bd3786"
             ],
             [
              0.5555555555555556,
              "#d8576b"
             ],
             [
              0.6666666666666666,
              "#ed7953"
             ],
             [
              0.7777777777777778,
              "#fb9f3a"
             ],
             [
              0.8888888888888888,
              "#fdca26"
             ],
             [
              1,
              "#f0f921"
             ]
            ],
            "type": "contour"
           }
          ],
          "contourcarpet": [
           {
            "colorbar": {
             "outlinewidth": 0,
             "ticks": ""
            },
            "type": "contourcarpet"
           }
          ],
          "heatmap": [
           {
            "colorbar": {
             "outlinewidth": 0,
             "ticks": ""
            },
            "colorscale": [
             [
              0,
              "#0d0887"
             ],
             [
              0.1111111111111111,
              "#46039f"
             ],
             [
              0.2222222222222222,
              "#7201a8"
             ],
             [
              0.3333333333333333,
              "#9c179e"
             ],
             [
              0.4444444444444444,
              "#bd3786"
             ],
             [
              0.5555555555555556,
              "#d8576b"
             ],
             [
              0.6666666666666666,
              "#ed7953"
             ],
             [
              0.7777777777777778,
              "#fb9f3a"
             ],
             [
              0.8888888888888888,
              "#fdca26"
             ],
             [
              1,
              "#f0f921"
             ]
            ],
            "type": "heatmap"
           }
          ],
          "heatmapgl": [
           {
            "colorbar": {
             "outlinewidth": 0,
             "ticks": ""
            },
            "colorscale": [
             [
              0,
              "#0d0887"
             ],
             [
              0.1111111111111111,
              "#46039f"
             ],
             [
              0.2222222222222222,
              "#7201a8"
             ],
             [
              0.3333333333333333,
              "#9c179e"
             ],
             [
              0.4444444444444444,
              "#bd3786"
             ],
             [
              0.5555555555555556,
              "#d8576b"
             ],
             [
              0.6666666666666666,
              "#ed7953"
             ],
             [
              0.7777777777777778,
              "#fb9f3a"
             ],
             [
              0.8888888888888888,
              "#fdca26"
             ],
             [
              1,
              "#f0f921"
             ]
            ],
            "type": "heatmapgl"
           }
          ],
          "histogram": [
           {
            "marker": {
             "pattern": {
              "fillmode": "overlay",
              "size": 10,
              "solidity": 0.2
             }
            },
            "type": "histogram"
           }
          ],
          "histogram2d": [
           {
            "colorbar": {
             "outlinewidth": 0,
             "ticks": ""
            },
            "colorscale": [
             [
              0,
              "#0d0887"
             ],
             [
              0.1111111111111111,
              "#46039f"
             ],
             [
              0.2222222222222222,
              "#7201a8"
             ],
             [
              0.3333333333333333,
              "#9c179e"
             ],
             [
              0.4444444444444444,
              "#bd3786"
             ],
             [
              0.5555555555555556,
              "#d8576b"
             ],
             [
              0.6666666666666666,
              "#ed7953"
             ],
             [
              0.7777777777777778,
              "#fb9f3a"
             ],
             [
              0.8888888888888888,
              "#fdca26"
             ],
             [
              1,
              "#f0f921"
             ]
            ],
            "type": "histogram2d"
           }
          ],
          "histogram2dcontour": [
           {
            "colorbar": {
             "outlinewidth": 0,
             "ticks": ""
            },
            "colorscale": [
             [
              0,
              "#0d0887"
             ],
             [
              0.1111111111111111,
              "#46039f"
             ],
             [
              0.2222222222222222,
              "#7201a8"
             ],
             [
              0.3333333333333333,
              "#9c179e"
             ],
             [
              0.4444444444444444,
              "#bd3786"
             ],
             [
              0.5555555555555556,
              "#d8576b"
             ],
             [
              0.6666666666666666,
              "#ed7953"
             ],
             [
              0.7777777777777778,
              "#fb9f3a"
             ],
             [
              0.8888888888888888,
              "#fdca26"
             ],
             [
              1,
              "#f0f921"
             ]
            ],
            "type": "histogram2dcontour"
           }
          ],
          "mesh3d": [
           {
            "colorbar": {
             "outlinewidth": 0,
             "ticks": ""
            },
            "type": "mesh3d"
           }
          ],
          "parcoords": [
           {
            "line": {
             "colorbar": {
              "outlinewidth": 0,
              "ticks": ""
             }
            },
            "type": "parcoords"
           }
          ],
          "pie": [
           {
            "automargin": true,
            "type": "pie"
           }
          ],
          "scatter": [
           {
            "fillpattern": {
             "fillmode": "overlay",
             "size": 10,
             "solidity": 0.2
            },
            "type": "scatter"
           }
          ],
          "scatter3d": [
           {
            "line": {
             "colorbar": {
              "outlinewidth": 0,
              "ticks": ""
             }
            },
            "marker": {
             "colorbar": {
              "outlinewidth": 0,
              "ticks": ""
             }
            },
            "type": "scatter3d"
           }
          ],
          "scattercarpet": [
           {
            "marker": {
             "colorbar": {
              "outlinewidth": 0,
              "ticks": ""
             }
            },
            "type": "scattercarpet"
           }
          ],
          "scattergeo": [
           {
            "marker": {
             "colorbar": {
              "outlinewidth": 0,
              "ticks": ""
             }
            },
            "type": "scattergeo"
           }
          ],
          "scattergl": [
           {
            "marker": {
             "colorbar": {
              "outlinewidth": 0,
              "ticks": ""
             }
            },
            "type": "scattergl"
           }
          ],
          "scattermapbox": [
           {
            "marker": {
             "colorbar": {
              "outlinewidth": 0,
              "ticks": ""
             }
            },
            "type": "scattermapbox"
           }
          ],
          "scatterpolar": [
           {
            "marker": {
             "colorbar": {
              "outlinewidth": 0,
              "ticks": ""
             }
            },
            "type": "scatterpolar"
           }
          ],
          "scatterpolargl": [
           {
            "marker": {
             "colorbar": {
              "outlinewidth": 0,
              "ticks": ""
             }
            },
            "type": "scatterpolargl"
           }
          ],
          "scatterternary": [
           {
            "marker": {
             "colorbar": {
              "outlinewidth": 0,
              "ticks": ""
             }
            },
            "type": "scatterternary"
           }
          ],
          "surface": [
           {
            "colorbar": {
             "outlinewidth": 0,
             "ticks": ""
            },
            "colorscale": [
             [
              0,
              "#0d0887"
             ],
             [
              0.1111111111111111,
              "#46039f"
             ],
             [
              0.2222222222222222,
              "#7201a8"
             ],
             [
              0.3333333333333333,
              "#9c179e"
             ],
             [
              0.4444444444444444,
              "#bd3786"
             ],
             [
              0.5555555555555556,
              "#d8576b"
             ],
             [
              0.6666666666666666,
              "#ed7953"
             ],
             [
              0.7777777777777778,
              "#fb9f3a"
             ],
             [
              0.8888888888888888,
              "#fdca26"
             ],
             [
              1,
              "#f0f921"
             ]
            ],
            "type": "surface"
           }
          ],
          "table": [
           {
            "cells": {
             "fill": {
              "color": "#EBF0F8"
             },
             "line": {
              "color": "white"
             }
            },
            "header": {
             "fill": {
              "color": "#C8D4E3"
             },
             "line": {
              "color": "white"
             }
            },
            "type": "table"
           }
          ]
         },
         "layout": {
          "annotationdefaults": {
           "arrowcolor": "#2a3f5f",
           "arrowhead": 0,
           "arrowwidth": 1
          },
          "autotypenumbers": "strict",
          "coloraxis": {
           "colorbar": {
            "outlinewidth": 0,
            "ticks": ""
           }
          },
          "colorscale": {
           "diverging": [
            [
             0,
             "#8e0152"
            ],
            [
             0.1,
             "#c51b7d"
            ],
            [
             0.2,
             "#de77ae"
            ],
            [
             0.3,
             "#f1b6da"
            ],
            [
             0.4,
             "#fde0ef"
            ],
            [
             0.5,
             "#f7f7f7"
            ],
            [
             0.6,
             "#e6f5d0"
            ],
            [
             0.7,
             "#b8e186"
            ],
            [
             0.8,
             "#7fbc41"
            ],
            [
             0.9,
             "#4d9221"
            ],
            [
             1,
             "#276419"
            ]
           ],
           "sequential": [
            [
             0,
             "#0d0887"
            ],
            [
             0.1111111111111111,
             "#46039f"
            ],
            [
             0.2222222222222222,
             "#7201a8"
            ],
            [
             0.3333333333333333,
             "#9c179e"
            ],
            [
             0.4444444444444444,
             "#bd3786"
            ],
            [
             0.5555555555555556,
             "#d8576b"
            ],
            [
             0.6666666666666666,
             "#ed7953"
            ],
            [
             0.7777777777777778,
             "#fb9f3a"
            ],
            [
             0.8888888888888888,
             "#fdca26"
            ],
            [
             1,
             "#f0f921"
            ]
           ],
           "sequentialminus": [
            [
             0,
             "#0d0887"
            ],
            [
             0.1111111111111111,
             "#46039f"
            ],
            [
             0.2222222222222222,
             "#7201a8"
            ],
            [
             0.3333333333333333,
             "#9c179e"
            ],
            [
             0.4444444444444444,
             "#bd3786"
            ],
            [
             0.5555555555555556,
             "#d8576b"
            ],
            [
             0.6666666666666666,
             "#ed7953"
            ],
            [
             0.7777777777777778,
             "#fb9f3a"
            ],
            [
             0.8888888888888888,
             "#fdca26"
            ],
            [
             1,
             "#f0f921"
            ]
           ]
          },
          "colorway": [
           "#636efa",
           "#EF553B",
           "#00cc96",
           "#ab63fa",
           "#FFA15A",
           "#19d3f3",
           "#FF6692",
           "#B6E880",
           "#FF97FF",
           "#FECB52"
          ],
          "font": {
           "color": "#2a3f5f"
          },
          "geo": {
           "bgcolor": "white",
           "lakecolor": "white",
           "landcolor": "#E5ECF6",
           "showlakes": true,
           "showland": true,
           "subunitcolor": "white"
          },
          "hoverlabel": {
           "align": "left"
          },
          "hovermode": "closest",
          "mapbox": {
           "style": "light"
          },
          "paper_bgcolor": "white",
          "plot_bgcolor": "#E5ECF6",
          "polar": {
           "angularaxis": {
            "gridcolor": "white",
            "linecolor": "white",
            "ticks": ""
           },
           "bgcolor": "#E5ECF6",
           "radialaxis": {
            "gridcolor": "white",
            "linecolor": "white",
            "ticks": ""
           }
          },
          "scene": {
           "xaxis": {
            "backgroundcolor": "#E5ECF6",
            "gridcolor": "white",
            "gridwidth": 2,
            "linecolor": "white",
            "showbackground": true,
            "ticks": "",
            "zerolinecolor": "white"
           },
           "yaxis": {
            "backgroundcolor": "#E5ECF6",
            "gridcolor": "white",
            "gridwidth": 2,
            "linecolor": "white",
            "showbackground": true,
            "ticks": "",
            "zerolinecolor": "white"
           },
           "zaxis": {
            "backgroundcolor": "#E5ECF6",
            "gridcolor": "white",
            "gridwidth": 2,
            "linecolor": "white",
            "showbackground": true,
            "ticks": "",
            "zerolinecolor": "white"
           }
          },
          "shapedefaults": {
           "line": {
            "color": "#2a3f5f"
           }
          },
          "ternary": {
           "aaxis": {
            "gridcolor": "white",
            "linecolor": "white",
            "ticks": ""
           },
           "baxis": {
            "gridcolor": "white",
            "linecolor": "white",
            "ticks": ""
           },
           "bgcolor": "#E5ECF6",
           "caxis": {
            "gridcolor": "white",
            "linecolor": "white",
            "ticks": ""
           }
          },
          "title": {
           "x": 0.05
          },
          "xaxis": {
           "automargin": true,
           "gridcolor": "white",
           "linecolor": "white",
           "ticks": "",
           "title": {
            "standoff": 15
           },
           "zerolinecolor": "white",
           "zerolinewidth": 2
          },
          "yaxis": {
           "automargin": true,
           "gridcolor": "white",
           "linecolor": "white",
           "ticks": "",
           "title": {
            "standoff": 15
           },
           "zerolinecolor": "white",
           "zerolinewidth": 2
          }
         }
        },
        "title": {
         "text": "COuntplot of Sex"
        },
        "xaxis": {
         "title": {
          "text": "SEx"
         }
        },
        "yaxis": {
         "title": {
          "text": "Count"
         }
        }
       }
      }
     },
     "metadata": {},
     "output_type": "display_data"
    },
    {
     "data": {
      "application/vnd.plotly.v1+json": {
       "config": {
        "plotlyServerURL": "https://plot.ly"
       },
       "data": [
        {
         "text": [
          337,
          280,
          181,
          97,
          59,
          22,
          12,
          12
         ],
         "textposition": "outside",
         "type": "bar",
         "x": [
          "car",
          "radio/TV",
          "furniture/equipment",
          "business",
          "education",
          "repairs",
          "domestic appliances",
          "vacation/others"
         ],
         "y": [
          337,
          280,
          181,
          97,
          59,
          22,
          12,
          12
         ]
        }
       ],
       "layout": {
        "template": {
         "data": {
          "bar": [
           {
            "error_x": {
             "color": "#2a3f5f"
            },
            "error_y": {
             "color": "#2a3f5f"
            },
            "marker": {
             "line": {
              "color": "#E5ECF6",
              "width": 0.5
             },
             "pattern": {
              "fillmode": "overlay",
              "size": 10,
              "solidity": 0.2
             }
            },
            "type": "bar"
           }
          ],
          "barpolar": [
           {
            "marker": {
             "line": {
              "color": "#E5ECF6",
              "width": 0.5
             },
             "pattern": {
              "fillmode": "overlay",
              "size": 10,
              "solidity": 0.2
             }
            },
            "type": "barpolar"
           }
          ],
          "carpet": [
           {
            "aaxis": {
             "endlinecolor": "#2a3f5f",
             "gridcolor": "white",
             "linecolor": "white",
             "minorgridcolor": "white",
             "startlinecolor": "#2a3f5f"
            },
            "baxis": {
             "endlinecolor": "#2a3f5f",
             "gridcolor": "white",
             "linecolor": "white",
             "minorgridcolor": "white",
             "startlinecolor": "#2a3f5f"
            },
            "type": "carpet"
           }
          ],
          "choropleth": [
           {
            "colorbar": {
             "outlinewidth": 0,
             "ticks": ""
            },
            "type": "choropleth"
           }
          ],
          "contour": [
           {
            "colorbar": {
             "outlinewidth": 0,
             "ticks": ""
            },
            "colorscale": [
             [
              0,
              "#0d0887"
             ],
             [
              0.1111111111111111,
              "#46039f"
             ],
             [
              0.2222222222222222,
              "#7201a8"
             ],
             [
              0.3333333333333333,
              "#9c179e"
             ],
             [
              0.4444444444444444,
              "#bd3786"
             ],
             [
              0.5555555555555556,
              "#d8576b"
             ],
             [
              0.6666666666666666,
              "#ed7953"
             ],
             [
              0.7777777777777778,
              "#fb9f3a"
             ],
             [
              0.8888888888888888,
              "#fdca26"
             ],
             [
              1,
              "#f0f921"
             ]
            ],
            "type": "contour"
           }
          ],
          "contourcarpet": [
           {
            "colorbar": {
             "outlinewidth": 0,
             "ticks": ""
            },
            "type": "contourcarpet"
           }
          ],
          "heatmap": [
           {
            "colorbar": {
             "outlinewidth": 0,
             "ticks": ""
            },
            "colorscale": [
             [
              0,
              "#0d0887"
             ],
             [
              0.1111111111111111,
              "#46039f"
             ],
             [
              0.2222222222222222,
              "#7201a8"
             ],
             [
              0.3333333333333333,
              "#9c179e"
             ],
             [
              0.4444444444444444,
              "#bd3786"
             ],
             [
              0.5555555555555556,
              "#d8576b"
             ],
             [
              0.6666666666666666,
              "#ed7953"
             ],
             [
              0.7777777777777778,
              "#fb9f3a"
             ],
             [
              0.8888888888888888,
              "#fdca26"
             ],
             [
              1,
              "#f0f921"
             ]
            ],
            "type": "heatmap"
           }
          ],
          "heatmapgl": [
           {
            "colorbar": {
             "outlinewidth": 0,
             "ticks": ""
            },
            "colorscale": [
             [
              0,
              "#0d0887"
             ],
             [
              0.1111111111111111,
              "#46039f"
             ],
             [
              0.2222222222222222,
              "#7201a8"
             ],
             [
              0.3333333333333333,
              "#9c179e"
             ],
             [
              0.4444444444444444,
              "#bd3786"
             ],
             [
              0.5555555555555556,
              "#d8576b"
             ],
             [
              0.6666666666666666,
              "#ed7953"
             ],
             [
              0.7777777777777778,
              "#fb9f3a"
             ],
             [
              0.8888888888888888,
              "#fdca26"
             ],
             [
              1,
              "#f0f921"
             ]
            ],
            "type": "heatmapgl"
           }
          ],
          "histogram": [
           {
            "marker": {
             "pattern": {
              "fillmode": "overlay",
              "size": 10,
              "solidity": 0.2
             }
            },
            "type": "histogram"
           }
          ],
          "histogram2d": [
           {
            "colorbar": {
             "outlinewidth": 0,
             "ticks": ""
            },
            "colorscale": [
             [
              0,
              "#0d0887"
             ],
             [
              0.1111111111111111,
              "#46039f"
             ],
             [
              0.2222222222222222,
              "#7201a8"
             ],
             [
              0.3333333333333333,
              "#9c179e"
             ],
             [
              0.4444444444444444,
              "#bd3786"
             ],
             [
              0.5555555555555556,
              "#d8576b"
             ],
             [
              0.6666666666666666,
              "#ed7953"
             ],
             [
              0.7777777777777778,
              "#fb9f3a"
             ],
             [
              0.8888888888888888,
              "#fdca26"
             ],
             [
              1,
              "#f0f921"
             ]
            ],
            "type": "histogram2d"
           }
          ],
          "histogram2dcontour": [
           {
            "colorbar": {
             "outlinewidth": 0,
             "ticks": ""
            },
            "colorscale": [
             [
              0,
              "#0d0887"
             ],
             [
              0.1111111111111111,
              "#46039f"
             ],
             [
              0.2222222222222222,
              "#7201a8"
             ],
             [
              0.3333333333333333,
              "#9c179e"
             ],
             [
              0.4444444444444444,
              "#bd3786"
             ],
             [
              0.5555555555555556,
              "#d8576b"
             ],
             [
              0.6666666666666666,
              "#ed7953"
             ],
             [
              0.7777777777777778,
              "#fb9f3a"
             ],
             [
              0.8888888888888888,
              "#fdca26"
             ],
             [
              1,
              "#f0f921"
             ]
            ],
            "type": "histogram2dcontour"
           }
          ],
          "mesh3d": [
           {
            "colorbar": {
             "outlinewidth": 0,
             "ticks": ""
            },
            "type": "mesh3d"
           }
          ],
          "parcoords": [
           {
            "line": {
             "colorbar": {
              "outlinewidth": 0,
              "ticks": ""
             }
            },
            "type": "parcoords"
           }
          ],
          "pie": [
           {
            "automargin": true,
            "type": "pie"
           }
          ],
          "scatter": [
           {
            "fillpattern": {
             "fillmode": "overlay",
             "size": 10,
             "solidity": 0.2
            },
            "type": "scatter"
           }
          ],
          "scatter3d": [
           {
            "line": {
             "colorbar": {
              "outlinewidth": 0,
              "ticks": ""
             }
            },
            "marker": {
             "colorbar": {
              "outlinewidth": 0,
              "ticks": ""
             }
            },
            "type": "scatter3d"
           }
          ],
          "scattercarpet": [
           {
            "marker": {
             "colorbar": {
              "outlinewidth": 0,
              "ticks": ""
             }
            },
            "type": "scattercarpet"
           }
          ],
          "scattergeo": [
           {
            "marker": {
             "colorbar": {
              "outlinewidth": 0,
              "ticks": ""
             }
            },
            "type": "scattergeo"
           }
          ],
          "scattergl": [
           {
            "marker": {
             "colorbar": {
              "outlinewidth": 0,
              "ticks": ""
             }
            },
            "type": "scattergl"
           }
          ],
          "scattermapbox": [
           {
            "marker": {
             "colorbar": {
              "outlinewidth": 0,
              "ticks": ""
             }
            },
            "type": "scattermapbox"
           }
          ],
          "scatterpolar": [
           {
            "marker": {
             "colorbar": {
              "outlinewidth": 0,
              "ticks": ""
             }
            },
            "type": "scatterpolar"
           }
          ],
          "scatterpolargl": [
           {
            "marker": {
             "colorbar": {
              "outlinewidth": 0,
              "ticks": ""
             }
            },
            "type": "scatterpolargl"
           }
          ],
          "scatterternary": [
           {
            "marker": {
             "colorbar": {
              "outlinewidth": 0,
              "ticks": ""
             }
            },
            "type": "scatterternary"
           }
          ],
          "surface": [
           {
            "colorbar": {
             "outlinewidth": 0,
             "ticks": ""
            },
            "colorscale": [
             [
              0,
              "#0d0887"
             ],
             [
              0.1111111111111111,
              "#46039f"
             ],
             [
              0.2222222222222222,
              "#7201a8"
             ],
             [
              0.3333333333333333,
              "#9c179e"
             ],
             [
              0.4444444444444444,
              "#bd3786"
             ],
             [
              0.5555555555555556,
              "#d8576b"
             ],
             [
              0.6666666666666666,
              "#ed7953"
             ],
             [
              0.7777777777777778,
              "#fb9f3a"
             ],
             [
              0.8888888888888888,
              "#fdca26"
             ],
             [
              1,
              "#f0f921"
             ]
            ],
            "type": "surface"
           }
          ],
          "table": [
           {
            "cells": {
             "fill": {
              "color": "#EBF0F8"
             },
             "line": {
              "color": "white"
             }
            },
            "header": {
             "fill": {
              "color": "#C8D4E3"
             },
             "line": {
              "color": "white"
             }
            },
            "type": "table"
           }
          ]
         },
         "layout": {
          "annotationdefaults": {
           "arrowcolor": "#2a3f5f",
           "arrowhead": 0,
           "arrowwidth": 1
          },
          "autotypenumbers": "strict",
          "coloraxis": {
           "colorbar": {
            "outlinewidth": 0,
            "ticks": ""
           }
          },
          "colorscale": {
           "diverging": [
            [
             0,
             "#8e0152"
            ],
            [
             0.1,
             "#c51b7d"
            ],
            [
             0.2,
             "#de77ae"
            ],
            [
             0.3,
             "#f1b6da"
            ],
            [
             0.4,
             "#fde0ef"
            ],
            [
             0.5,
             "#f7f7f7"
            ],
            [
             0.6,
             "#e6f5d0"
            ],
            [
             0.7,
             "#b8e186"
            ],
            [
             0.8,
             "#7fbc41"
            ],
            [
             0.9,
             "#4d9221"
            ],
            [
             1,
             "#276419"
            ]
           ],
           "sequential": [
            [
             0,
             "#0d0887"
            ],
            [
             0.1111111111111111,
             "#46039f"
            ],
            [
             0.2222222222222222,
             "#7201a8"
            ],
            [
             0.3333333333333333,
             "#9c179e"
            ],
            [
             0.4444444444444444,
             "#bd3786"
            ],
            [
             0.5555555555555556,
             "#d8576b"
            ],
            [
             0.6666666666666666,
             "#ed7953"
            ],
            [
             0.7777777777777778,
             "#fb9f3a"
            ],
            [
             0.8888888888888888,
             "#fdca26"
            ],
            [
             1,
             "#f0f921"
            ]
           ],
           "sequentialminus": [
            [
             0,
             "#0d0887"
            ],
            [
             0.1111111111111111,
             "#46039f"
            ],
            [
             0.2222222222222222,
             "#7201a8"
            ],
            [
             0.3333333333333333,
             "#9c179e"
            ],
            [
             0.4444444444444444,
             "#bd3786"
            ],
            [
             0.5555555555555556,
             "#d8576b"
            ],
            [
             0.6666666666666666,
             "#ed7953"
            ],
            [
             0.7777777777777778,
             "#fb9f3a"
            ],
            [
             0.8888888888888888,
             "#fdca26"
            ],
            [
             1,
             "#f0f921"
            ]
           ]
          },
          "colorway": [
           "#636efa",
           "#EF553B",
           "#00cc96",
           "#ab63fa",
           "#FFA15A",
           "#19d3f3",
           "#FF6692",
           "#B6E880",
           "#FF97FF",
           "#FECB52"
          ],
          "font": {
           "color": "#2a3f5f"
          },
          "geo": {
           "bgcolor": "white",
           "lakecolor": "white",
           "landcolor": "#E5ECF6",
           "showlakes": true,
           "showland": true,
           "subunitcolor": "white"
          },
          "hoverlabel": {
           "align": "left"
          },
          "hovermode": "closest",
          "mapbox": {
           "style": "light"
          },
          "paper_bgcolor": "white",
          "plot_bgcolor": "#E5ECF6",
          "polar": {
           "angularaxis": {
            "gridcolor": "white",
            "linecolor": "white",
            "ticks": ""
           },
           "bgcolor": "#E5ECF6",
           "radialaxis": {
            "gridcolor": "white",
            "linecolor": "white",
            "ticks": ""
           }
          },
          "scene": {
           "xaxis": {
            "backgroundcolor": "#E5ECF6",
            "gridcolor": "white",
            "gridwidth": 2,
            "linecolor": "white",
            "showbackground": true,
            "ticks": "",
            "zerolinecolor": "white"
           },
           "yaxis": {
            "backgroundcolor": "#E5ECF6",
            "gridcolor": "white",
            "gridwidth": 2,
            "linecolor": "white",
            "showbackground": true,
            "ticks": "",
            "zerolinecolor": "white"
           },
           "zaxis": {
            "backgroundcolor": "#E5ECF6",
            "gridcolor": "white",
            "gridwidth": 2,
            "linecolor": "white",
            "showbackground": true,
            "ticks": "",
            "zerolinecolor": "white"
           }
          },
          "shapedefaults": {
           "line": {
            "color": "#2a3f5f"
           }
          },
          "ternary": {
           "aaxis": {
            "gridcolor": "white",
            "linecolor": "white",
            "ticks": ""
           },
           "baxis": {
            "gridcolor": "white",
            "linecolor": "white",
            "ticks": ""
           },
           "bgcolor": "#E5ECF6",
           "caxis": {
            "gridcolor": "white",
            "linecolor": "white",
            "ticks": ""
           }
          },
          "title": {
           "x": 0.05
          },
          "xaxis": {
           "automargin": true,
           "gridcolor": "white",
           "linecolor": "white",
           "ticks": "",
           "title": {
            "standoff": 15
           },
           "zerolinecolor": "white",
           "zerolinewidth": 2
          },
          "yaxis": {
           "automargin": true,
           "gridcolor": "white",
           "linecolor": "white",
           "ticks": "",
           "title": {
            "standoff": 15
           },
           "zerolinecolor": "white",
           "zerolinewidth": 2
          }
         }
        },
        "title": {
         "text": "COuntplot of Purpose"
        },
        "xaxis": {
         "title": {
          "text": "Purpose"
         }
        },
        "yaxis": {
         "title": {
          "text": "Count"
         }
        }
       }
      }
     },
     "metadata": {},
     "output_type": "display_data"
    },
    {
     "data": {
      "application/vnd.plotly.v1+json": {
       "config": {
        "plotlyServerURL": "https://plot.ly"
       },
       "data": [
        {
         "text": [
          274,
          269,
          63
         ],
         "textposition": "outside",
         "type": "bar",
         "x": [
          "little",
          "moderate",
          "rich"
         ],
         "y": [
          274,
          269,
          63
         ]
        }
       ],
       "layout": {
        "template": {
         "data": {
          "bar": [
           {
            "error_x": {
             "color": "#2a3f5f"
            },
            "error_y": {
             "color": "#2a3f5f"
            },
            "marker": {
             "line": {
              "color": "#E5ECF6",
              "width": 0.5
             },
             "pattern": {
              "fillmode": "overlay",
              "size": 10,
              "solidity": 0.2
             }
            },
            "type": "bar"
           }
          ],
          "barpolar": [
           {
            "marker": {
             "line": {
              "color": "#E5ECF6",
              "width": 0.5
             },
             "pattern": {
              "fillmode": "overlay",
              "size": 10,
              "solidity": 0.2
             }
            },
            "type": "barpolar"
           }
          ],
          "carpet": [
           {
            "aaxis": {
             "endlinecolor": "#2a3f5f",
             "gridcolor": "white",
             "linecolor": "white",
             "minorgridcolor": "white",
             "startlinecolor": "#2a3f5f"
            },
            "baxis": {
             "endlinecolor": "#2a3f5f",
             "gridcolor": "white",
             "linecolor": "white",
             "minorgridcolor": "white",
             "startlinecolor": "#2a3f5f"
            },
            "type": "carpet"
           }
          ],
          "choropleth": [
           {
            "colorbar": {
             "outlinewidth": 0,
             "ticks": ""
            },
            "type": "choropleth"
           }
          ],
          "contour": [
           {
            "colorbar": {
             "outlinewidth": 0,
             "ticks": ""
            },
            "colorscale": [
             [
              0,
              "#0d0887"
             ],
             [
              0.1111111111111111,
              "#46039f"
             ],
             [
              0.2222222222222222,
              "#7201a8"
             ],
             [
              0.3333333333333333,
              "#9c179e"
             ],
             [
              0.4444444444444444,
              "#bd3786"
             ],
             [
              0.5555555555555556,
              "#d8576b"
             ],
             [
              0.6666666666666666,
              "#ed7953"
             ],
             [
              0.7777777777777778,
              "#fb9f3a"
             ],
             [
              0.8888888888888888,
              "#fdca26"
             ],
             [
              1,
              "#f0f921"
             ]
            ],
            "type": "contour"
           }
          ],
          "contourcarpet": [
           {
            "colorbar": {
             "outlinewidth": 0,
             "ticks": ""
            },
            "type": "contourcarpet"
           }
          ],
          "heatmap": [
           {
            "colorbar": {
             "outlinewidth": 0,
             "ticks": ""
            },
            "colorscale": [
             [
              0,
              "#0d0887"
             ],
             [
              0.1111111111111111,
              "#46039f"
             ],
             [
              0.2222222222222222,
              "#7201a8"
             ],
             [
              0.3333333333333333,
              "#9c179e"
             ],
             [
              0.4444444444444444,
              "#bd3786"
             ],
             [
              0.5555555555555556,
              "#d8576b"
             ],
             [
              0.6666666666666666,
              "#ed7953"
             ],
             [
              0.7777777777777778,
              "#fb9f3a"
             ],
             [
              0.8888888888888888,
              "#fdca26"
             ],
             [
              1,
              "#f0f921"
             ]
            ],
            "type": "heatmap"
           }
          ],
          "heatmapgl": [
           {
            "colorbar": {
             "outlinewidth": 0,
             "ticks": ""
            },
            "colorscale": [
             [
              0,
              "#0d0887"
             ],
             [
              0.1111111111111111,
              "#46039f"
             ],
             [
              0.2222222222222222,
              "#7201a8"
             ],
             [
              0.3333333333333333,
              "#9c179e"
             ],
             [
              0.4444444444444444,
              "#bd3786"
             ],
             [
              0.5555555555555556,
              "#d8576b"
             ],
             [
              0.6666666666666666,
              "#ed7953"
             ],
             [
              0.7777777777777778,
              "#fb9f3a"
             ],
             [
              0.8888888888888888,
              "#fdca26"
             ],
             [
              1,
              "#f0f921"
             ]
            ],
            "type": "heatmapgl"
           }
          ],
          "histogram": [
           {
            "marker": {
             "pattern": {
              "fillmode": "overlay",
              "size": 10,
              "solidity": 0.2
             }
            },
            "type": "histogram"
           }
          ],
          "histogram2d": [
           {
            "colorbar": {
             "outlinewidth": 0,
             "ticks": ""
            },
            "colorscale": [
             [
              0,
              "#0d0887"
             ],
             [
              0.1111111111111111,
              "#46039f"
             ],
             [
              0.2222222222222222,
              "#7201a8"
             ],
             [
              0.3333333333333333,
              "#9c179e"
             ],
             [
              0.4444444444444444,
              "#bd3786"
             ],
             [
              0.5555555555555556,
              "#d8576b"
             ],
             [
              0.6666666666666666,
              "#ed7953"
             ],
             [
              0.7777777777777778,
              "#fb9f3a"
             ],
             [
              0.8888888888888888,
              "#fdca26"
             ],
             [
              1,
              "#f0f921"
             ]
            ],
            "type": "histogram2d"
           }
          ],
          "histogram2dcontour": [
           {
            "colorbar": {
             "outlinewidth": 0,
             "ticks": ""
            },
            "colorscale": [
             [
              0,
              "#0d0887"
             ],
             [
              0.1111111111111111,
              "#46039f"
             ],
             [
              0.2222222222222222,
              "#7201a8"
             ],
             [
              0.3333333333333333,
              "#9c179e"
             ],
             [
              0.4444444444444444,
              "#bd3786"
             ],
             [
              0.5555555555555556,
              "#d8576b"
             ],
             [
              0.6666666666666666,
              "#ed7953"
             ],
             [
              0.7777777777777778,
              "#fb9f3a"
             ],
             [
              0.8888888888888888,
              "#fdca26"
             ],
             [
              1,
              "#f0f921"
             ]
            ],
            "type": "histogram2dcontour"
           }
          ],
          "mesh3d": [
           {
            "colorbar": {
             "outlinewidth": 0,
             "ticks": ""
            },
            "type": "mesh3d"
           }
          ],
          "parcoords": [
           {
            "line": {
             "colorbar": {
              "outlinewidth": 0,
              "ticks": ""
             }
            },
            "type": "parcoords"
           }
          ],
          "pie": [
           {
            "automargin": true,
            "type": "pie"
           }
          ],
          "scatter": [
           {
            "fillpattern": {
             "fillmode": "overlay",
             "size": 10,
             "solidity": 0.2
            },
            "type": "scatter"
           }
          ],
          "scatter3d": [
           {
            "line": {
             "colorbar": {
              "outlinewidth": 0,
              "ticks": ""
             }
            },
            "marker": {
             "colorbar": {
              "outlinewidth": 0,
              "ticks": ""
             }
            },
            "type": "scatter3d"
           }
          ],
          "scattercarpet": [
           {
            "marker": {
             "colorbar": {
              "outlinewidth": 0,
              "ticks": ""
             }
            },
            "type": "scattercarpet"
           }
          ],
          "scattergeo": [
           {
            "marker": {
             "colorbar": {
              "outlinewidth": 0,
              "ticks": ""
             }
            },
            "type": "scattergeo"
           }
          ],
          "scattergl": [
           {
            "marker": {
             "colorbar": {
              "outlinewidth": 0,
              "ticks": ""
             }
            },
            "type": "scattergl"
           }
          ],
          "scattermapbox": [
           {
            "marker": {
             "colorbar": {
              "outlinewidth": 0,
              "ticks": ""
             }
            },
            "type": "scattermapbox"
           }
          ],
          "scatterpolar": [
           {
            "marker": {
             "colorbar": {
              "outlinewidth": 0,
              "ticks": ""
             }
            },
            "type": "scatterpolar"
           }
          ],
          "scatterpolargl": [
           {
            "marker": {
             "colorbar": {
              "outlinewidth": 0,
              "ticks": ""
             }
            },
            "type": "scatterpolargl"
           }
          ],
          "scatterternary": [
           {
            "marker": {
             "colorbar": {
              "outlinewidth": 0,
              "ticks": ""
             }
            },
            "type": "scatterternary"
           }
          ],
          "surface": [
           {
            "colorbar": {
             "outlinewidth": 0,
             "ticks": ""
            },
            "colorscale": [
             [
              0,
              "#0d0887"
             ],
             [
              0.1111111111111111,
              "#46039f"
             ],
             [
              0.2222222222222222,
              "#7201a8"
             ],
             [
              0.3333333333333333,
              "#9c179e"
             ],
             [
              0.4444444444444444,
              "#bd3786"
             ],
             [
              0.5555555555555556,
              "#d8576b"
             ],
             [
              0.6666666666666666,
              "#ed7953"
             ],
             [
              0.7777777777777778,
              "#fb9f3a"
             ],
             [
              0.8888888888888888,
              "#fdca26"
             ],
             [
              1,
              "#f0f921"
             ]
            ],
            "type": "surface"
           }
          ],
          "table": [
           {
            "cells": {
             "fill": {
              "color": "#EBF0F8"
             },
             "line": {
              "color": "white"
             }
            },
            "header": {
             "fill": {
              "color": "#C8D4E3"
             },
             "line": {
              "color": "white"
             }
            },
            "type": "table"
           }
          ]
         },
         "layout": {
          "annotationdefaults": {
           "arrowcolor": "#2a3f5f",
           "arrowhead": 0,
           "arrowwidth": 1
          },
          "autotypenumbers": "strict",
          "coloraxis": {
           "colorbar": {
            "outlinewidth": 0,
            "ticks": ""
           }
          },
          "colorscale": {
           "diverging": [
            [
             0,
             "#8e0152"
            ],
            [
             0.1,
             "#c51b7d"
            ],
            [
             0.2,
             "#de77ae"
            ],
            [
             0.3,
             "#f1b6da"
            ],
            [
             0.4,
             "#fde0ef"
            ],
            [
             0.5,
             "#f7f7f7"
            ],
            [
             0.6,
             "#e6f5d0"
            ],
            [
             0.7,
             "#b8e186"
            ],
            [
             0.8,
             "#7fbc41"
            ],
            [
             0.9,
             "#4d9221"
            ],
            [
             1,
             "#276419"
            ]
           ],
           "sequential": [
            [
             0,
             "#0d0887"
            ],
            [
             0.1111111111111111,
             "#46039f"
            ],
            [
             0.2222222222222222,
             "#7201a8"
            ],
            [
             0.3333333333333333,
             "#9c179e"
            ],
            [
             0.4444444444444444,
             "#bd3786"
            ],
            [
             0.5555555555555556,
             "#d8576b"
            ],
            [
             0.6666666666666666,
             "#ed7953"
            ],
            [
             0.7777777777777778,
             "#fb9f3a"
            ],
            [
             0.8888888888888888,
             "#fdca26"
            ],
            [
             1,
             "#f0f921"
            ]
           ],
           "sequentialminus": [
            [
             0,
             "#0d0887"
            ],
            [
             0.1111111111111111,
             "#46039f"
            ],
            [
             0.2222222222222222,
             "#7201a8"
            ],
            [
             0.3333333333333333,
             "#9c179e"
            ],
            [
             0.4444444444444444,
             "#bd3786"
            ],
            [
             0.5555555555555556,
             "#d8576b"
            ],
            [
             0.6666666666666666,
             "#ed7953"
            ],
            [
             0.7777777777777778,
             "#fb9f3a"
            ],
            [
             0.8888888888888888,
             "#fdca26"
            ],
            [
             1,
             "#f0f921"
            ]
           ]
          },
          "colorway": [
           "#636efa",
           "#EF553B",
           "#00cc96",
           "#ab63fa",
           "#FFA15A",
           "#19d3f3",
           "#FF6692",
           "#B6E880",
           "#FF97FF",
           "#FECB52"
          ],
          "font": {
           "color": "#2a3f5f"
          },
          "geo": {
           "bgcolor": "white",
           "lakecolor": "white",
           "landcolor": "#E5ECF6",
           "showlakes": true,
           "showland": true,
           "subunitcolor": "white"
          },
          "hoverlabel": {
           "align": "left"
          },
          "hovermode": "closest",
          "mapbox": {
           "style": "light"
          },
          "paper_bgcolor": "white",
          "plot_bgcolor": "#E5ECF6",
          "polar": {
           "angularaxis": {
            "gridcolor": "white",
            "linecolor": "white",
            "ticks": ""
           },
           "bgcolor": "#E5ECF6",
           "radialaxis": {
            "gridcolor": "white",
            "linecolor": "white",
            "ticks": ""
           }
          },
          "scene": {
           "xaxis": {
            "backgroundcolor": "#E5ECF6",
            "gridcolor": "white",
            "gridwidth": 2,
            "linecolor": "white",
            "showbackground": true,
            "ticks": "",
            "zerolinecolor": "white"
           },
           "yaxis": {
            "backgroundcolor": "#E5ECF6",
            "gridcolor": "white",
            "gridwidth": 2,
            "linecolor": "white",
            "showbackground": true,
            "ticks": "",
            "zerolinecolor": "white"
           },
           "zaxis": {
            "backgroundcolor": "#E5ECF6",
            "gridcolor": "white",
            "gridwidth": 2,
            "linecolor": "white",
            "showbackground": true,
            "ticks": "",
            "zerolinecolor": "white"
           }
          },
          "shapedefaults": {
           "line": {
            "color": "#2a3f5f"
           }
          },
          "ternary": {
           "aaxis": {
            "gridcolor": "white",
            "linecolor": "white",
            "ticks": ""
           },
           "baxis": {
            "gridcolor": "white",
            "linecolor": "white",
            "ticks": ""
           },
           "bgcolor": "#E5ECF6",
           "caxis": {
            "gridcolor": "white",
            "linecolor": "white",
            "ticks": ""
           }
          },
          "title": {
           "x": 0.05
          },
          "xaxis": {
           "automargin": true,
           "gridcolor": "white",
           "linecolor": "white",
           "ticks": "",
           "title": {
            "standoff": 15
           },
           "zerolinecolor": "white",
           "zerolinewidth": 2
          },
          "yaxis": {
           "automargin": true,
           "gridcolor": "white",
           "linecolor": "white",
           "ticks": "",
           "title": {
            "standoff": 15
           },
           "zerolinecolor": "white",
           "zerolinewidth": 2
          }
         }
        },
        "title": {
         "text": "COuntplot of Checking account"
        },
        "xaxis": {
         "title": {
          "text": "Checking account"
         }
        },
        "yaxis": {
         "title": {
          "text": "Count"
         }
        }
       }
      }
     },
     "metadata": {},
     "output_type": "display_data"
    },
    {
     "data": {
      "application/vnd.plotly.v1+json": {
       "config": {
        "plotlyServerURL": "https://plot.ly"
       },
       "data": [
        {
         "text": [
          713,
          179,
          108
         ],
         "textposition": "outside",
         "type": "bar",
         "x": [
          "own",
          "rent",
          "free"
         ],
         "y": [
          713,
          179,
          108
         ]
        }
       ],
       "layout": {
        "template": {
         "data": {
          "bar": [
           {
            "error_x": {
             "color": "#2a3f5f"
            },
            "error_y": {
             "color": "#2a3f5f"
            },
            "marker": {
             "line": {
              "color": "#E5ECF6",
              "width": 0.5
             },
             "pattern": {
              "fillmode": "overlay",
              "size": 10,
              "solidity": 0.2
             }
            },
            "type": "bar"
           }
          ],
          "barpolar": [
           {
            "marker": {
             "line": {
              "color": "#E5ECF6",
              "width": 0.5
             },
             "pattern": {
              "fillmode": "overlay",
              "size": 10,
              "solidity": 0.2
             }
            },
            "type": "barpolar"
           }
          ],
          "carpet": [
           {
            "aaxis": {
             "endlinecolor": "#2a3f5f",
             "gridcolor": "white",
             "linecolor": "white",
             "minorgridcolor": "white",
             "startlinecolor": "#2a3f5f"
            },
            "baxis": {
             "endlinecolor": "#2a3f5f",
             "gridcolor": "white",
             "linecolor": "white",
             "minorgridcolor": "white",
             "startlinecolor": "#2a3f5f"
            },
            "type": "carpet"
           }
          ],
          "choropleth": [
           {
            "colorbar": {
             "outlinewidth": 0,
             "ticks": ""
            },
            "type": "choropleth"
           }
          ],
          "contour": [
           {
            "colorbar": {
             "outlinewidth": 0,
             "ticks": ""
            },
            "colorscale": [
             [
              0,
              "#0d0887"
             ],
             [
              0.1111111111111111,
              "#46039f"
             ],
             [
              0.2222222222222222,
              "#7201a8"
             ],
             [
              0.3333333333333333,
              "#9c179e"
             ],
             [
              0.4444444444444444,
              "#bd3786"
             ],
             [
              0.5555555555555556,
              "#d8576b"
             ],
             [
              0.6666666666666666,
              "#ed7953"
             ],
             [
              0.7777777777777778,
              "#fb9f3a"
             ],
             [
              0.8888888888888888,
              "#fdca26"
             ],
             [
              1,
              "#f0f921"
             ]
            ],
            "type": "contour"
           }
          ],
          "contourcarpet": [
           {
            "colorbar": {
             "outlinewidth": 0,
             "ticks": ""
            },
            "type": "contourcarpet"
           }
          ],
          "heatmap": [
           {
            "colorbar": {
             "outlinewidth": 0,
             "ticks": ""
            },
            "colorscale": [
             [
              0,
              "#0d0887"
             ],
             [
              0.1111111111111111,
              "#46039f"
             ],
             [
              0.2222222222222222,
              "#7201a8"
             ],
             [
              0.3333333333333333,
              "#9c179e"
             ],
             [
              0.4444444444444444,
              "#bd3786"
             ],
             [
              0.5555555555555556,
              "#d8576b"
             ],
             [
              0.6666666666666666,
              "#ed7953"
             ],
             [
              0.7777777777777778,
              "#fb9f3a"
             ],
             [
              0.8888888888888888,
              "#fdca26"
             ],
             [
              1,
              "#f0f921"
             ]
            ],
            "type": "heatmap"
           }
          ],
          "heatmapgl": [
           {
            "colorbar": {
             "outlinewidth": 0,
             "ticks": ""
            },
            "colorscale": [
             [
              0,
              "#0d0887"
             ],
             [
              0.1111111111111111,
              "#46039f"
             ],
             [
              0.2222222222222222,
              "#7201a8"
             ],
             [
              0.3333333333333333,
              "#9c179e"
             ],
             [
              0.4444444444444444,
              "#bd3786"
             ],
             [
              0.5555555555555556,
              "#d8576b"
             ],
             [
              0.6666666666666666,
              "#ed7953"
             ],
             [
              0.7777777777777778,
              "#fb9f3a"
             ],
             [
              0.8888888888888888,
              "#fdca26"
             ],
             [
              1,
              "#f0f921"
             ]
            ],
            "type": "heatmapgl"
           }
          ],
          "histogram": [
           {
            "marker": {
             "pattern": {
              "fillmode": "overlay",
              "size": 10,
              "solidity": 0.2
             }
            },
            "type": "histogram"
           }
          ],
          "histogram2d": [
           {
            "colorbar": {
             "outlinewidth": 0,
             "ticks": ""
            },
            "colorscale": [
             [
              0,
              "#0d0887"
             ],
             [
              0.1111111111111111,
              "#46039f"
             ],
             [
              0.2222222222222222,
              "#7201a8"
             ],
             [
              0.3333333333333333,
              "#9c179e"
             ],
             [
              0.4444444444444444,
              "#bd3786"
             ],
             [
              0.5555555555555556,
              "#d8576b"
             ],
             [
              0.6666666666666666,
              "#ed7953"
             ],
             [
              0.7777777777777778,
              "#fb9f3a"
             ],
             [
              0.8888888888888888,
              "#fdca26"
             ],
             [
              1,
              "#f0f921"
             ]
            ],
            "type": "histogram2d"
           }
          ],
          "histogram2dcontour": [
           {
            "colorbar": {
             "outlinewidth": 0,
             "ticks": ""
            },
            "colorscale": [
             [
              0,
              "#0d0887"
             ],
             [
              0.1111111111111111,
              "#46039f"
             ],
             [
              0.2222222222222222,
              "#7201a8"
             ],
             [
              0.3333333333333333,
              "#9c179e"
             ],
             [
              0.4444444444444444,
              "#bd3786"
             ],
             [
              0.5555555555555556,
              "#d8576b"
             ],
             [
              0.6666666666666666,
              "#ed7953"
             ],
             [
              0.7777777777777778,
              "#fb9f3a"
             ],
             [
              0.8888888888888888,
              "#fdca26"
             ],
             [
              1,
              "#f0f921"
             ]
            ],
            "type": "histogram2dcontour"
           }
          ],
          "mesh3d": [
           {
            "colorbar": {
             "outlinewidth": 0,
             "ticks": ""
            },
            "type": "mesh3d"
           }
          ],
          "parcoords": [
           {
            "line": {
             "colorbar": {
              "outlinewidth": 0,
              "ticks": ""
             }
            },
            "type": "parcoords"
           }
          ],
          "pie": [
           {
            "automargin": true,
            "type": "pie"
           }
          ],
          "scatter": [
           {
            "fillpattern": {
             "fillmode": "overlay",
             "size": 10,
             "solidity": 0.2
            },
            "type": "scatter"
           }
          ],
          "scatter3d": [
           {
            "line": {
             "colorbar": {
              "outlinewidth": 0,
              "ticks": ""
             }
            },
            "marker": {
             "colorbar": {
              "outlinewidth": 0,
              "ticks": ""
             }
            },
            "type": "scatter3d"
           }
          ],
          "scattercarpet": [
           {
            "marker": {
             "colorbar": {
              "outlinewidth": 0,
              "ticks": ""
             }
            },
            "type": "scattercarpet"
           }
          ],
          "scattergeo": [
           {
            "marker": {
             "colorbar": {
              "outlinewidth": 0,
              "ticks": ""
             }
            },
            "type": "scattergeo"
           }
          ],
          "scattergl": [
           {
            "marker": {
             "colorbar": {
              "outlinewidth": 0,
              "ticks": ""
             }
            },
            "type": "scattergl"
           }
          ],
          "scattermapbox": [
           {
            "marker": {
             "colorbar": {
              "outlinewidth": 0,
              "ticks": ""
             }
            },
            "type": "scattermapbox"
           }
          ],
          "scatterpolar": [
           {
            "marker": {
             "colorbar": {
              "outlinewidth": 0,
              "ticks": ""
             }
            },
            "type": "scatterpolar"
           }
          ],
          "scatterpolargl": [
           {
            "marker": {
             "colorbar": {
              "outlinewidth": 0,
              "ticks": ""
             }
            },
            "type": "scatterpolargl"
           }
          ],
          "scatterternary": [
           {
            "marker": {
             "colorbar": {
              "outlinewidth": 0,
              "ticks": ""
             }
            },
            "type": "scatterternary"
           }
          ],
          "surface": [
           {
            "colorbar": {
             "outlinewidth": 0,
             "ticks": ""
            },
            "colorscale": [
             [
              0,
              "#0d0887"
             ],
             [
              0.1111111111111111,
              "#46039f"
             ],
             [
              0.2222222222222222,
              "#7201a8"
             ],
             [
              0.3333333333333333,
              "#9c179e"
             ],
             [
              0.4444444444444444,
              "#bd3786"
             ],
             [
              0.5555555555555556,
              "#d8576b"
             ],
             [
              0.6666666666666666,
              "#ed7953"
             ],
             [
              0.7777777777777778,
              "#fb9f3a"
             ],
             [
              0.8888888888888888,
              "#fdca26"
             ],
             [
              1,
              "#f0f921"
             ]
            ],
            "type": "surface"
           }
          ],
          "table": [
           {
            "cells": {
             "fill": {
              "color": "#EBF0F8"
             },
             "line": {
              "color": "white"
             }
            },
            "header": {
             "fill": {
              "color": "#C8D4E3"
             },
             "line": {
              "color": "white"
             }
            },
            "type": "table"
           }
          ]
         },
         "layout": {
          "annotationdefaults": {
           "arrowcolor": "#2a3f5f",
           "arrowhead": 0,
           "arrowwidth": 1
          },
          "autotypenumbers": "strict",
          "coloraxis": {
           "colorbar": {
            "outlinewidth": 0,
            "ticks": ""
           }
          },
          "colorscale": {
           "diverging": [
            [
             0,
             "#8e0152"
            ],
            [
             0.1,
             "#c51b7d"
            ],
            [
             0.2,
             "#de77ae"
            ],
            [
             0.3,
             "#f1b6da"
            ],
            [
             0.4,
             "#fde0ef"
            ],
            [
             0.5,
             "#f7f7f7"
            ],
            [
             0.6,
             "#e6f5d0"
            ],
            [
             0.7,
             "#b8e186"
            ],
            [
             0.8,
             "#7fbc41"
            ],
            [
             0.9,
             "#4d9221"
            ],
            [
             1,
             "#276419"
            ]
           ],
           "sequential": [
            [
             0,
             "#0d0887"
            ],
            [
             0.1111111111111111,
             "#46039f"
            ],
            [
             0.2222222222222222,
             "#7201a8"
            ],
            [
             0.3333333333333333,
             "#9c179e"
            ],
            [
             0.4444444444444444,
             "#bd3786"
            ],
            [
             0.5555555555555556,
             "#d8576b"
            ],
            [
             0.6666666666666666,
             "#ed7953"
            ],
            [
             0.7777777777777778,
             "#fb9f3a"
            ],
            [
             0.8888888888888888,
             "#fdca26"
            ],
            [
             1,
             "#f0f921"
            ]
           ],
           "sequentialminus": [
            [
             0,
             "#0d0887"
            ],
            [
             0.1111111111111111,
             "#46039f"
            ],
            [
             0.2222222222222222,
             "#7201a8"
            ],
            [
             0.3333333333333333,
             "#9c179e"
            ],
            [
             0.4444444444444444,
             "#bd3786"
            ],
            [
             0.5555555555555556,
             "#d8576b"
            ],
            [
             0.6666666666666666,
             "#ed7953"
            ],
            [
             0.7777777777777778,
             "#fb9f3a"
            ],
            [
             0.8888888888888888,
             "#fdca26"
            ],
            [
             1,
             "#f0f921"
            ]
           ]
          },
          "colorway": [
           "#636efa",
           "#EF553B",
           "#00cc96",
           "#ab63fa",
           "#FFA15A",
           "#19d3f3",
           "#FF6692",
           "#B6E880",
           "#FF97FF",
           "#FECB52"
          ],
          "font": {
           "color": "#2a3f5f"
          },
          "geo": {
           "bgcolor": "white",
           "lakecolor": "white",
           "landcolor": "#E5ECF6",
           "showlakes": true,
           "showland": true,
           "subunitcolor": "white"
          },
          "hoverlabel": {
           "align": "left"
          },
          "hovermode": "closest",
          "mapbox": {
           "style": "light"
          },
          "paper_bgcolor": "white",
          "plot_bgcolor": "#E5ECF6",
          "polar": {
           "angularaxis": {
            "gridcolor": "white",
            "linecolor": "white",
            "ticks": ""
           },
           "bgcolor": "#E5ECF6",
           "radialaxis": {
            "gridcolor": "white",
            "linecolor": "white",
            "ticks": ""
           }
          },
          "scene": {
           "xaxis": {
            "backgroundcolor": "#E5ECF6",
            "gridcolor": "white",
            "gridwidth": 2,
            "linecolor": "white",
            "showbackground": true,
            "ticks": "",
            "zerolinecolor": "white"
           },
           "yaxis": {
            "backgroundcolor": "#E5ECF6",
            "gridcolor": "white",
            "gridwidth": 2,
            "linecolor": "white",
            "showbackground": true,
            "ticks": "",
            "zerolinecolor": "white"
           },
           "zaxis": {
            "backgroundcolor": "#E5ECF6",
            "gridcolor": "white",
            "gridwidth": 2,
            "linecolor": "white",
            "showbackground": true,
            "ticks": "",
            "zerolinecolor": "white"
           }
          },
          "shapedefaults": {
           "line": {
            "color": "#2a3f5f"
           }
          },
          "ternary": {
           "aaxis": {
            "gridcolor": "white",
            "linecolor": "white",
            "ticks": ""
           },
           "baxis": {
            "gridcolor": "white",
            "linecolor": "white",
            "ticks": ""
           },
           "bgcolor": "#E5ECF6",
           "caxis": {
            "gridcolor": "white",
            "linecolor": "white",
            "ticks": ""
           }
          },
          "title": {
           "x": 0.05
          },
          "xaxis": {
           "automargin": true,
           "gridcolor": "white",
           "linecolor": "white",
           "ticks": "",
           "title": {
            "standoff": 15
           },
           "zerolinecolor": "white",
           "zerolinewidth": 2
          },
          "yaxis": {
           "automargin": true,
           "gridcolor": "white",
           "linecolor": "white",
           "ticks": "",
           "title": {
            "standoff": 15
           },
           "zerolinecolor": "white",
           "zerolinewidth": 2
          }
         }
        },
        "title": {
         "text": "COuntplot of Housing"
        },
        "xaxis": {
         "title": {
          "text": "Housing"
         }
        },
        "yaxis": {
         "title": {
          "text": "Count"
         }
        }
       }
      }
     },
     "metadata": {},
     "output_type": "display_data"
    },
    {
     "data": {
      "application/vnd.plotly.v1+json": {
       "config": {
        "plotlyServerURL": "https://plot.ly"
       },
       "data": [
        {
         "text": [
          603,
          103,
          63,
          48
         ],
         "textposition": "outside",
         "type": "bar",
         "x": [
          "little",
          "moderate",
          "quite rich",
          "rich"
         ],
         "y": [
          603,
          103,
          63,
          48
         ]
        }
       ],
       "layout": {
        "template": {
         "data": {
          "bar": [
           {
            "error_x": {
             "color": "#2a3f5f"
            },
            "error_y": {
             "color": "#2a3f5f"
            },
            "marker": {
             "line": {
              "color": "#E5ECF6",
              "width": 0.5
             },
             "pattern": {
              "fillmode": "overlay",
              "size": 10,
              "solidity": 0.2
             }
            },
            "type": "bar"
           }
          ],
          "barpolar": [
           {
            "marker": {
             "line": {
              "color": "#E5ECF6",
              "width": 0.5
             },
             "pattern": {
              "fillmode": "overlay",
              "size": 10,
              "solidity": 0.2
             }
            },
            "type": "barpolar"
           }
          ],
          "carpet": [
           {
            "aaxis": {
             "endlinecolor": "#2a3f5f",
             "gridcolor": "white",
             "linecolor": "white",
             "minorgridcolor": "white",
             "startlinecolor": "#2a3f5f"
            },
            "baxis": {
             "endlinecolor": "#2a3f5f",
             "gridcolor": "white",
             "linecolor": "white",
             "minorgridcolor": "white",
             "startlinecolor": "#2a3f5f"
            },
            "type": "carpet"
           }
          ],
          "choropleth": [
           {
            "colorbar": {
             "outlinewidth": 0,
             "ticks": ""
            },
            "type": "choropleth"
           }
          ],
          "contour": [
           {
            "colorbar": {
             "outlinewidth": 0,
             "ticks": ""
            },
            "colorscale": [
             [
              0,
              "#0d0887"
             ],
             [
              0.1111111111111111,
              "#46039f"
             ],
             [
              0.2222222222222222,
              "#7201a8"
             ],
             [
              0.3333333333333333,
              "#9c179e"
             ],
             [
              0.4444444444444444,
              "#bd3786"
             ],
             [
              0.5555555555555556,
              "#d8576b"
             ],
             [
              0.6666666666666666,
              "#ed7953"
             ],
             [
              0.7777777777777778,
              "#fb9f3a"
             ],
             [
              0.8888888888888888,
              "#fdca26"
             ],
             [
              1,
              "#f0f921"
             ]
            ],
            "type": "contour"
           }
          ],
          "contourcarpet": [
           {
            "colorbar": {
             "outlinewidth": 0,
             "ticks": ""
            },
            "type": "contourcarpet"
           }
          ],
          "heatmap": [
           {
            "colorbar": {
             "outlinewidth": 0,
             "ticks": ""
            },
            "colorscale": [
             [
              0,
              "#0d0887"
             ],
             [
              0.1111111111111111,
              "#46039f"
             ],
             [
              0.2222222222222222,
              "#7201a8"
             ],
             [
              0.3333333333333333,
              "#9c179e"
             ],
             [
              0.4444444444444444,
              "#bd3786"
             ],
             [
              0.5555555555555556,
              "#d8576b"
             ],
             [
              0.6666666666666666,
              "#ed7953"
             ],
             [
              0.7777777777777778,
              "#fb9f3a"
             ],
             [
              0.8888888888888888,
              "#fdca26"
             ],
             [
              1,
              "#f0f921"
             ]
            ],
            "type": "heatmap"
           }
          ],
          "heatmapgl": [
           {
            "colorbar": {
             "outlinewidth": 0,
             "ticks": ""
            },
            "colorscale": [
             [
              0,
              "#0d0887"
             ],
             [
              0.1111111111111111,
              "#46039f"
             ],
             [
              0.2222222222222222,
              "#7201a8"
             ],
             [
              0.3333333333333333,
              "#9c179e"
             ],
             [
              0.4444444444444444,
              "#bd3786"
             ],
             [
              0.5555555555555556,
              "#d8576b"
             ],
             [
              0.6666666666666666,
              "#ed7953"
             ],
             [
              0.7777777777777778,
              "#fb9f3a"
             ],
             [
              0.8888888888888888,
              "#fdca26"
             ],
             [
              1,
              "#f0f921"
             ]
            ],
            "type": "heatmapgl"
           }
          ],
          "histogram": [
           {
            "marker": {
             "pattern": {
              "fillmode": "overlay",
              "size": 10,
              "solidity": 0.2
             }
            },
            "type": "histogram"
           }
          ],
          "histogram2d": [
           {
            "colorbar": {
             "outlinewidth": 0,
             "ticks": ""
            },
            "colorscale": [
             [
              0,
              "#0d0887"
             ],
             [
              0.1111111111111111,
              "#46039f"
             ],
             [
              0.2222222222222222,
              "#7201a8"
             ],
             [
              0.3333333333333333,
              "#9c179e"
             ],
             [
              0.4444444444444444,
              "#bd3786"
             ],
             [
              0.5555555555555556,
              "#d8576b"
             ],
             [
              0.6666666666666666,
              "#ed7953"
             ],
             [
              0.7777777777777778,
              "#fb9f3a"
             ],
             [
              0.8888888888888888,
              "#fdca26"
             ],
             [
              1,
              "#f0f921"
             ]
            ],
            "type": "histogram2d"
           }
          ],
          "histogram2dcontour": [
           {
            "colorbar": {
             "outlinewidth": 0,
             "ticks": ""
            },
            "colorscale": [
             [
              0,
              "#0d0887"
             ],
             [
              0.1111111111111111,
              "#46039f"
             ],
             [
              0.2222222222222222,
              "#7201a8"
             ],
             [
              0.3333333333333333,
              "#9c179e"
             ],
             [
              0.4444444444444444,
              "#bd3786"
             ],
             [
              0.5555555555555556,
              "#d8576b"
             ],
             [
              0.6666666666666666,
              "#ed7953"
             ],
             [
              0.7777777777777778,
              "#fb9f3a"
             ],
             [
              0.8888888888888888,
              "#fdca26"
             ],
             [
              1,
              "#f0f921"
             ]
            ],
            "type": "histogram2dcontour"
           }
          ],
          "mesh3d": [
           {
            "colorbar": {
             "outlinewidth": 0,
             "ticks": ""
            },
            "type": "mesh3d"
           }
          ],
          "parcoords": [
           {
            "line": {
             "colorbar": {
              "outlinewidth": 0,
              "ticks": ""
             }
            },
            "type": "parcoords"
           }
          ],
          "pie": [
           {
            "automargin": true,
            "type": "pie"
           }
          ],
          "scatter": [
           {
            "fillpattern": {
             "fillmode": "overlay",
             "size": 10,
             "solidity": 0.2
            },
            "type": "scatter"
           }
          ],
          "scatter3d": [
           {
            "line": {
             "colorbar": {
              "outlinewidth": 0,
              "ticks": ""
             }
            },
            "marker": {
             "colorbar": {
              "outlinewidth": 0,
              "ticks": ""
             }
            },
            "type": "scatter3d"
           }
          ],
          "scattercarpet": [
           {
            "marker": {
             "colorbar": {
              "outlinewidth": 0,
              "ticks": ""
             }
            },
            "type": "scattercarpet"
           }
          ],
          "scattergeo": [
           {
            "marker": {
             "colorbar": {
              "outlinewidth": 0,
              "ticks": ""
             }
            },
            "type": "scattergeo"
           }
          ],
          "scattergl": [
           {
            "marker": {
             "colorbar": {
              "outlinewidth": 0,
              "ticks": ""
             }
            },
            "type": "scattergl"
           }
          ],
          "scattermapbox": [
           {
            "marker": {
             "colorbar": {
              "outlinewidth": 0,
              "ticks": ""
             }
            },
            "type": "scattermapbox"
           }
          ],
          "scatterpolar": [
           {
            "marker": {
             "colorbar": {
              "outlinewidth": 0,
              "ticks": ""
             }
            },
            "type": "scatterpolar"
           }
          ],
          "scatterpolargl": [
           {
            "marker": {
             "colorbar": {
              "outlinewidth": 0,
              "ticks": ""
             }
            },
            "type": "scatterpolargl"
           }
          ],
          "scatterternary": [
           {
            "marker": {
             "colorbar": {
              "outlinewidth": 0,
              "ticks": ""
             }
            },
            "type": "scatterternary"
           }
          ],
          "surface": [
           {
            "colorbar": {
             "outlinewidth": 0,
             "ticks": ""
            },
            "colorscale": [
             [
              0,
              "#0d0887"
             ],
             [
              0.1111111111111111,
              "#46039f"
             ],
             [
              0.2222222222222222,
              "#7201a8"
             ],
             [
              0.3333333333333333,
              "#9c179e"
             ],
             [
              0.4444444444444444,
              "#bd3786"
             ],
             [
              0.5555555555555556,
              "#d8576b"
             ],
             [
              0.6666666666666666,
              "#ed7953"
             ],
             [
              0.7777777777777778,
              "#fb9f3a"
             ],
             [
              0.8888888888888888,
              "#fdca26"
             ],
             [
              1,
              "#f0f921"
             ]
            ],
            "type": "surface"
           }
          ],
          "table": [
           {
            "cells": {
             "fill": {
              "color": "#EBF0F8"
             },
             "line": {
              "color": "white"
             }
            },
            "header": {
             "fill": {
              "color": "#C8D4E3"
             },
             "line": {
              "color": "white"
             }
            },
            "type": "table"
           }
          ]
         },
         "layout": {
          "annotationdefaults": {
           "arrowcolor": "#2a3f5f",
           "arrowhead": 0,
           "arrowwidth": 1
          },
          "autotypenumbers": "strict",
          "coloraxis": {
           "colorbar": {
            "outlinewidth": 0,
            "ticks": ""
           }
          },
          "colorscale": {
           "diverging": [
            [
             0,
             "#8e0152"
            ],
            [
             0.1,
             "#c51b7d"
            ],
            [
             0.2,
             "#de77ae"
            ],
            [
             0.3,
             "#f1b6da"
            ],
            [
             0.4,
             "#fde0ef"
            ],
            [
             0.5,
             "#f7f7f7"
            ],
            [
             0.6,
             "#e6f5d0"
            ],
            [
             0.7,
             "#b8e186"
            ],
            [
             0.8,
             "#7fbc41"
            ],
            [
             0.9,
             "#4d9221"
            ],
            [
             1,
             "#276419"
            ]
           ],
           "sequential": [
            [
             0,
             "#0d0887"
            ],
            [
             0.1111111111111111,
             "#46039f"
            ],
            [
             0.2222222222222222,
             "#7201a8"
            ],
            [
             0.3333333333333333,
             "#9c179e"
            ],
            [
             0.4444444444444444,
             "#bd3786"
            ],
            [
             0.5555555555555556,
             "#d8576b"
            ],
            [
             0.6666666666666666,
             "#ed7953"
            ],
            [
             0.7777777777777778,
             "#fb9f3a"
            ],
            [
             0.8888888888888888,
             "#fdca26"
            ],
            [
             1,
             "#f0f921"
            ]
           ],
           "sequentialminus": [
            [
             0,
             "#0d0887"
            ],
            [
             0.1111111111111111,
             "#46039f"
            ],
            [
             0.2222222222222222,
             "#7201a8"
            ],
            [
             0.3333333333333333,
             "#9c179e"
            ],
            [
             0.4444444444444444,
             "#bd3786"
            ],
            [
             0.5555555555555556,
             "#d8576b"
            ],
            [
             0.6666666666666666,
             "#ed7953"
            ],
            [
             0.7777777777777778,
             "#fb9f3a"
            ],
            [
             0.8888888888888888,
             "#fdca26"
            ],
            [
             1,
             "#f0f921"
            ]
           ]
          },
          "colorway": [
           "#636efa",
           "#EF553B",
           "#00cc96",
           "#ab63fa",
           "#FFA15A",
           "#19d3f3",
           "#FF6692",
           "#B6E880",
           "#FF97FF",
           "#FECB52"
          ],
          "font": {
           "color": "#2a3f5f"
          },
          "geo": {
           "bgcolor": "white",
           "lakecolor": "white",
           "landcolor": "#E5ECF6",
           "showlakes": true,
           "showland": true,
           "subunitcolor": "white"
          },
          "hoverlabel": {
           "align": "left"
          },
          "hovermode": "closest",
          "mapbox": {
           "style": "light"
          },
          "paper_bgcolor": "white",
          "plot_bgcolor": "#E5ECF6",
          "polar": {
           "angularaxis": {
            "gridcolor": "white",
            "linecolor": "white",
            "ticks": ""
           },
           "bgcolor": "#E5ECF6",
           "radialaxis": {
            "gridcolor": "white",
            "linecolor": "white",
            "ticks": ""
           }
          },
          "scene": {
           "xaxis": {
            "backgroundcolor": "#E5ECF6",
            "gridcolor": "white",
            "gridwidth": 2,
            "linecolor": "white",
            "showbackground": true,
            "ticks": "",
            "zerolinecolor": "white"
           },
           "yaxis": {
            "backgroundcolor": "#E5ECF6",
            "gridcolor": "white",
            "gridwidth": 2,
            "linecolor": "white",
            "showbackground": true,
            "ticks": "",
            "zerolinecolor": "white"
           },
           "zaxis": {
            "backgroundcolor": "#E5ECF6",
            "gridcolor": "white",
            "gridwidth": 2,
            "linecolor": "white",
            "showbackground": true,
            "ticks": "",
            "zerolinecolor": "white"
           }
          },
          "shapedefaults": {
           "line": {
            "color": "#2a3f5f"
           }
          },
          "ternary": {
           "aaxis": {
            "gridcolor": "white",
            "linecolor": "white",
            "ticks": ""
           },
           "baxis": {
            "gridcolor": "white",
            "linecolor": "white",
            "ticks": ""
           },
           "bgcolor": "#E5ECF6",
           "caxis": {
            "gridcolor": "white",
            "linecolor": "white",
            "ticks": ""
           }
          },
          "title": {
           "x": 0.05
          },
          "xaxis": {
           "automargin": true,
           "gridcolor": "white",
           "linecolor": "white",
           "ticks": "",
           "title": {
            "standoff": 15
           },
           "zerolinecolor": "white",
           "zerolinewidth": 2
          },
          "yaxis": {
           "automargin": true,
           "gridcolor": "white",
           "linecolor": "white",
           "ticks": "",
           "title": {
            "standoff": 15
           },
           "zerolinecolor": "white",
           "zerolinewidth": 2
          }
         }
        },
        "title": {
         "text": "COuntplot of Saving accounts"
        },
        "xaxis": {
         "title": {
          "text": "Saving accounts"
         }
        },
        "yaxis": {
         "title": {
          "text": "Count"
         }
        }
       }
      }
     },
     "metadata": {},
     "output_type": "display_data"
    }
   ],
   "source": [
    "\n",
    "## Countplot of sex\n",
    "sex_count = train['Sex'].value_counts().reset_index()\n",
    "fig = go.Figure(go.Bar(\n",
    "    x = sex_count['Sex'], y =sex_count['count'], text=sex_count['count'],\n",
    "    textposition='outside'))\n",
    "fig.update_layout(title_text = 'COuntplot of Sex', xaxis_title='SEx',yaxis_title='Count')\n",
    "fig.show()\n",
    "\n",
    "## countplot of purpose\n",
    "sex_count = train[\"Purpose\"].value_counts().reset_index()\n",
    "fig = go.Figure(go.Bar(\n",
    "    x = sex_count['Purpose'], y =sex_count['count'], text=sex_count['count'],\n",
    "    textposition='outside'))\n",
    "fig.update_layout(title_text = 'COuntplot of Purpose', xaxis_title='Purpose',yaxis_title='Count')\n",
    "fig.show()\n",
    "\n",
    "## countplot of Cjecking account\n",
    "sex_count = train[\"Checking account\"].value_counts().reset_index()\n",
    "fig = go.Figure(go.Bar(\n",
    "    x = sex_count['Checking account'], y =sex_count['count'], text=sex_count['count'],\n",
    "    textposition='outside'))\n",
    "fig.update_layout(title_text = 'COuntplot of Checking account', xaxis_title='Checking account',yaxis_title='Count')\n",
    "fig.show()\n",
    "\n",
    "## countplot fo housing\n",
    "sex_count = train[\"Housing\"].value_counts().reset_index()\n",
    "fig = go.Figure(go.Bar(\n",
    "    x = sex_count['Housing'], y =sex_count['count'], text=sex_count['count'],\n",
    "    textposition='outside'))\n",
    "fig.update_layout(title_text = 'COuntplot of Housing', xaxis_title='Housing',yaxis_title='Count')\n",
    "fig.show()\n",
    "\n",
    "## countplot of saving amounts\n",
    "sex_count = train['Saving accounts'].value_counts().reset_index()\n",
    "fig = go.Figure(go.Bar(\n",
    "    x = sex_count['Saving accounts'], y =sex_count['count'], text=sex_count['count'],\n",
    "    textposition='outside'))\n",
    "fig.update_layout(title_text = 'COuntplot of Saving accounts', xaxis_title='Saving accounts',yaxis_title='Count')\n",
    "fig.show()"
   ]
  },
  {
   "cell_type": "code",
   "execution_count": 14,
   "metadata": {},
   "outputs": [
    {
     "data": {
      "application/vnd.plotly.v1+json": {
       "config": {
        "plotlyServerURL": "https://plot.ly"
       },
       "data": [
        {
         "name": "Age",
         "type": "histogram",
         "x": [
          67,
          22,
          49,
          45,
          53,
          35,
          53,
          35,
          61,
          28,
          25,
          24,
          22,
          60,
          28,
          32,
          53,
          25,
          44,
          31,
          48,
          44,
          48,
          44,
          26,
          36,
          39,
          42,
          34,
          63,
          36,
          27,
          30,
          57,
          33,
          25,
          31,
          37,
          37,
          24,
          30,
          26,
          44,
          24,
          58,
          35,
          39,
          23,
          39,
          28,
          29,
          30,
          25,
          31,
          57,
          26,
          52,
          31,
          23,
          23,
          27,
          50,
          61,
          25,
          26,
          48,
          29,
          22,
          37,
          25,
          30,
          46,
          51,
          41,
          40,
          66,
          34,
          51,
          39,
          22,
          44,
          47,
          24,
          58,
          52,
          29,
          27,
          47,
          30,
          28,
          56,
          54,
          33,
          20,
          54,
          58,
          61,
          34,
          36,
          36,
          41,
          24,
          24,
          35,
          26,
          39,
          39,
          32,
          30,
          35,
          31,
          23,
          28,
          25,
          35,
          47,
          30,
          27,
          23,
          36,
          25,
          41,
          24,
          63,
          27,
          30,
          40,
          30,
          34,
          29,
          24,
          29,
          27,
          47,
          21,
          38,
          27,
          66,
          35,
          44,
          27,
          30,
          27,
          22,
          23,
          30,
          39,
          51,
          28,
          46,
          42,
          38,
          24,
          29,
          36,
          20,
          48,
          45,
          38,
          34,
          36,
          30,
          36,
          70,
          36,
          32,
          33,
          20,
          25,
          31,
          33,
          26,
          34,
          33,
          26,
          53,
          42,
          52,
          31,
          65,
          28,
          30,
          40,
          50,
          36,
          31,
          74,
          68,
          20,
          33,
          54,
          34,
          36,
          29,
          21,
          34,
          28,
          27,
          36,
          40,
          52,
          27,
          26,
          21,
          38,
          38,
          43,
          26,
          21,
          55,
          33,
          45,
          50,
          66,
          51,
          39,
          31,
          23,
          24,
          64,
          26,
          23,
          30,
          32,
          30,
          27,
          27,
          53,
          22,
          22,
          26,
          51,
          35,
          25,
          42,
          30,
          23,
          61,
          35,
          39,
          29,
          51,
          24,
          27,
          35,
          25,
          52,
          35,
          26,
          22,
          39,
          46,
          24,
          35,
          24,
          27,
          35,
          29,
          23,
          57,
          27,
          55,
          36,
          57,
          32,
          37,
          36,
          38,
          45,
          25,
          32,
          37,
          36,
          28,
          34,
          32,
          26,
          49,
          32,
          29,
          23,
          50,
          49,
          63,
          37,
          35,
          26,
          31,
          49,
          48,
          26,
          28,
          44,
          56,
          46,
          26,
          20,
          45,
          43,
          32,
          54,
          42,
          37,
          49,
          44,
          33,
          24,
          33,
          24,
          22,
          40,
          25,
          26,
          25,
          29,
          31,
          38,
          48,
          32,
          27,
          28,
          32,
          34,
          28,
          36,
          39,
          49,
          34,
          31,
          28,
          75,
          30,
          24,
          24,
          23,
          44,
          23,
          24,
          28,
          31,
          24,
          26,
          25,
          33,
          37,
          43,
          23,
          23,
          34,
          32,
          23,
          29,
          38,
          28,
          46,
          23,
          49,
          26,
          28,
          23,
          61,
          37,
          36,
          21,
          25,
          36,
          27,
          22,
          42,
          40,
          36,
          33,
          23,
          63,
          60,
          37,
          34,
          36,
          57,
          52,
          39,
          38,
          25,
          26,
          26,
          25,
          21,
          40,
          27,
          27,
          30,
          19,
          39,
          31,
          31,
          32,
          55,
          46,
          46,
          43,
          39,
          28,
          27,
          27,
          43,
          22,
          43,
          27,
          26,
          28,
          20,
          35,
          42,
          40,
          35,
          35,
          33,
          23,
          31,
          33,
          20,
          30,
          47,
          34,
          25,
          21,
          29,
          46,
          20,
          55,
          74,
          29,
          36,
          33,
          25,
          25,
          23,
          37,
          65,
          26,
          39,
          30,
          29,
          41,
          30,
          41,
          34,
          35,
          55,
          61,
          30,
          29,
          34,
          35,
          31,
          29,
          36,
          35,
          27,
          32,
          37,
          36,
          34,
          38,
          34,
          63,
          29,
          32,
          26,
          35,
          22,
          23,
          28,
          36,
          33,
          26,
          24,
          25,
          39,
          44,
          23,
          26,
          57,
          30,
          44,
          47,
          52,
          62,
          35,
          26,
          26,
          42,
          27,
          38,
          39,
          20,
          29,
          40,
          32,
          28,
          27,
          42,
          49,
          38,
          24,
          27,
          36,
          34,
          28,
          45,
          26,
          32,
          26,
          20,
          54,
          37,
          40,
          23,
          43,
          36,
          44,
          24,
          53,
          23,
          26,
          30,
          31,
          42,
          31,
          41,
          32,
          28,
          41,
          26,
          25,
          33,
          75,
          37,
          42,
          45,
          23,
          60,
          31,
          34,
          61,
          43,
          37,
          32,
          24,
          35,
          23,
          45,
          34,
          27,
          67,
          22,
          28,
          29,
          27,
          31,
          49,
          24,
          29,
          37,
          37,
          23,
          36,
          34,
          41,
          31,
          23,
          38,
          26,
          22,
          27,
          24,
          27,
          33,
          27,
          27,
          30,
          49,
          26,
          33,
          52,
          20,
          36,
          21,
          47,
          60,
          58,
          42,
          36,
          20,
          40,
          32,
          23,
          36,
          31,
          32,
          45,
          30,
          34,
          28,
          23,
          22,
          74,
          50,
          33,
          45,
          22,
          48,
          29,
          22,
          22,
          48,
          27,
          37,
          21,
          49,
          27,
          32,
          38,
          22,
          65,
          35,
          41,
          29,
          36,
          64,
          28,
          44,
          23,
          19,
          25,
          47,
          28,
          21,
          34,
          26,
          27,
          38,
          40,
          33,
          32,
          27,
          32,
          26,
          38,
          40,
          50,
          37,
          45,
          42,
          35,
          22,
          41,
          37,
          28,
          41,
          23,
          23,
          50,
          35,
          50,
          27,
          34,
          27,
          43,
          47,
          27,
          31,
          42,
          24,
          41,
          26,
          33,
          24,
          64,
          26,
          56,
          37,
          33,
          47,
          31,
          34,
          27,
          30,
          35,
          31,
          25,
          25,
          29,
          44,
          28,
          50,
          29,
          38,
          24,
          40,
          29,
          46,
          47,
          41,
          32,
          35,
          24,
          25,
          25,
          37,
          32,
          35,
          46,
          25,
          27,
          63,
          40,
          32,
          31,
          31,
          34,
          24,
          24,
          66,
          21,
          41,
          47,
          25,
          59,
          36,
          33,
          21,
          44,
          28,
          37,
          29,
          23,
          35,
          45,
          26,
          32,
          23,
          41,
          22,
          30,
          28,
          23,
          37,
          26,
          33,
          49,
          23,
          23,
          25,
          55,
          32,
          74,
          39,
          31,
          35,
          59,
          24,
          24,
          30,
          27,
          40,
          31,
          31,
          28,
          63,
          26,
          25,
          36,
          52,
          66,
          25,
          37,
          25,
          38,
          67,
          25,
          60,
          31,
          23,
          60,
          35,
          40,
          38,
          50,
          27,
          39,
          41,
          27,
          51,
          32,
          22,
          51,
          22,
          54,
          35,
          54,
          48,
          24,
          35,
          24,
          24,
          26,
          65,
          55,
          26,
          26,
          28,
          24,
          54,
          46,
          54,
          62,
          24,
          43,
          26,
          27,
          24,
          41,
          47,
          35,
          30,
          33,
          36,
          47,
          38,
          44,
          23,
          29,
          42,
          25,
          48,
          21,
          23,
          63,
          46,
          29,
          28,
          23,
          50,
          47,
          35,
          68,
          28,
          59,
          57,
          33,
          43,
          35,
          32,
          45,
          33,
          40,
          28,
          29,
          26,
          27,
          28,
          35,
          32,
          25,
          20,
          27,
          42,
          37,
          24,
          40,
          46,
          26,
          24,
          29,
          40,
          36,
          28,
          27,
          36,
          38,
          48,
          36,
          65,
          43,
          53,
          34,
          23,
          34,
          40,
          43,
          46,
          38,
          34,
          29,
          31,
          28,
          35,
          33,
          42,
          43,
          44,
          42,
          40,
          36,
          20,
          24,
          27,
          46,
          33,
          34,
          25,
          25,
          28,
          31,
          32,
          32,
          68,
          33,
          39,
          28,
          37,
          22,
          30,
          55,
          46,
          21,
          39,
          58,
          43,
          24,
          22,
          30,
          42,
          23,
          30,
          28,
          30,
          42,
          46,
          45,
          31,
          31,
          42,
          46,
          30,
          30,
          38,
          43,
          31,
          40,
          24,
          28,
          26,
          29,
          57,
          49,
          37,
          45,
          30,
          30,
          47,
          29,
          35,
          22,
          26,
          23,
          54,
          29,
          40,
          22,
          43,
          29,
          36,
          33,
          57,
          64,
          42,
          47,
          25,
          49,
          33,
          28,
          26,
          30,
          25,
          33,
          64,
          29,
          48,
          37,
          34,
          23,
          30,
          50,
          31,
          40,
          38,
          23,
          27
         ],
         "xaxis": "x",
         "yaxis": "y"
        },
        {
         "name": "Credit Ammount",
         "type": "histogram",
         "x": [
          1169,
          5951,
          2096,
          7882,
          4870,
          9055,
          2835,
          6948,
          3059,
          5234,
          1295,
          4308,
          1567,
          1199,
          1403,
          1282,
          2424,
          8072,
          12579,
          3430,
          2134,
          2647,
          2241,
          1804,
          2069,
          1374,
          426,
          409,
          2415,
          6836,
          1913,
          4020,
          5866,
          1264,
          1474,
          4746,
          6110,
          2100,
          1225,
          458,
          2333,
          1158,
          6204,
          6187,
          6143,
          1393,
          2299,
          1352,
          7228,
          2073,
          2333,
          5965,
          1262,
          3378,
          2225,
          783,
          6468,
          9566,
          1961,
          6229,
          1391,
          1537,
          1953,
          14421,
          3181,
          5190,
          2171,
          1007,
          1819,
          2394,
          8133,
          730,
          1164,
          5954,
          1977,
          1526,
          3965,
          4771,
          9436,
          3832,
          5943,
          1213,
          1568,
          1755,
          2315,
          1412,
          1295,
          12612,
          2249,
          1108,
          618,
          1409,
          797,
          3617,
          1318,
          15945,
          2012,
          2622,
          2337,
          7057,
          1469,
          2323,
          932,
          1919,
          2445,
          11938,
          6458,
          6078,
          7721,
          1410,
          1449,
          392,
          6260,
          7855,
          1680,
          3578,
          7174,
          2132,
          4281,
          2366,
          1835,
          3868,
          1768,
          781,
          1924,
          2121,
          701,
          639,
          1860,
          3499,
          8487,
          6887,
          2708,
          1984,
          10144,
          1240,
          8613,
          766,
          2728,
          1881,
          709,
          4795,
          3416,
          2462,
          2288,
          3566,
          860,
          682,
          5371,
          1582,
          1346,
          1924,
          5848,
          7758,
          6967,
          1282,
          1288,
          339,
          3512,
          1898,
          2872,
          1055,
          1262,
          7308,
          909,
          2978,
          1131,
          1577,
          3972,
          1935,
          950,
          763,
          2064,
          1414,
          3414,
          7485,
          2577,
          338,
          1963,
          571,
          9572,
          4455,
          1647,
          3777,
          884,
          1360,
          5129,
          1175,
          674,
          3244,
          4591,
          3844,
          3915,
          2108,
          3031,
          1501,
          1382,
          951,
          2760,
          4297,
          936,
          1168,
          5117,
          902,
          1495,
          10623,
          1935,
          1424,
          6568,
          1413,
          3074,
          3835,
          5293,
          1908,
          3342,
          932,
          3104,
          3913,
          3021,
          1364,
          625,
          1200,
          707,
          2978,
          4657,
          2613,
          10961,
          7865,
          1478,
          3149,
          4210,
          2507,
          2141,
          866,
          1544,
          1823,
          14555,
          2767,
          1291,
          2522,
          915,
          1595,
          4605,
          1185,
          3447,
          1258,
          717,
          1204,
          1925,
          433,
          666,
          2251,
          2150,
          4151,
          2030,
          7418,
          2684,
          2149,
          3812,
          1154,
          1657,
          1603,
          5302,
          2748,
          1231,
          802,
          6304,
          1533,
          8978,
          999,
          2662,
          1402,
          12169,
          3060,
          11998,
          2697,
          2404,
          1262,
          4611,
          1901,
          3368,
          1574,
          1445,
          1520,
          3878,
          10722,
          4788,
          7582,
          1092,
          1024,
          1076,
          9398,
          6419,
          4796,
          7629,
          9960,
          4675,
          1287,
          2515,
          2745,
          672,
          3804,
          1344,
          1038,
          10127,
          1543,
          4811,
          727,
          1237,
          276,
          5381,
          5511,
          3749,
          685,
          1494,
          2746,
          708,
          4351,
          701,
          3643,
          4249,
          1938,
          2910,
          2659,
          1028,
          3398,
          5801,
          1525,
          4473,
          1068,
          6615,
          1864,
          7408,
          11590,
          4110,
          3384,
          2101,
          1275,
          4169,
          1521,
          5743,
          3599,
          3213,
          4439,
          3949,
          1459,
          882,
          3758,
          1743,
          1136,
          1236,
          959,
          3229,
          6199,
          727,
          1246,
          2331,
          4463,
          776,
          2406,
          1239,
          3399,
          2247,
          1766,
          2473,
          1542,
          3850,
          3650,
          3446,
          3001,
          3079,
          6070,
          2146,
          13756,
          14782,
          7685,
          2320,
          846,
          14318,
          362,
          2212,
          12976,
          1283,
          1330,
          4272,
          2238,
          1126,
          7374,
          2326,
          1449,
          1820,
          983,
          3249,
          1957,
          2406,
          11760,
          2578,
          2348,
          1223,
          1516,
          1473,
          1887,
          8648,
          802,
          2899,
          2039,
          2197,
          1053,
          3235,
          939,
          1967,
          7253,
          2292,
          1597,
          1381,
          5842,
          2579,
          8471,
          2782,
          1042,
          3186,
          2028,
          958,
          1591,
          2762,
          2779,
          2743,
          1149,
          1313,
          1190,
          3448,
          11328,
          1872,
          2058,
          2136,
          1484,
          660,
          1287,
          3394,
          609,
          1884,
          1620,
          2629,
          719,
          5096,
          1244,
          1842,
          2576,
          1424,
          1512,
          11054,
          518,
          2759,
          2670,
          4817,
          2679,
          3905,
          3386,
          343,
          4594,
          3620,
          1721,
          3017,
          754,
          1950,
          2924,
          1659,
          7238,
          2764,
          4679,
          3092,
          448,
          654,
          1238,
          1245,
          3114,
          2569,
          5152,
          1037,
          1478,
          3573,
          1201,
          3622,
          960,
          1163,
          1209,
          3077,
          3757,
          1418,
          3518,
          1934,
          8318,
          1237,
          368,
          2122,
          2996,
          9034,
          1585,
          1301,
          1323,
          3123,
          5493,
          1126,
          1216,
          1207,
          1309,
          2360,
          6850,
          1413,
          8588,
          759,
          4686,
          2687,
          585,
          2255,
          609,
          1361,
          7127,
          1203,
          700,
          5507,
          3190,
          7119,
          3488,
          1113,
          7966,
          1532,
          1503,
          2302,
          662,
          2273,
          2631,
          1503,
          1311,
          3105,
          2319,
          1374,
          3612,
          7763,
          3049,
          1534,
          2032,
          6350,
          2864,
          1255,
          1333,
          2022,
          1552,
          626,
          8858,
          996,
          1750,
          6999,
          1995,
          1199,
          1331,
          2278,
          5003,
          3552,
          1928,
          2964,
          1546,
          683,
          12389,
          4712,
          1553,
          1372,
          2578,
          3979,
          6758,
          3234,
          5954,
          5433,
          806,
          1082,
          2788,
          2930,
          1927,
          2820,
          937,
          1056,
          3124,
          1388,
          2384,
          2133,
          2039,
          2799,
          1289,
          1217,
          2246,
          385,
          1965,
          1572,
          2718,
          1358,
          931,
          1442,
          4241,
          2775,
          3863,
          2329,
          918,
          1837,
          3349,
          1275,
          2828,
          4526,
          2671,
          2051,
          1300,
          741,
          1240,
          3357,
          3632,
          1808,
          12204,
          9157,
          3676,
          3441,
          640,
          3652,
          1530,
          3914,
          1858,
          2600,
          1979,
          2116,
          1437,
          4042,
          3832,
          3660,
          1553,
          1444,
          1980,
          1355,
          1393,
          1376,
          15653,
          1493,
          4370,
          750,
          1308,
          4623,
          1851,
          1880,
          7980,
          4583,
          1386,
          947,
          684,
          7476,
          1922,
          2303,
          8086,
          2346,
          3973,
          888,
          10222,
          4221,
          6361,
          1297,
          900,
          2241,
          1050,
          1047,
          6314,
          3496,
          3609,
          4843,
          3017,
          4139,
          5742,
          10366,
          2080,
          2580,
          4530,
          5150,
          5595,
          2384,
          1453,
          1538,
          2279,
          1478,
          5103,
          9857,
          6527,
          1347,
          2862,
          2753,
          3651,
          975,
          2631,
          2896,
          4716,
          2284,
          1236,
          1103,
          926,
          1800,
          1905,
          1123,
          6331,
          1377,
          2503,
          2528,
          5324,
          6560,
          2969,
          1206,
          2118,
          629,
          1198,
          2476,
          1138,
          14027,
          7596,
          3077,
          1505,
          3148,
          6148,
          1337,
          433,
          1228,
          790,
          2570,
          250,
          1316,
          1882,
          6416,
          1275,
          6403,
          1987,
          760,
          2603,
          3380,
          3990,
          11560,
          4380,
          6761,
          4280,
          2325,
          1048,
          3160,
          2483,
          14179,
          1797,
          2511,
          1274,
          5248,
          3029,
          428,
          976,
          841,
          5771,
          1555,
          1285,
          1299,
          1271,
          1393,
          691,
          5045,
          2124,
          2214,
          12680,
          2463,
          1155,
          3108,
          2901,
          3617,
          1655,
          2812,
          8065,
          3275,
          2223,
          1480,
          1371,
          3535,
          3509,
          5711,
          3872,
          4933,
          1940,
          1410,
          836,
          6468,
          1941,
          2675,
          2751,
          6224,
          5998,
          1188,
          6313,
          1221,
          2892,
          3062,
          2301,
          7511,
          1258,
          717,
          1549,
          1597,
          1795,
          4272,
          976,
          7472,
          9271,
          590,
          930,
          9283,
          1778,
          907,
          484,
          9629,
          3051,
          3931,
          7432,
          1338,
          1554,
          15857,
          1345,
          1101,
          3016,
          2712,
          731,
          3780,
          1602,
          3966,
          4165,
          8335,
          6681,
          2375,
          1216,
          11816,
          5084,
          2327,
          1082,
          886,
          601,
          2957,
          2611,
          5179,
          2993,
          1943,
          1559,
          3422,
          3976,
          6761,
          1249,
          1364,
          709,
          2235,
          4042,
          1471,
          1442,
          10875,
          1474,
          894,
          3343,
          3959,
          3577,
          5804,
          2169,
          2439,
          4526,
          2210,
          2221,
          2389,
          3331,
          7409,
          652,
          7678,
          1343,
          1382,
          874,
          3590,
          1322,
          1940,
          3595,
          1422,
          6742,
          7814,
          9277,
          2181,
          1098,
          4057,
          795,
          2825,
          15672,
          6614,
          7824,
          2442,
          1829,
          2171,
          5800,
          1169,
          8947,
          2606,
          1592,
          2186,
          4153,
          2625,
          3485,
          10477,
          1386,
          1278,
          1107,
          3763,
          3711,
          3594,
          3195,
          4454,
          4736,
          2991,
          2142,
          3161,
          18424,
          2848,
          14896,
          2359,
          3345,
          1817,
          12749,
          1366,
          2002,
          6872,
          697,
          1049,
          10297,
          1867,
          1344,
          1747,
          1670,
          1224,
          522,
          1498,
          1919,
          745,
          2063,
          6288,
          6842,
          3527,
          1546,
          929,
          1455,
          1845,
          8358,
          3349,
          2859,
          1533,
          3621,
          3590,
          2145,
          4113,
          10974,
          1893,
          1231,
          3656,
          1154,
          4006,
          3069,
          1740,
          2353,
          3556,
          2397,
          454,
          1715,
          2520,
          3568,
          7166,
          3939,
          1514,
          7393,
          1193,
          7297,
          2831,
          1258,
          753,
          2427,
          2538,
          1264,
          8386,
          4844,
          2923,
          8229,
          2028,
          1433,
          6289,
          1409,
          6579,
          1743,
          3565,
          1569,
          1936,
          3959,
          2390,
          1736,
          3857,
          804,
          1845,
          4576
         ],
         "xaxis": "x4",
         "yaxis": "y4"
        },
        {
         "name": "Duration",
         "type": "histogram",
         "x": [
          6,
          48,
          12,
          42,
          24,
          36,
          24,
          36,
          12,
          30,
          12,
          48,
          12,
          24,
          15,
          24,
          24,
          30,
          24,
          24,
          9,
          6,
          10,
          12,
          10,
          6,
          6,
          12,
          7,
          60,
          18,
          24,
          18,
          12,
          12,
          45,
          48,
          18,
          10,
          9,
          30,
          12,
          18,
          30,
          48,
          11,
          36,
          6,
          11,
          12,
          24,
          27,
          12,
          18,
          36,
          6,
          12,
          36,
          18,
          36,
          9,
          15,
          36,
          48,
          24,
          27,
          12,
          12,
          36,
          36,
          36,
          7,
          8,
          42,
          36,
          12,
          42,
          11,
          54,
          30,
          24,
          15,
          18,
          24,
          10,
          12,
          18,
          36,
          18,
          12,
          12,
          12,
          12,
          24,
          12,
          54,
          12,
          18,
          36,
          20,
          24,
          36,
          6,
          9,
          12,
          24,
          18,
          12,
          24,
          14,
          6,
          15,
          18,
          36,
          12,
          48,
          42,
          10,
          33,
          12,
          21,
          24,
          12,
          10,
          18,
          12,
          12,
          12,
          12,
          12,
          48,
          36,
          15,
          18,
          60,
          12,
          27,
          12,
          15,
          12,
          6,
          36,
          27,
          18,
          21,
          48,
          6,
          12,
          36,
          18,
          6,
          10,
          36,
          24,
          24,
          12,
          9,
          12,
          24,
          6,
          24,
          18,
          15,
          10,
          36,
          6,
          18,
          11,
          24,
          24,
          15,
          12,
          24,
          8,
          21,
          30,
          12,
          6,
          12,
          21,
          36,
          36,
          21,
          24,
          18,
          15,
          9,
          16,
          12,
          18,
          24,
          48,
          27,
          6,
          45,
          9,
          6,
          12,
          24,
          18,
          9,
          12,
          27,
          12,
          12,
          30,
          12,
          12,
          24,
          12,
          9,
          36,
          27,
          30,
          36,
          6,
          18,
          36,
          24,
          10,
          12,
          12,
          12,
          24,
          15,
          36,
          48,
          12,
          9,
          24,
          36,
          9,
          12,
          18,
          4,
          24,
          6,
          21,
          12,
          30,
          24,
          6,
          48,
          12,
          12,
          24,
          12,
          6,
          24,
          18,
          6,
          12,
          30,
          24,
          9,
          60,
          24,
          12,
          15,
          11,
          12,
          24,
          18,
          12,
          10,
          15,
          36,
          24,
          14,
          24,
          18,
          12,
          48,
          48,
          30,
          9,
          18,
          12,
          6,
          24,
          15,
          12,
          18,
          15,
          24,
          47,
          48,
          48,
          12,
          24,
          12,
          36,
          24,
          42,
          48,
          48,
          12,
          10,
          18,
          21,
          6,
          36,
          24,
          10,
          48,
          6,
          30,
          12,
          8,
          9,
          48,
          24,
          24,
          12,
          4,
          36,
          12,
          24,
          12,
          15,
          30,
          24,
          24,
          18,
          18,
          8,
          12,
          24,
          36,
          6,
          24,
          18,
          60,
          48,
          24,
          6,
          13,
          15,
          24,
          10,
          24,
          21,
          18,
          18,
          10,
          15,
          13,
          24,
          6,
          9,
          9,
          9,
          18,
          12,
          10,
          24,
          12,
          36,
          12,
          30,
          18,
          12,
          12,
          6,
          18,
          12,
          18,
          18,
          36,
          18,
          36,
          18,
          10,
          60,
          60,
          48,
          18,
          7,
          36,
          6,
          20,
          18,
          22,
          12,
          30,
          18,
          18,
          18,
          15,
          9,
          18,
          12,
          36,
          6,
          9,
          39,
          12,
          36,
          12,
          24,
          18,
          18,
          24,
          14,
          18,
          24,
          24,
          15,
          24,
          12,
          24,
          33,
          12,
          10,
          24,
          36,
          12,
          18,
          21,
          18,
          15,
          12,
          12,
          21,
          12,
          18,
          28,
          18,
          9,
          18,
          5,
          24,
          6,
          24,
          9,
          12,
          6,
          24,
          42,
          12,
          12,
          12,
          20,
          12,
          48,
          9,
          36,
          7,
          12,
          15,
          36,
          6,
          12,
          24,
          24,
          24,
          11,
          12,
          6,
          18,
          36,
          15,
          12,
          12,
          18,
          24,
          24,
          48,
          33,
          24,
          24,
          6,
          9,
          6,
          18,
          18,
          39,
          24,
          12,
          15,
          12,
          24,
          30,
          15,
          12,
          6,
          12,
          24,
          10,
          6,
          12,
          27,
          6,
          6,
          12,
          24,
          36,
          24,
          18,
          6,
          24,
          36,
          9,
          24,
          24,
          10,
          15,
          15,
          24,
          39,
          12,
          36,
          15,
          12,
          24,
          6,
          6,
          36,
          6,
          6,
          24,
          18,
          48,
          24,
          18,
          26,
          15,
          4,
          36,
          6,
          36,
          15,
          12,
          24,
          24,
          21,
          6,
          18,
          48,
          18,
          12,
          24,
          30,
          18,
          12,
          24,
          24,
          24,
          12,
          48,
          12,
          6,
          48,
          12,
          9,
          12,
          18,
          21,
          24,
          18,
          24,
          24,
          6,
          36,
          24,
          24,
          12,
          24,
          48,
          48,
          24,
          30,
          24,
          15,
          9,
          15,
          12,
          24,
          36,
          24,
          18,
          12,
          9,
          36,
          12,
          18,
          9,
          12,
          18,
          12,
          12,
          24,
          21,
          24,
          24,
          6,
          24,
          24,
          18,
          24,
          7,
          9,
          24,
          36,
          10,
          24,
          24,
          36,
          18,
          15,
          12,
          10,
          21,
          24,
          18,
          48,
          60,
          6,
          30,
          12,
          21,
          18,
          48,
          12,
          18,
          15,
          6,
          9,
          42,
          9,
          24,
          18,
          15,
          9,
          24,
          12,
          24,
          60,
          12,
          42,
          18,
          15,
          15,
          24,
          18,
          36,
          30,
          12,
          24,
          12,
          48,
          12,
          24,
          36,
          24,
          14,
          12,
          48,
          30,
          18,
          12,
          12,
          21,
          6,
          6,
          24,
          30,
          48,
          12,
          30,
          24,
          36,
          60,
          6,
          21,
          30,
          24,
          72,
          24,
          18,
          6,
          12,
          15,
          24,
          36,
          60,
          10,
          36,
          9,
          12,
          15,
          15,
          24,
          6,
          24,
          6,
          12,
          12,
          18,
          15,
          12,
          48,
          24,
          30,
          27,
          15,
          48,
          12,
          9,
          9,
          18,
          6,
          21,
          9,
          60,
          30,
          30,
          18,
          24,
          20,
          9,
          6,
          12,
          9,
          27,
          6,
          15,
          18,
          48,
          24,
          24,
          24,
          8,
          24,
          4,
          36,
          24,
          18,
          6,
          30,
          24,
          10,
          21,
          24,
          39,
          13,
          15,
          12,
          21,
          15,
          6,
          18,
          12,
          30,
          12,
          24,
          6,
          15,
          24,
          12,
          15,
          18,
          12,
          21,
          24,
          12,
          30,
          10,
          12,
          12,
          24,
          36,
          21,
          24,
          12,
          24,
          36,
          18,
          36,
          18,
          39,
          24,
          12,
          12,
          20,
          18,
          22,
          48,
          48,
          40,
          21,
          24,
          6,
          24,
          24,
          9,
          18,
          12,
          24,
          9,
          24,
          18,
          20,
          12,
          12,
          36,
          6,
          12,
          42,
          15,
          8,
          6,
          36,
          48,
          48,
          36,
          6,
          6,
          36,
          18,
          12,
          12,
          36,
          8,
          18,
          21,
          18,
          18,
          36,
          48,
          24,
          18,
          45,
          24,
          15,
          12,
          12,
          4,
          24,
          24,
          36,
          21,
          18,
          24,
          18,
          21,
          18,
          24,
          9,
          12,
          20,
          24,
          15,
          18,
          36,
          24,
          10,
          15,
          15,
          9,
          24,
          18,
          24,
          27,
          10,
          15,
          18,
          12,
          36,
          12,
          36,
          6,
          24,
          15,
          12,
          11,
          18,
          36,
          9,
          30,
          24,
          24,
          30,
          18,
          24,
          12,
          24,
          48,
          36,
          28,
          27,
          15,
          12,
          36,
          18,
          36,
          21,
          12,
          15,
          18,
          16,
          20,
          36,
          15,
          24,
          12,
          21,
          36,
          15,
          9,
          36,
          24,
          30,
          11,
          24,
          48,
          10,
          6,
          24,
          24,
          18,
          48,
          9,
          12,
          24,
          12,
          18,
          48,
          30,
          12,
          24,
          9,
          9,
          12,
          12,
          30,
          9,
          6,
          60,
          24,
          12,
          10,
          24,
          4,
          15,
          48,
          24,
          12,
          18,
          24,
          18,
          36,
          24,
          36,
          12,
          24,
          30,
          9,
          28,
          24,
          6,
          21,
          15,
          24,
          6,
          30,
          27,
          15,
          42,
          11,
          15,
          24,
          24,
          60,
          30,
          24,
          6,
          18,
          24,
          15,
          30,
          48,
          21,
          36,
          24,
          15,
          42,
          13,
          24,
          24,
          12,
          15,
          18,
          36,
          12,
          12,
          30,
          12,
          45,
          45
         ],
         "xaxis": "x5",
         "yaxis": "y5"
        },
        {
         "name": "Job",
         "type": "histogram",
         "x": [
          2,
          2,
          1,
          2,
          2,
          1,
          2,
          3,
          1,
          3,
          2,
          2,
          2,
          1,
          2,
          1,
          2,
          2,
          3,
          2,
          2,
          2,
          1,
          2,
          2,
          1,
          1,
          2,
          2,
          2,
          2,
          2,
          2,
          1,
          3,
          1,
          2,
          2,
          2,
          2,
          3,
          2,
          1,
          2,
          1,
          3,
          2,
          0,
          1,
          2,
          1,
          3,
          2,
          2,
          2,
          1,
          3,
          2,
          3,
          1,
          2,
          2,
          3,
          2,
          2,
          2,
          2,
          2,
          2,
          2,
          2,
          1,
          3,
          1,
          3,
          3,
          2,
          2,
          1,
          2,
          2,
          2,
          1,
          1,
          1,
          3,
          2,
          2,
          3,
          2,
          2,
          2,
          1,
          2,
          2,
          2,
          2,
          2,
          2,
          3,
          1,
          2,
          2,
          2,
          2,
          3,
          3,
          2,
          2,
          2,
          2,
          2,
          1,
          2,
          2,
          2,
          3,
          2,
          2,
          3,
          2,
          3,
          1,
          2,
          2,
          2,
          1,
          2,
          3,
          2,
          2,
          2,
          1,
          2,
          2,
          2,
          2,
          1,
          2,
          1,
          0,
          3,
          3,
          2,
          2,
          2,
          2,
          2,
          2,
          2,
          2,
          2,
          2,
          2,
          3,
          2,
          2,
          1,
          2,
          1,
          2,
          2,
          2,
          3,
          2,
          2,
          2,
          2,
          2,
          2,
          2,
          2,
          3,
          2,
          2,
          3,
          2,
          2,
          3,
          2,
          2,
          3,
          1,
          2,
          2,
          2,
          3,
          0,
          2,
          2,
          3,
          1,
          2,
          2,
          2,
          3,
          2,
          2,
          2,
          3,
          2,
          1,
          2,
          2,
          1,
          3,
          2,
          2,
          1,
          2,
          2,
          1,
          2,
          3,
          2,
          1,
          2,
          2,
          1,
          2,
          1,
          2,
          2,
          2,
          2,
          2,
          2,
          3,
          2,
          2,
          2,
          1,
          2,
          1,
          1,
          3,
          0,
          1,
          2,
          2,
          2,
          2,
          2,
          2,
          1,
          2,
          2,
          2,
          2,
          2,
          1,
          1,
          2,
          2,
          2,
          1,
          1,
          2,
          2,
          1,
          2,
          2,
          3,
          1,
          1,
          2,
          2,
          2,
          3,
          2,
          2,
          2,
          3,
          2,
          1,
          2,
          2,
          1,
          2,
          3,
          2,
          2,
          1,
          2,
          2,
          1,
          2,
          3,
          2,
          2,
          2,
          3,
          3,
          2,
          3,
          2,
          2,
          1,
          2,
          2,
          0,
          2,
          1,
          2,
          2,
          2,
          1,
          1,
          2,
          1,
          0,
          2,
          2,
          1,
          1,
          2,
          1,
          1,
          2,
          1,
          3,
          2,
          3,
          2,
          2,
          1,
          2,
          2,
          2,
          2,
          3,
          2,
          3,
          1,
          2,
          3,
          1,
          2,
          2,
          1,
          2,
          1,
          2,
          3,
          1,
          1,
          2,
          0,
          1,
          2,
          2,
          2,
          3,
          2,
          2,
          1,
          2,
          3,
          2,
          2,
          2,
          3,
          2,
          2,
          0,
          2,
          2,
          2,
          2,
          2,
          2,
          2,
          2,
          3,
          3,
          2,
          2,
          2,
          3,
          1,
          2,
          3,
          2,
          2,
          1,
          2,
          2,
          3,
          2,
          2,
          3,
          1,
          3,
          2,
          3,
          2,
          3,
          2,
          2,
          1,
          2,
          2,
          2,
          1,
          2,
          2,
          2,
          2,
          3,
          2,
          2,
          3,
          3,
          1,
          2,
          2,
          1,
          2,
          3,
          2,
          2,
          2,
          1,
          3,
          2,
          2,
          2,
          2,
          2,
          0,
          1,
          3,
          3,
          2,
          2,
          2,
          1,
          2,
          0,
          0,
          3,
          2,
          2,
          1,
          3,
          1,
          2,
          2,
          3,
          2,
          3,
          2,
          2,
          3,
          2,
          3,
          2,
          2,
          2,
          2,
          2,
          2,
          3,
          2,
          2,
          2,
          1,
          2,
          2,
          1,
          2,
          2,
          1,
          3,
          2,
          2,
          2,
          2,
          1,
          2,
          1,
          2,
          2,
          2,
          2,
          3,
          2,
          2,
          1,
          2,
          2,
          3,
          2,
          2,
          1,
          2,
          3,
          2,
          1,
          2,
          2,
          2,
          2,
          2,
          2,
          1,
          2,
          3,
          2,
          3,
          2,
          3,
          2,
          2,
          2,
          2,
          1,
          2,
          2,
          2,
          2,
          2,
          2,
          2,
          1,
          2,
          2,
          1,
          2,
          1,
          2,
          2,
          2,
          2,
          2,
          2,
          3,
          2,
          3,
          1,
          2,
          2,
          2,
          1,
          1,
          2,
          2,
          2,
          1,
          2,
          2,
          1,
          2,
          2,
          3,
          2,
          2,
          2,
          2,
          1,
          2,
          1,
          2,
          2,
          3,
          2,
          2,
          2,
          2,
          2,
          1,
          2,
          3,
          1,
          1,
          2,
          2,
          2,
          2,
          1,
          2,
          1,
          2,
          1,
          3,
          2,
          2,
          1,
          1,
          2,
          1,
          2,
          1,
          1,
          3,
          1,
          2,
          1,
          2,
          2,
          2,
          2,
          1,
          3,
          2,
          2,
          3,
          2,
          2,
          2,
          2,
          1,
          2,
          2,
          2,
          3,
          3,
          2,
          2,
          1,
          2,
          2,
          2,
          2,
          2,
          2,
          2,
          2,
          2,
          1,
          2,
          2,
          2,
          2,
          1,
          2,
          2,
          2,
          2,
          2,
          0,
          1,
          3,
          2,
          3,
          2,
          2,
          2,
          2,
          1,
          3,
          1,
          2,
          3,
          2,
          2,
          1,
          2,
          2,
          2,
          2,
          2,
          2,
          3,
          1,
          3,
          2,
          2,
          2,
          2,
          1,
          2,
          3,
          2,
          1,
          3,
          2,
          2,
          1,
          2,
          2,
          2,
          2,
          2,
          1,
          2,
          2,
          2,
          2,
          2,
          2,
          1,
          2,
          1,
          2,
          2,
          2,
          0,
          2,
          3,
          1,
          2,
          2,
          2,
          2,
          2,
          2,
          2,
          2,
          1,
          3,
          2,
          3,
          1,
          3,
          2,
          2,
          3,
          2,
          2,
          3,
          2,
          1,
          1,
          2,
          1,
          1,
          2,
          2,
          2,
          2,
          1,
          1,
          2,
          2,
          0,
          3,
          1,
          3,
          1,
          2,
          1,
          2,
          2,
          3,
          1,
          2,
          1,
          2,
          2,
          2,
          1,
          1,
          2,
          2,
          2,
          0,
          2,
          2,
          2,
          2,
          2,
          1,
          3,
          2,
          1,
          1,
          2,
          2,
          1,
          2,
          3,
          3,
          2,
          0,
          2,
          2,
          2,
          3,
          2,
          2,
          2,
          1,
          1,
          3,
          1,
          2,
          2,
          2,
          2,
          2,
          3,
          2,
          2,
          2,
          2,
          2,
          1,
          2,
          0,
          2,
          1,
          2,
          2,
          0,
          2,
          1,
          2,
          3,
          0,
          2,
          1,
          2,
          2,
          2,
          2,
          2,
          2,
          3,
          2,
          2,
          2,
          2,
          1,
          3,
          2,
          2,
          2,
          2,
          2,
          2,
          2,
          2,
          2,
          1,
          2,
          2,
          1,
          2,
          2,
          2,
          1,
          2,
          2,
          2,
          2,
          2,
          2,
          2,
          1,
          2,
          2,
          2,
          1,
          2,
          2,
          2,
          2,
          2,
          2,
          2,
          2,
          2,
          1,
          1,
          2,
          2,
          2,
          2,
          2,
          2,
          2,
          2,
          2,
          1,
          2,
          3,
          2,
          3,
          2,
          3,
          2,
          2,
          0,
          2,
          2,
          2,
          2,
          3,
          2,
          3,
          2,
          1,
          2,
          2,
          3,
          3,
          2,
          1,
          2,
          2,
          2,
          2,
          2,
          3,
          3,
          1,
          2,
          1,
          1,
          2,
          1,
          2,
          2,
          2,
          3,
          2,
          3,
          2,
          3,
          2,
          3,
          2,
          2,
          2,
          2,
          2,
          2,
          2,
          1,
          1,
          2,
          2,
          2,
          2,
          3,
          1,
          3,
          2,
          3,
          3,
          1,
          2,
          1,
          2,
          2,
          2,
          3,
          1,
          2,
          0,
          2,
          2,
          3,
          2,
          3,
          1,
          1,
          1,
          2,
          2,
          2,
          2,
          2,
          1,
          2,
          1,
          3,
          2,
          1,
          2,
          1,
          0,
          2,
          2,
          1,
          2,
          2,
          1,
          2,
          2,
          3,
          3,
          2,
          1,
          2,
          2,
          2,
          3,
          1,
          1,
          1,
          1,
          3,
          2,
          1,
          3,
          2,
          2,
          2
         ],
         "xaxis": "x6",
         "yaxis": "y6"
        }
       ],
       "layout": {
        "height": 800,
        "template": {
         "data": {
          "bar": [
           {
            "error_x": {
             "color": "#2a3f5f"
            },
            "error_y": {
             "color": "#2a3f5f"
            },
            "marker": {
             "line": {
              "color": "#E5ECF6",
              "width": 0.5
             },
             "pattern": {
              "fillmode": "overlay",
              "size": 10,
              "solidity": 0.2
             }
            },
            "type": "bar"
           }
          ],
          "barpolar": [
           {
            "marker": {
             "line": {
              "color": "#E5ECF6",
              "width": 0.5
             },
             "pattern": {
              "fillmode": "overlay",
              "size": 10,
              "solidity": 0.2
             }
            },
            "type": "barpolar"
           }
          ],
          "carpet": [
           {
            "aaxis": {
             "endlinecolor": "#2a3f5f",
             "gridcolor": "white",
             "linecolor": "white",
             "minorgridcolor": "white",
             "startlinecolor": "#2a3f5f"
            },
            "baxis": {
             "endlinecolor": "#2a3f5f",
             "gridcolor": "white",
             "linecolor": "white",
             "minorgridcolor": "white",
             "startlinecolor": "#2a3f5f"
            },
            "type": "carpet"
           }
          ],
          "choropleth": [
           {
            "colorbar": {
             "outlinewidth": 0,
             "ticks": ""
            },
            "type": "choropleth"
           }
          ],
          "contour": [
           {
            "colorbar": {
             "outlinewidth": 0,
             "ticks": ""
            },
            "colorscale": [
             [
              0,
              "#0d0887"
             ],
             [
              0.1111111111111111,
              "#46039f"
             ],
             [
              0.2222222222222222,
              "#7201a8"
             ],
             [
              0.3333333333333333,
              "#9c179e"
             ],
             [
              0.4444444444444444,
              "#bd3786"
             ],
             [
              0.5555555555555556,
              "#d8576b"
             ],
             [
              0.6666666666666666,
              "#ed7953"
             ],
             [
              0.7777777777777778,
              "#fb9f3a"
             ],
             [
              0.8888888888888888,
              "#fdca26"
             ],
             [
              1,
              "#f0f921"
             ]
            ],
            "type": "contour"
           }
          ],
          "contourcarpet": [
           {
            "colorbar": {
             "outlinewidth": 0,
             "ticks": ""
            },
            "type": "contourcarpet"
           }
          ],
          "heatmap": [
           {
            "colorbar": {
             "outlinewidth": 0,
             "ticks": ""
            },
            "colorscale": [
             [
              0,
              "#0d0887"
             ],
             [
              0.1111111111111111,
              "#46039f"
             ],
             [
              0.2222222222222222,
              "#7201a8"
             ],
             [
              0.3333333333333333,
              "#9c179e"
             ],
             [
              0.4444444444444444,
              "#bd3786"
             ],
             [
              0.5555555555555556,
              "#d8576b"
             ],
             [
              0.6666666666666666,
              "#ed7953"
             ],
             [
              0.7777777777777778,
              "#fb9f3a"
             ],
             [
              0.8888888888888888,
              "#fdca26"
             ],
             [
              1,
              "#f0f921"
             ]
            ],
            "type": "heatmap"
           }
          ],
          "heatmapgl": [
           {
            "colorbar": {
             "outlinewidth": 0,
             "ticks": ""
            },
            "colorscale": [
             [
              0,
              "#0d0887"
             ],
             [
              0.1111111111111111,
              "#46039f"
             ],
             [
              0.2222222222222222,
              "#7201a8"
             ],
             [
              0.3333333333333333,
              "#9c179e"
             ],
             [
              0.4444444444444444,
              "#bd3786"
             ],
             [
              0.5555555555555556,
              "#d8576b"
             ],
             [
              0.6666666666666666,
              "#ed7953"
             ],
             [
              0.7777777777777778,
              "#fb9f3a"
             ],
             [
              0.8888888888888888,
              "#fdca26"
             ],
             [
              1,
              "#f0f921"
             ]
            ],
            "type": "heatmapgl"
           }
          ],
          "histogram": [
           {
            "marker": {
             "pattern": {
              "fillmode": "overlay",
              "size": 10,
              "solidity": 0.2
             }
            },
            "type": "histogram"
           }
          ],
          "histogram2d": [
           {
            "colorbar": {
             "outlinewidth": 0,
             "ticks": ""
            },
            "colorscale": [
             [
              0,
              "#0d0887"
             ],
             [
              0.1111111111111111,
              "#46039f"
             ],
             [
              0.2222222222222222,
              "#7201a8"
             ],
             [
              0.3333333333333333,
              "#9c179e"
             ],
             [
              0.4444444444444444,
              "#bd3786"
             ],
             [
              0.5555555555555556,
              "#d8576b"
             ],
             [
              0.6666666666666666,
              "#ed7953"
             ],
             [
              0.7777777777777778,
              "#fb9f3a"
             ],
             [
              0.8888888888888888,
              "#fdca26"
             ],
             [
              1,
              "#f0f921"
             ]
            ],
            "type": "histogram2d"
           }
          ],
          "histogram2dcontour": [
           {
            "colorbar": {
             "outlinewidth": 0,
             "ticks": ""
            },
            "colorscale": [
             [
              0,
              "#0d0887"
             ],
             [
              0.1111111111111111,
              "#46039f"
             ],
             [
              0.2222222222222222,
              "#7201a8"
             ],
             [
              0.3333333333333333,
              "#9c179e"
             ],
             [
              0.4444444444444444,
              "#bd3786"
             ],
             [
              0.5555555555555556,
              "#d8576b"
             ],
             [
              0.6666666666666666,
              "#ed7953"
             ],
             [
              0.7777777777777778,
              "#fb9f3a"
             ],
             [
              0.8888888888888888,
              "#fdca26"
             ],
             [
              1,
              "#f0f921"
             ]
            ],
            "type": "histogram2dcontour"
           }
          ],
          "mesh3d": [
           {
            "colorbar": {
             "outlinewidth": 0,
             "ticks": ""
            },
            "type": "mesh3d"
           }
          ],
          "parcoords": [
           {
            "line": {
             "colorbar": {
              "outlinewidth": 0,
              "ticks": ""
             }
            },
            "type": "parcoords"
           }
          ],
          "pie": [
           {
            "automargin": true,
            "type": "pie"
           }
          ],
          "scatter": [
           {
            "fillpattern": {
             "fillmode": "overlay",
             "size": 10,
             "solidity": 0.2
            },
            "type": "scatter"
           }
          ],
          "scatter3d": [
           {
            "line": {
             "colorbar": {
              "outlinewidth": 0,
              "ticks": ""
             }
            },
            "marker": {
             "colorbar": {
              "outlinewidth": 0,
              "ticks": ""
             }
            },
            "type": "scatter3d"
           }
          ],
          "scattercarpet": [
           {
            "marker": {
             "colorbar": {
              "outlinewidth": 0,
              "ticks": ""
             }
            },
            "type": "scattercarpet"
           }
          ],
          "scattergeo": [
           {
            "marker": {
             "colorbar": {
              "outlinewidth": 0,
              "ticks": ""
             }
            },
            "type": "scattergeo"
           }
          ],
          "scattergl": [
           {
            "marker": {
             "colorbar": {
              "outlinewidth": 0,
              "ticks": ""
             }
            },
            "type": "scattergl"
           }
          ],
          "scattermapbox": [
           {
            "marker": {
             "colorbar": {
              "outlinewidth": 0,
              "ticks": ""
             }
            },
            "type": "scattermapbox"
           }
          ],
          "scatterpolar": [
           {
            "marker": {
             "colorbar": {
              "outlinewidth": 0,
              "ticks": ""
             }
            },
            "type": "scatterpolar"
           }
          ],
          "scatterpolargl": [
           {
            "marker": {
             "colorbar": {
              "outlinewidth": 0,
              "ticks": ""
             }
            },
            "type": "scatterpolargl"
           }
          ],
          "scatterternary": [
           {
            "marker": {
             "colorbar": {
              "outlinewidth": 0,
              "ticks": ""
             }
            },
            "type": "scatterternary"
           }
          ],
          "surface": [
           {
            "colorbar": {
             "outlinewidth": 0,
             "ticks": ""
            },
            "colorscale": [
             [
              0,
              "#0d0887"
             ],
             [
              0.1111111111111111,
              "#46039f"
             ],
             [
              0.2222222222222222,
              "#7201a8"
             ],
             [
              0.3333333333333333,
              "#9c179e"
             ],
             [
              0.4444444444444444,
              "#bd3786"
             ],
             [
              0.5555555555555556,
              "#d8576b"
             ],
             [
              0.6666666666666666,
              "#ed7953"
             ],
             [
              0.7777777777777778,
              "#fb9f3a"
             ],
             [
              0.8888888888888888,
              "#fdca26"
             ],
             [
              1,
              "#f0f921"
             ]
            ],
            "type": "surface"
           }
          ],
          "table": [
           {
            "cells": {
             "fill": {
              "color": "#EBF0F8"
             },
             "line": {
              "color": "white"
             }
            },
            "header": {
             "fill": {
              "color": "#C8D4E3"
             },
             "line": {
              "color": "white"
             }
            },
            "type": "table"
           }
          ]
         },
         "layout": {
          "annotationdefaults": {
           "arrowcolor": "#2a3f5f",
           "arrowhead": 0,
           "arrowwidth": 1
          },
          "autotypenumbers": "strict",
          "coloraxis": {
           "colorbar": {
            "outlinewidth": 0,
            "ticks": ""
           }
          },
          "colorscale": {
           "diverging": [
            [
             0,
             "#8e0152"
            ],
            [
             0.1,
             "#c51b7d"
            ],
            [
             0.2,
             "#de77ae"
            ],
            [
             0.3,
             "#f1b6da"
            ],
            [
             0.4,
             "#fde0ef"
            ],
            [
             0.5,
             "#f7f7f7"
            ],
            [
             0.6,
             "#e6f5d0"
            ],
            [
             0.7,
             "#b8e186"
            ],
            [
             0.8,
             "#7fbc41"
            ],
            [
             0.9,
             "#4d9221"
            ],
            [
             1,
             "#276419"
            ]
           ],
           "sequential": [
            [
             0,
             "#0d0887"
            ],
            [
             0.1111111111111111,
             "#46039f"
            ],
            [
             0.2222222222222222,
             "#7201a8"
            ],
            [
             0.3333333333333333,
             "#9c179e"
            ],
            [
             0.4444444444444444,
             "#bd3786"
            ],
            [
             0.5555555555555556,
             "#d8576b"
            ],
            [
             0.6666666666666666,
             "#ed7953"
            ],
            [
             0.7777777777777778,
             "#fb9f3a"
            ],
            [
             0.8888888888888888,
             "#fdca26"
            ],
            [
             1,
             "#f0f921"
            ]
           ],
           "sequentialminus": [
            [
             0,
             "#0d0887"
            ],
            [
             0.1111111111111111,
             "#46039f"
            ],
            [
             0.2222222222222222,
             "#7201a8"
            ],
            [
             0.3333333333333333,
             "#9c179e"
            ],
            [
             0.4444444444444444,
             "#bd3786"
            ],
            [
             0.5555555555555556,
             "#d8576b"
            ],
            [
             0.6666666666666666,
             "#ed7953"
            ],
            [
             0.7777777777777778,
             "#fb9f3a"
            ],
            [
             0.8888888888888888,
             "#fdca26"
            ],
            [
             1,
             "#f0f921"
            ]
           ]
          },
          "colorway": [
           "#636efa",
           "#EF553B",
           "#00cc96",
           "#ab63fa",
           "#FFA15A",
           "#19d3f3",
           "#FF6692",
           "#B6E880",
           "#FF97FF",
           "#FECB52"
          ],
          "font": {
           "color": "#2a3f5f"
          },
          "geo": {
           "bgcolor": "white",
           "lakecolor": "white",
           "landcolor": "#E5ECF6",
           "showlakes": true,
           "showland": true,
           "subunitcolor": "white"
          },
          "hoverlabel": {
           "align": "left"
          },
          "hovermode": "closest",
          "mapbox": {
           "style": "light"
          },
          "paper_bgcolor": "white",
          "plot_bgcolor": "#E5ECF6",
          "polar": {
           "angularaxis": {
            "gridcolor": "white",
            "linecolor": "white",
            "ticks": ""
           },
           "bgcolor": "#E5ECF6",
           "radialaxis": {
            "gridcolor": "white",
            "linecolor": "white",
            "ticks": ""
           }
          },
          "scene": {
           "xaxis": {
            "backgroundcolor": "#E5ECF6",
            "gridcolor": "white",
            "gridwidth": 2,
            "linecolor": "white",
            "showbackground": true,
            "ticks": "",
            "zerolinecolor": "white"
           },
           "yaxis": {
            "backgroundcolor": "#E5ECF6",
            "gridcolor": "white",
            "gridwidth": 2,
            "linecolor": "white",
            "showbackground": true,
            "ticks": "",
            "zerolinecolor": "white"
           },
           "zaxis": {
            "backgroundcolor": "#E5ECF6",
            "gridcolor": "white",
            "gridwidth": 2,
            "linecolor": "white",
            "showbackground": true,
            "ticks": "",
            "zerolinecolor": "white"
           }
          },
          "shapedefaults": {
           "line": {
            "color": "#2a3f5f"
           }
          },
          "ternary": {
           "aaxis": {
            "gridcolor": "white",
            "linecolor": "white",
            "ticks": ""
           },
           "baxis": {
            "gridcolor": "white",
            "linecolor": "white",
            "ticks": ""
           },
           "bgcolor": "#E5ECF6",
           "caxis": {
            "gridcolor": "white",
            "linecolor": "white",
            "ticks": ""
           }
          },
          "title": {
           "x": 0.05
          },
          "xaxis": {
           "automargin": true,
           "gridcolor": "white",
           "linecolor": "white",
           "ticks": "",
           "title": {
            "standoff": 15
           },
           "zerolinecolor": "white",
           "zerolinewidth": 2
          },
          "yaxis": {
           "automargin": true,
           "gridcolor": "white",
           "linecolor": "white",
           "ticks": "",
           "title": {
            "standoff": 15
           },
           "zerolinecolor": "white",
           "zerolinewidth": 2
          }
         }
        },
        "title": {
         "text": "Hsitogramme des variables"
        },
        "width": 800,
        "xaxis": {
         "anchor": "y",
         "domain": [
          0,
          0.45
         ]
        },
        "xaxis2": {
         "anchor": "y2",
         "domain": [
          0.55,
          1
         ]
        },
        "xaxis3": {
         "anchor": "y3",
         "domain": [
          0,
          0.45
         ]
        },
        "xaxis4": {
         "anchor": "y4",
         "domain": [
          0.55,
          1
         ]
        },
        "xaxis5": {
         "anchor": "y5",
         "domain": [
          0,
          0.45
         ]
        },
        "xaxis6": {
         "anchor": "y6",
         "domain": [
          0.55,
          1
         ]
        },
        "yaxis": {
         "anchor": "x",
         "domain": [
          0.7333333333333333,
          1
         ]
        },
        "yaxis2": {
         "anchor": "x2",
         "domain": [
          0.7333333333333333,
          1
         ]
        },
        "yaxis3": {
         "anchor": "x3",
         "domain": [
          0.36666666666666664,
          0.6333333333333333
         ]
        },
        "yaxis4": {
         "anchor": "x4",
         "domain": [
          0.36666666666666664,
          0.6333333333333333
         ]
        },
        "yaxis5": {
         "anchor": "x5",
         "domain": [
          0,
          0.26666666666666666
         ]
        },
        "yaxis6": {
         "anchor": "x6",
         "domain": [
          0,
          0.26666666666666666
         ]
        }
       }
      }
     },
     "metadata": {},
     "output_type": "display_data"
    }
   ],
   "source": [
    "## for numerical features\n",
    "\n",
    "numerical_features = ['Age', 'Credit amount', 'Duration', 'Job'] \n",
    "fig = make_subplots(rows=3, cols=2, subplot_titles=None)\n",
    "\n",
    "fig.add_trace(go.Histogram(x=train['Age'], name='Age'), row=1, col=1)\n",
    "fig.add_trace(go.Histogram(x =train['Credit amount'], name='Credit Ammount'), row=2, col=2)\n",
    "fig.add_trace(go.Histogram(x =train['Duration'], name='Duration'), row=3, col=1)\n",
    "fig.add_trace(go.Histogram(x = train['Job'], name='Job'), row=3, col=2)\n",
    "\n",
    "fig.update_layout(height=800, width=800, title_text = 'Hsitogramme des variables')\n",
    "fig.show()"
   ]
  },
  {
   "cell_type": "code",
   "execution_count": 15,
   "metadata": {},
   "outputs": [
    {
     "data": {
      "text/html": [
       "<div>\n",
       "<style scoped>\n",
       "    .dataframe tbody tr th:only-of-type {\n",
       "        vertical-align: middle;\n",
       "    }\n",
       "\n",
       "    .dataframe tbody tr th {\n",
       "        vertical-align: top;\n",
       "    }\n",
       "\n",
       "    .dataframe thead th {\n",
       "        text-align: right;\n",
       "    }\n",
       "</style>\n",
       "<table border=\"1\" class=\"dataframe\">\n",
       "  <thead>\n",
       "    <tr style=\"text-align: right;\">\n",
       "      <th></th>\n",
       "      <th>Age</th>\n",
       "      <th>Sex</th>\n",
       "      <th>Job</th>\n",
       "      <th>Housing</th>\n",
       "      <th>Saving accounts</th>\n",
       "      <th>Checking account</th>\n",
       "      <th>Credit amount</th>\n",
       "      <th>Duration</th>\n",
       "      <th>Purpose</th>\n",
       "      <th>Risk</th>\n",
       "    </tr>\n",
       "  </thead>\n",
       "  <tbody>\n",
       "    <tr>\n",
       "      <th>0</th>\n",
       "      <td>67</td>\n",
       "      <td>male</td>\n",
       "      <td>2</td>\n",
       "      <td>own</td>\n",
       "      <td>NaN</td>\n",
       "      <td>little</td>\n",
       "      <td>1169</td>\n",
       "      <td>6</td>\n",
       "      <td>radio/TV</td>\n",
       "      <td>good</td>\n",
       "    </tr>\n",
       "    <tr>\n",
       "      <th>1</th>\n",
       "      <td>22</td>\n",
       "      <td>female</td>\n",
       "      <td>2</td>\n",
       "      <td>own</td>\n",
       "      <td>little</td>\n",
       "      <td>moderate</td>\n",
       "      <td>5951</td>\n",
       "      <td>48</td>\n",
       "      <td>radio/TV</td>\n",
       "      <td>bad</td>\n",
       "    </tr>\n",
       "    <tr>\n",
       "      <th>2</th>\n",
       "      <td>49</td>\n",
       "      <td>male</td>\n",
       "      <td>1</td>\n",
       "      <td>own</td>\n",
       "      <td>little</td>\n",
       "      <td>NaN</td>\n",
       "      <td>2096</td>\n",
       "      <td>12</td>\n",
       "      <td>education</td>\n",
       "      <td>good</td>\n",
       "    </tr>\n",
       "    <tr>\n",
       "      <th>3</th>\n",
       "      <td>45</td>\n",
       "      <td>male</td>\n",
       "      <td>2</td>\n",
       "      <td>free</td>\n",
       "      <td>little</td>\n",
       "      <td>little</td>\n",
       "      <td>7882</td>\n",
       "      <td>42</td>\n",
       "      <td>furniture/equipment</td>\n",
       "      <td>good</td>\n",
       "    </tr>\n",
       "    <tr>\n",
       "      <th>4</th>\n",
       "      <td>53</td>\n",
       "      <td>male</td>\n",
       "      <td>2</td>\n",
       "      <td>free</td>\n",
       "      <td>little</td>\n",
       "      <td>little</td>\n",
       "      <td>4870</td>\n",
       "      <td>24</td>\n",
       "      <td>car</td>\n",
       "      <td>bad</td>\n",
       "    </tr>\n",
       "  </tbody>\n",
       "</table>\n",
       "</div>"
      ],
      "text/plain": [
       "   Age     Sex  Job Housing Saving accounts Checking account  Credit amount  \\\n",
       "0   67    male    2     own             NaN           little           1169   \n",
       "1   22  female    2     own          little         moderate           5951   \n",
       "2   49    male    1     own          little              NaN           2096   \n",
       "3   45    male    2    free          little           little           7882   \n",
       "4   53    male    2    free          little           little           4870   \n",
       "\n",
       "   Duration              Purpose  Risk  \n",
       "0         6             radio/TV  good  \n",
       "1        48             radio/TV   bad  \n",
       "2        12            education  good  \n",
       "3        42  furniture/equipment  good  \n",
       "4        24                  car   bad  "
      ]
     },
     "execution_count": 15,
     "metadata": {},
     "output_type": "execute_result"
    }
   ],
   "source": [
    "train.head()"
   ]
  },
  {
   "cell_type": "markdown",
   "metadata": {},
   "source": [
    "## Features \n",
    " * Âge (numérique)\n",
    "    * Sexe (texte : masculin, féminin)\n",
    "    * Emploi (numérique : 0 - non qualifié et non-résident, 1 - non qualifié et résident, 2 - qualifié, 3 - hautement qualifié)\n",
    "    * Logement (texte : propre, loué ou gratuit)\n",
    "    * Comptes d'épargne (texte - petit, modéré, assez riche, riche)\n",
    "    * Compte courant (numérique, en DM - Deutsch Mark)\n",
    "    * Montant du crédit (numérique, en DM)\n",
    "    * Durée (numérique, en mois)\n",
    "    * Objectif (texte : voiture, meubles/équipements, radio/TV, appareils électroménagers, réparations, éducation, affaires, vacances/autres)"
   ]
  },
  {
   "cell_type": "code",
   "execution_count": 16,
   "metadata": {},
   "outputs": [
    {
     "data": {
      "text/html": [
       "<div>\n",
       "<style scoped>\n",
       "    .dataframe tbody tr th:only-of-type {\n",
       "        vertical-align: middle;\n",
       "    }\n",
       "\n",
       "    .dataframe tbody tr th {\n",
       "        vertical-align: top;\n",
       "    }\n",
       "\n",
       "    .dataframe thead th {\n",
       "        text-align: right;\n",
       "    }\n",
       "</style>\n",
       "<table border=\"1\" class=\"dataframe\">\n",
       "  <thead>\n",
       "    <tr style=\"text-align: right;\">\n",
       "      <th></th>\n",
       "      <th>Age</th>\n",
       "      <th>Sex</th>\n",
       "      <th>Job</th>\n",
       "      <th>Housing</th>\n",
       "      <th>Saving accounts</th>\n",
       "      <th>Checking account</th>\n",
       "      <th>Credit amount</th>\n",
       "      <th>Duration</th>\n",
       "      <th>Purpose</th>\n",
       "      <th>Risk</th>\n",
       "    </tr>\n",
       "  </thead>\n",
       "  <tbody>\n",
       "    <tr>\n",
       "      <th>0</th>\n",
       "      <td>67</td>\n",
       "      <td>male</td>\n",
       "      <td>2</td>\n",
       "      <td>own</td>\n",
       "      <td>NaN</td>\n",
       "      <td>little</td>\n",
       "      <td>1169</td>\n",
       "      <td>6</td>\n",
       "      <td>radio/TV</td>\n",
       "      <td>good</td>\n",
       "    </tr>\n",
       "    <tr>\n",
       "      <th>2</th>\n",
       "      <td>49</td>\n",
       "      <td>male</td>\n",
       "      <td>1</td>\n",
       "      <td>own</td>\n",
       "      <td>little</td>\n",
       "      <td>NaN</td>\n",
       "      <td>2096</td>\n",
       "      <td>12</td>\n",
       "      <td>education</td>\n",
       "      <td>good</td>\n",
       "    </tr>\n",
       "    <tr>\n",
       "      <th>3</th>\n",
       "      <td>45</td>\n",
       "      <td>male</td>\n",
       "      <td>2</td>\n",
       "      <td>free</td>\n",
       "      <td>little</td>\n",
       "      <td>little</td>\n",
       "      <td>7882</td>\n",
       "      <td>42</td>\n",
       "      <td>furniture/equipment</td>\n",
       "      <td>good</td>\n",
       "    </tr>\n",
       "    <tr>\n",
       "      <th>5</th>\n",
       "      <td>35</td>\n",
       "      <td>male</td>\n",
       "      <td>1</td>\n",
       "      <td>free</td>\n",
       "      <td>NaN</td>\n",
       "      <td>NaN</td>\n",
       "      <td>9055</td>\n",
       "      <td>36</td>\n",
       "      <td>education</td>\n",
       "      <td>good</td>\n",
       "    </tr>\n",
       "    <tr>\n",
       "      <th>6</th>\n",
       "      <td>53</td>\n",
       "      <td>male</td>\n",
       "      <td>2</td>\n",
       "      <td>own</td>\n",
       "      <td>quite rich</td>\n",
       "      <td>NaN</td>\n",
       "      <td>2835</td>\n",
       "      <td>24</td>\n",
       "      <td>furniture/equipment</td>\n",
       "      <td>good</td>\n",
       "    </tr>\n",
       "    <tr>\n",
       "      <th>...</th>\n",
       "      <td>...</td>\n",
       "      <td>...</td>\n",
       "      <td>...</td>\n",
       "      <td>...</td>\n",
       "      <td>...</td>\n",
       "      <td>...</td>\n",
       "      <td>...</td>\n",
       "      <td>...</td>\n",
       "      <td>...</td>\n",
       "      <td>...</td>\n",
       "    </tr>\n",
       "    <tr>\n",
       "      <th>994</th>\n",
       "      <td>50</td>\n",
       "      <td>male</td>\n",
       "      <td>2</td>\n",
       "      <td>own</td>\n",
       "      <td>NaN</td>\n",
       "      <td>NaN</td>\n",
       "      <td>2390</td>\n",
       "      <td>12</td>\n",
       "      <td>car</td>\n",
       "      <td>good</td>\n",
       "    </tr>\n",
       "    <tr>\n",
       "      <th>995</th>\n",
       "      <td>31</td>\n",
       "      <td>female</td>\n",
       "      <td>1</td>\n",
       "      <td>own</td>\n",
       "      <td>little</td>\n",
       "      <td>NaN</td>\n",
       "      <td>1736</td>\n",
       "      <td>12</td>\n",
       "      <td>furniture/equipment</td>\n",
       "      <td>good</td>\n",
       "    </tr>\n",
       "    <tr>\n",
       "      <th>996</th>\n",
       "      <td>40</td>\n",
       "      <td>male</td>\n",
       "      <td>3</td>\n",
       "      <td>own</td>\n",
       "      <td>little</td>\n",
       "      <td>little</td>\n",
       "      <td>3857</td>\n",
       "      <td>30</td>\n",
       "      <td>car</td>\n",
       "      <td>good</td>\n",
       "    </tr>\n",
       "    <tr>\n",
       "      <th>997</th>\n",
       "      <td>38</td>\n",
       "      <td>male</td>\n",
       "      <td>2</td>\n",
       "      <td>own</td>\n",
       "      <td>little</td>\n",
       "      <td>NaN</td>\n",
       "      <td>804</td>\n",
       "      <td>12</td>\n",
       "      <td>radio/TV</td>\n",
       "      <td>good</td>\n",
       "    </tr>\n",
       "    <tr>\n",
       "      <th>999</th>\n",
       "      <td>27</td>\n",
       "      <td>male</td>\n",
       "      <td>2</td>\n",
       "      <td>own</td>\n",
       "      <td>moderate</td>\n",
       "      <td>moderate</td>\n",
       "      <td>4576</td>\n",
       "      <td>45</td>\n",
       "      <td>car</td>\n",
       "      <td>good</td>\n",
       "    </tr>\n",
       "  </tbody>\n",
       "</table>\n",
       "<p>700 rows × 10 columns</p>\n",
       "</div>"
      ],
      "text/plain": [
       "     Age     Sex  Job Housing Saving accounts Checking account  Credit amount  \\\n",
       "0     67    male    2     own             NaN           little           1169   \n",
       "2     49    male    1     own          little              NaN           2096   \n",
       "3     45    male    2    free          little           little           7882   \n",
       "5     35    male    1    free             NaN              NaN           9055   \n",
       "6     53    male    2     own      quite rich              NaN           2835   \n",
       "..   ...     ...  ...     ...             ...              ...            ...   \n",
       "994   50    male    2     own             NaN              NaN           2390   \n",
       "995   31  female    1     own          little              NaN           1736   \n",
       "996   40    male    3     own          little           little           3857   \n",
       "997   38    male    2     own          little              NaN            804   \n",
       "999   27    male    2     own        moderate         moderate           4576   \n",
       "\n",
       "     Duration              Purpose  Risk  \n",
       "0           6             radio/TV  good  \n",
       "2          12            education  good  \n",
       "3          42  furniture/equipment  good  \n",
       "5          36            education  good  \n",
       "6          24  furniture/equipment  good  \n",
       "..        ...                  ...   ...  \n",
       "994        12                  car  good  \n",
       "995        12  furniture/equipment  good  \n",
       "996        30                  car  good  \n",
       "997        12             radio/TV  good  \n",
       "999        45                  car  good  \n",
       "\n",
       "[700 rows x 10 columns]"
      ]
     },
     "execution_count": 16,
     "metadata": {},
     "output_type": "execute_result"
    }
   ],
   "source": [
    "df_good = train[train['Risk']=='good']\n",
    "df_bad = train[train['Risk']=='bad']\n",
    "df_good\n"
   ]
  },
  {
   "cell_type": "code",
   "execution_count": 17,
   "metadata": {},
   "outputs": [
    {
     "data": {
      "image/png": "[encoded data removed]",
      "text/plain": [
       "<Figure size 1000x1000 with 1 Axes>"
      ]
     },
     "metadata": {},
     "output_type": "display_data"
    }
   ],
   "source": [
    "import matplotlib.pyplot as plt\n",
    "plt.figure(figsize=(10, 10))\n",
    "sns.boxplot(data=train, x = 'Age', y='Job')\n",
    "plt.title('Relation entre age et le type de job')\n",
    "plt.xlabel(f'AGe')\n",
    "plt.ylabel('Job')\n",
    "plt.show()"
   ]
  },
  {
   "cell_type": "code",
   "execution_count": 18,
   "metadata": {},
   "outputs": [
    {
     "data": {
      "image/png": "[encoded data removed]",
      "text/plain": [
       "<Figure size 1000x1000 with 1 Axes>"
      ]
     },
     "metadata": {},
     "output_type": "display_data"
    }
   ],
   "source": [
    "plt.figure(figsize=(10, 10))\n",
    "sns.lineplot(data=train, x='Duration', y='Credit amount', hue = \"Risk\")\n",
    "plt.title('Variation de la duree en fonction du montant de credit')\n",
    "plt.xlabel('Duration')\n",
    "plt.ylabel('Credit amount')\n",
    "plt.show()"
   ]
  },
  {
   "cell_type": "markdown",
   "metadata": {},
   "source": [
    "##### Good risk"
   ]
  },
  {
   "cell_type": "code",
   "execution_count": 19,
   "metadata": {},
   "outputs": [
    {
     "data": {
      "application/vnd.plotly.v1+json": {
       "config": {
        "plotlyServerURL": "https://plot.ly"
       },
       "data": [
        {
         "name": "Age",
         "type": "histogram",
         "x": [
          67,
          49,
          45,
          35,
          53,
          35,
          61,
          22,
          28,
          53,
          25,
          31,
          48,
          44,
          48,
          44,
          26,
          36,
          39,
          42,
          34,
          36,
          27,
          30,
          57,
          33,
          31,
          37,
          24,
          30,
          26,
          44,
          24,
          35,
          39,
          23,
          39,
          28,
          29,
          30,
          25,
          31,
          26,
          31,
          23,
          27,
          50,
          26,
          48,
          29,
          22,
          25,
          30,
          46,
          51,
          41,
          66,
          51,
          39,
          22,
          47,
          24,
          58,
          52,
          29,
          27,
          30,
          56,
          54,
          20,
          54,
          61,
          34,
          36,
          36,
          41,
          24,
          24,
          35,
          26,
          32,
          30,
          35,
          31,
          23,
          28,
          35,
          47,
          27,
          36,
          41,
          24,
          63,
          30,
          40,
          34,
          24,
          27,
          47,
          21,
          38,
          27,
          35,
          44,
          27,
          30,
          27,
          23,
          30,
          39,
          51,
          28,
          46,
          42,
          38,
          24,
          29,
          36,
          48,
          45,
          38,
          34,
          36,
          30,
          36,
          70,
          36,
          32,
          20,
          25,
          26,
          33,
          42,
          52,
          31,
          65,
          50,
          31,
          68,
          33,
          29,
          28,
          36,
          52,
          27,
          26,
          38,
          38,
          43,
          26,
          21,
          55,
          33,
          45,
          51,
          39,
          31,
          23,
          24,
          64,
          26,
          23,
          30,
          32,
          30,
          27,
          22,
          51,
          35,
          25,
          42,
          35,
          39,
          51,
          27,
          35,
          25,
          52,
          35,
          26,
          39,
          46,
          35,
          24,
          27,
          35,
          23,
          57,
          27,
          55,
          36,
          57,
          32,
          36,
          38,
          25,
          32,
          37,
          36,
          32,
          26,
          49,
          29,
          23,
          50,
          49,
          63,
          37,
          35,
          26,
          31,
          49,
          26,
          44,
          56,
          46,
          20,
          45,
          43,
          32,
          54,
          49,
          33,
          24,
          22,
          40,
          25,
          26,
          29,
          38,
          48,
          32,
          27,
          34,
          28,
          36,
          39,
          49,
          34,
          31,
          28,
          75,
          23,
          28,
          31,
          24,
          26,
          25,
          33,
          37,
          43,
          23,
          23,
          34,
          23,
          38,
          46,
          49,
          28,
          61,
          37,
          36,
          21,
          36,
          27,
          22,
          40,
          36,
          33,
          23,
          63,
          34,
          36,
          52,
          39,
          25,
          26,
          26,
          25,
          21,
          40,
          27,
          27,
          30,
          19,
          39,
          31,
          31,
          32,
          55,
          46,
          43,
          39,
          28,
          27,
          43,
          43,
          27,
          26,
          20,
          35,
          40,
          35,
          23,
          31,
          20,
          30,
          47,
          34,
          21,
          29,
          46,
          20,
          74,
          36,
          33,
          25,
          23,
          37,
          65,
          39,
          30,
          29,
          41,
          35,
          55,
          30,
          29,
          34,
          35,
          29,
          36,
          27,
          32,
          37,
          36,
          34,
          38,
          34,
          63,
          32,
          26,
          35,
          36,
          24,
          25,
          39,
          44,
          23,
          26,
          57,
          30,
          44,
          52,
          62,
          35,
          26,
          26,
          27,
          38,
          39,
          40,
          32,
          28,
          42,
          49,
          36,
          28,
          45,
          32,
          26,
          20,
          54,
          37,
          40,
          43,
          36,
          44,
          23,
          26,
          30,
          31,
          42,
          41,
          32,
          41,
          26,
          25,
          75,
          37,
          45,
          60,
          61,
          37,
          32,
          35,
          23,
          45,
          27,
          67,
          49,
          29,
          37,
          23,
          34,
          41,
          38,
          26,
          22,
          27,
          24,
          27,
          33,
          27,
          49,
          26,
          52,
          36,
          21,
          58,
          42,
          36,
          32,
          45,
          23,
          22,
          74,
          33,
          45,
          29,
          22,
          48,
          27,
          37,
          49,
          27,
          22,
          35,
          41,
          36,
          64,
          28,
          23,
          47,
          28,
          21,
          34,
          38,
          33,
          32,
          32,
          50,
          35,
          22,
          37,
          28,
          41,
          23,
          50,
          35,
          50,
          27,
          34,
          27,
          47,
          27,
          31,
          42,
          24,
          26,
          33,
          64,
          26,
          56,
          37,
          33,
          47,
          31,
          34,
          27,
          30,
          35,
          31,
          25,
          25,
          29,
          44,
          28,
          50,
          29,
          38,
          24,
          40,
          47,
          41,
          32,
          35,
          25,
          37,
          32,
          46,
          25,
          63,
          40,
          32,
          31,
          31,
          66,
          41,
          47,
          36,
          33,
          44,
          28,
          37,
          29,
          35,
          45,
          32,
          23,
          41,
          22,
          30,
          28,
          23,
          26,
          33,
          49,
          23,
          25,
          74,
          31,
          59,
          24,
          27,
          40,
          31,
          28,
          63,
          26,
          36,
          52,
          66,
          37,
          25,
          38,
          67,
          60,
          31,
          60,
          35,
          40,
          38,
          41,
          27,
          51,
          32,
          22,
          22,
          54,
          35,
          54,
          48,
          24,
          35,
          24,
          26,
          65,
          55,
          26,
          28,
          54,
          62,
          24,
          43,
          27,
          24,
          47,
          35,
          30,
          38,
          44,
          42,
          21,
          23,
          63,
          46,
          28,
          50,
          47,
          35,
          28,
          59,
          43,
          35,
          45,
          33,
          40,
          28,
          26,
          27,
          32,
          20,
          27,
          42,
          37,
          24,
          40,
          46,
          26,
          24,
          29,
          40,
          36,
          28,
          36,
          38,
          48,
          36,
          65,
          34,
          34,
          40,
          43,
          46,
          38,
          34,
          29,
          31,
          28,
          35,
          33,
          44,
          42,
          40,
          36,
          20,
          24,
          27,
          46,
          33,
          34,
          25,
          28,
          32,
          28,
          37,
          30,
          21,
          58,
          43,
          24,
          30,
          42,
          23,
          30,
          46,
          45,
          31,
          31,
          42,
          46,
          30,
          38,
          40,
          29,
          57,
          49,
          37,
          30,
          30,
          47,
          29,
          22,
          26,
          54,
          29,
          40,
          22,
          43,
          33,
          57,
          64,
          42,
          28,
          30,
          25,
          33,
          64,
          29,
          48,
          37,
          34,
          23,
          30,
          50,
          31,
          40,
          38,
          27
         ],
         "xaxis": "x",
         "yaxis": "y"
        },
        {
         "name": "Credit Ammount",
         "type": "histogram",
         "x": [
          1169,
          2096,
          7882,
          9055,
          2835,
          6948,
          3059,
          1567,
          1403,
          2424,
          8072,
          3430,
          2134,
          2647,
          2241,
          1804,
          2069,
          1374,
          426,
          409,
          2415,
          1913,
          4020,
          5866,
          1264,
          1474,
          6110,
          1225,
          458,
          2333,
          1158,
          6204,
          6187,
          1393,
          2299,
          1352,
          7228,
          2073,
          2333,
          5965,
          1262,
          3378,
          783,
          9566,
          1961,
          1391,
          1537,
          3181,
          5190,
          2171,
          1007,
          2394,
          8133,
          730,
          1164,
          5954,
          1526,
          4771,
          9436,
          3832,
          1213,
          1568,
          1755,
          2315,
          1412,
          1295,
          2249,
          618,
          1409,
          3617,
          1318,
          2012,
          2622,
          2337,
          7057,
          1469,
          2323,
          932,
          1919,
          2445,
          6078,
          7721,
          1410,
          1449,
          392,
          6260,
          1680,
          3578,
          2132,
          2366,
          3868,
          1768,
          781,
          2121,
          701,
          1860,
          8487,
          2708,
          1984,
          10144,
          1240,
          8613,
          2728,
          1881,
          709,
          4795,
          3416,
          2288,
          3566,
          860,
          682,
          5371,
          1582,
          1346,
          1924,
          5848,
          7758,
          6967,
          1288,
          339,
          3512,
          1898,
          2872,
          1055,
          1262,
          7308,
          909,
          2978,
          1577,
          3972,
          763,
          1414,
          2577,
          338,
          1963,
          571,
          3777,
          1360,
          1175,
          3244,
          2108,
          1382,
          2760,
          936,
          1168,
          5117,
          1495,
          10623,
          1935,
          1424,
          6568,
          1413,
          3074,
          3835,
          3342,
          932,
          3104,
          3913,
          3021,
          1364,
          625,
          1200,
          707,
          2978,
          4657,
          2613,
          3149,
          2507,
          2141,
          866,
          1544,
          1291,
          2522,
          1595,
          1185,
          3447,
          1258,
          717,
          1204,
          1925,
          666,
          2251,
          4151,
          2030,
          7418,
          2684,
          3812,
          1154,
          1657,
          1603,
          5302,
          2748,
          1231,
          6304,
          1533,
          999,
          2662,
          1402,
          12169,
          2697,
          2404,
          1262,
          1901,
          3368,
          1574,
          1445,
          1520,
          3878,
          10722,
          4788,
          7582,
          1092,
          1076,
          6419,
          4796,
          7629,
          4675,
          1287,
          2515,
          2745,
          672,
          1038,
          1543,
          4811,
          276,
          5381,
          5511,
          3749,
          1494,
          708,
          4351,
          701,
          3643,
          2910,
          2659,
          1028,
          3398,
          5801,
          1525,
          4473,
          1068,
          6615,
          2101,
          4169,
          1521,
          5743,
          3599,
          3213,
          4439,
          3949,
          1459,
          882,
          3758,
          1743,
          1236,
          3229,
          727,
          2331,
          776,
          1239,
          3399,
          2247,
          1766,
          1542,
          3850,
          3650,
          3001,
          3079,
          6070,
          2146,
          13756,
          2320,
          846,
          362,
          2212,
          1283,
          1330,
          4272,
          2238,
          1126,
          7374,
          2326,
          1449,
          1820,
          983,
          3249,
          1957,
          2406,
          11760,
          2578,
          2348,
          1516,
          1473,
          1887,
          802,
          2899,
          2197,
          1053,
          3235,
          1967,
          7253,
          1597,
          5842,
          8471,
          2782,
          3186,
          2028,
          958,
          1591,
          2779,
          2743,
          1149,
          1313,
          3448,
          1872,
          2058,
          2136,
          660,
          1287,
          3394,
          1884,
          1620,
          2629,
          1244,
          2576,
          1424,
          11054,
          518,
          2759,
          2670,
          2679,
          3905,
          343,
          4594,
          3620,
          1721,
          3017,
          754,
          1950,
          2924,
          7238,
          2764,
          4679,
          1238,
          2569,
          5152,
          1037,
          1478,
          3573,
          1201,
          3622,
          960,
          1163,
          3077,
          3757,
          1418,
          3518,
          1934,
          1237,
          368,
          2122,
          1585,
          1301,
          1323,
          5493,
          1126,
          2360,
          1413,
          8588,
          4686,
          2687,
          585,
          2255,
          609,
          1361,
          1203,
          700,
          5507,
          3488,
          1113,
          7966,
          1532,
          1503,
          662,
          2273,
          1503,
          1311,
          3105,
          1374,
          3612,
          3049,
          2032,
          1255,
          2022,
          1552,
          8858,
          996,
          1750,
          1995,
          1199,
          2964,
          683,
          4712,
          1553,
          2578,
          3979,
          5954,
          5433,
          806,
          1082,
          2788,
          2930,
          1927,
          937,
          3124,
          1388,
          2133,
          2799,
          1289,
          385,
          1965,
          1572,
          3863,
          2329,
          1275,
          2828,
          4526,
          2051,
          1300,
          3357,
          3632,
          12204,
          9157,
          3676,
          640,
          3652,
          1858,
          1979,
          2116,
          4042,
          3832,
          3660,
          1444,
          1393,
          1376,
          15653,
          1493,
          1308,
          1851,
          1880,
          4583,
          7476,
          2346,
          3973,
          10222,
          4221,
          6361,
          1297,
          2241,
          1050,
          1047,
          6314,
          3496,
          3609,
          3017,
          4139,
          5742,
          10366,
          2080,
          4530,
          5150,
          2384,
          1453,
          1538,
          2279,
          1478,
          5103,
          9857,
          6527,
          1347,
          2862,
          2753,
          3651,
          975,
          2631,
          2896,
          4716,
          2284,
          1236,
          1103,
          926,
          1800,
          1905,
          1377,
          2503,
          2528,
          5324,
          1206,
          2118,
          629,
          2476,
          1138,
          7596,
          3077,
          1505,
          3148,
          6148,
          790,
          250,
          1316,
          1275,
          6403,
          760,
          2603,
          3380,
          3990,
          4380,
          6761,
          2325,
          1048,
          3160,
          2483,
          14179,
          1797,
          2511,
          5248,
          3029,
          428,
          841,
          5771,
          1299,
          1393,
          5045,
          2214,
          2463,
          1155,
          2901,
          3617,
          1655,
          2812,
          3275,
          2223,
          1480,
          3535,
          3509,
          5711,
          3872,
          1940,
          1410,
          6468,
          1941,
          2675,
          2751,
          6313,
          1221,
          2892,
          3062,
          2301,
          1258,
          717,
          1549,
          1597,
          1795,
          4272,
          976,
          7472,
          590,
          930,
          9283,
          907,
          484,
          7432,
          1338,
          1554,
          15857,
          1101,
          3016,
          731,
          3780,
          1602,
          6681,
          2375,
          5084,
          886,
          601,
          2957,
          2611,
          2993,
          1559,
          3422,
          3976,
          1249,
          1364,
          4042,
          1471,
          10875,
          1474,
          894,
          3343,
          3577,
          5804,
          4526,
          2221,
          2389,
          3331,
          7409,
          652,
          7678,
          1343,
          1382,
          874,
          3590,
          1322,
          1940,
          3595,
          6742,
          7814,
          9277,
          2181,
          1098,
          2825,
          6614,
          7824,
          2442,
          1829,
          2171,
          5800,
          1169,
          8947,
          2606,
          1592,
          2186,
          3485,
          10477,
          1386,
          1278,
          1107,
          3763,
          3711,
          3594,
          3195,
          4454,
          2991,
          2142,
          2848,
          1817,
          12749,
          2002,
          1049,
          1867,
          1344,
          1747,
          1224,
          522,
          1498,
          2063,
          6842,
          3527,
          1546,
          929,
          1455,
          1845,
          8358,
          2859,
          3590,
          1893,
          1231,
          3656,
          1154,
          3069,
          1740,
          2353,
          3556,
          454,
          1715,
          3568,
          7166,
          3939,
          1514,
          7393,
          2831,
          1258,
          753,
          2427,
          2923,
          2028,
          1433,
          6289,
          1409,
          6579,
          1743,
          3565,
          1569,
          1936,
          3959,
          2390,
          1736,
          3857,
          804,
          4576
         ],
         "xaxis": "x4",
         "yaxis": "y4"
        },
        {
         "name": "Duration",
         "type": "histogram",
         "x": [
          6,
          12,
          42,
          36,
          24,
          36,
          12,
          12,
          15,
          24,
          30,
          24,
          9,
          6,
          10,
          12,
          10,
          6,
          6,
          12,
          7,
          18,
          24,
          18,
          12,
          12,
          48,
          10,
          9,
          30,
          12,
          18,
          30,
          11,
          36,
          6,
          11,
          12,
          24,
          27,
          12,
          18,
          6,
          36,
          18,
          9,
          15,
          24,
          27,
          12,
          12,
          36,
          36,
          7,
          8,
          42,
          12,
          11,
          54,
          30,
          15,
          18,
          24,
          10,
          12,
          18,
          18,
          12,
          12,
          24,
          12,
          12,
          18,
          36,
          20,
          24,
          36,
          6,
          9,
          12,
          12,
          24,
          14,
          6,
          15,
          18,
          12,
          48,
          10,
          12,
          24,
          12,
          10,
          12,
          12,
          12,
          48,
          15,
          18,
          60,
          12,
          27,
          15,
          12,
          6,
          36,
          27,
          21,
          48,
          6,
          12,
          36,
          18,
          6,
          10,
          36,
          24,
          24,
          9,
          12,
          24,
          6,
          24,
          18,
          15,
          10,
          36,
          6,
          11,
          24,
          12,
          8,
          12,
          6,
          12,
          21,
          24,
          15,
          16,
          18,
          6,
          6,
          24,
          9,
          12,
          27,
          12,
          30,
          12,
          12,
          24,
          12,
          9,
          36,
          36,
          6,
          18,
          36,
          24,
          10,
          12,
          12,
          12,
          24,
          15,
          36,
          24,
          9,
          12,
          18,
          4,
          12,
          30,
          6,
          12,
          12,
          24,
          12,
          6,
          24,
          6,
          12,
          24,
          9,
          60,
          24,
          15,
          11,
          12,
          24,
          18,
          12,
          10,
          36,
          24,
          24,
          18,
          12,
          48,
          9,
          18,
          12,
          24,
          15,
          12,
          18,
          15,
          24,
          47,
          48,
          48,
          12,
          12,
          24,
          42,
          48,
          12,
          10,
          18,
          21,
          6,
          10,
          6,
          30,
          9,
          48,
          24,
          24,
          4,
          12,
          24,
          12,
          15,
          24,
          18,
          18,
          8,
          12,
          24,
          36,
          6,
          24,
          13,
          24,
          10,
          24,
          21,
          18,
          18,
          10,
          15,
          13,
          24,
          6,
          9,
          18,
          10,
          12,
          12,
          18,
          12,
          12,
          6,
          12,
          18,
          18,
          18,
          36,
          18,
          10,
          60,
          18,
          7,
          6,
          20,
          22,
          12,
          30,
          18,
          18,
          18,
          15,
          9,
          18,
          12,
          36,
          6,
          9,
          39,
          12,
          36,
          24,
          18,
          18,
          14,
          18,
          24,
          15,
          24,
          24,
          33,
          10,
          36,
          18,
          21,
          15,
          12,
          12,
          21,
          18,
          28,
          18,
          9,
          5,
          6,
          24,
          9,
          6,
          24,
          42,
          12,
          12,
          20,
          9,
          7,
          12,
          36,
          6,
          12,
          24,
          24,
          11,
          6,
          18,
          36,
          15,
          12,
          12,
          18,
          24,
          48,
          33,
          24,
          6,
          39,
          24,
          12,
          15,
          12,
          24,
          30,
          15,
          12,
          12,
          24,
          10,
          6,
          12,
          6,
          6,
          12,
          24,
          18,
          6,
          36,
          9,
          15,
          24,
          39,
          36,
          15,
          12,
          24,
          6,
          6,
          6,
          6,
          24,
          24,
          18,
          26,
          15,
          4,
          6,
          36,
          12,
          24,
          24,
          6,
          18,
          18,
          24,
          12,
          24,
          24,
          48,
          12,
          6,
          12,
          9,
          24,
          6,
          24,
          24,
          24,
          48,
          30,
          24,
          15,
          9,
          15,
          12,
          24,
          24,
          12,
          9,
          12,
          9,
          12,
          12,
          24,
          21,
          24,
          7,
          10,
          24,
          24,
          18,
          15,
          21,
          24,
          48,
          60,
          6,
          12,
          21,
          12,
          15,
          6,
          42,
          9,
          24,
          15,
          12,
          24,
          60,
          12,
          15,
          24,
          18,
          30,
          48,
          24,
          14,
          48,
          30,
          18,
          12,
          21,
          6,
          6,
          24,
          30,
          48,
          30,
          24,
          36,
          60,
          6,
          30,
          24,
          24,
          18,
          6,
          12,
          15,
          24,
          36,
          60,
          10,
          36,
          9,
          12,
          15,
          15,
          24,
          6,
          24,
          6,
          12,
          12,
          18,
          15,
          24,
          30,
          27,
          15,
          9,
          9,
          18,
          21,
          9,
          30,
          30,
          18,
          24,
          20,
          9,
          6,
          15,
          24,
          24,
          8,
          24,
          4,
          36,
          18,
          6,
          24,
          10,
          21,
          24,
          39,
          13,
          15,
          21,
          15,
          6,
          12,
          30,
          6,
          24,
          15,
          12,
          24,
          12,
          10,
          12,
          12,
          24,
          21,
          24,
          12,
          36,
          18,
          36,
          18,
          24,
          12,
          20,
          18,
          22,
          48,
          24,
          6,
          24,
          24,
          9,
          12,
          24,
          9,
          24,
          18,
          20,
          12,
          12,
          6,
          12,
          42,
          8,
          6,
          36,
          6,
          6,
          36,
          12,
          12,
          8,
          18,
          21,
          48,
          24,
          24,
          12,
          4,
          24,
          24,
          21,
          24,
          18,
          21,
          24,
          9,
          24,
          15,
          36,
          24,
          10,
          15,
          9,
          24,
          27,
          15,
          18,
          12,
          36,
          12,
          36,
          6,
          24,
          15,
          12,
          11,
          18,
          36,
          30,
          24,
          24,
          30,
          18,
          24,
          36,
          28,
          27,
          15,
          12,
          36,
          18,
          36,
          21,
          12,
          15,
          20,
          36,
          15,
          24,
          12,
          21,
          36,
          15,
          9,
          36,
          30,
          11,
          10,
          18,
          48,
          12,
          18,
          30,
          12,
          24,
          9,
          12,
          12,
          6,
          24,
          12,
          10,
          24,
          4,
          15,
          48,
          12,
          18,
          12,
          24,
          30,
          9,
          24,
          6,
          21,
          15,
          6,
          30,
          15,
          42,
          11,
          15,
          24,
          30,
          24,
          6,
          18,
          21,
          24,
          15,
          42,
          13,
          24,
          24,
          12,
          15,
          18,
          36,
          12,
          12,
          30,
          12,
          45
         ],
         "xaxis": "x5",
         "yaxis": "y5"
        },
        {
         "name": "Job",
         "type": "histogram",
         "x": [
          2,
          1,
          2,
          1,
          2,
          3,
          1,
          2,
          2,
          2,
          2,
          2,
          2,
          2,
          1,
          2,
          2,
          1,
          1,
          2,
          2,
          2,
          2,
          2,
          1,
          3,
          2,
          2,
          2,
          3,
          2,
          1,
          2,
          3,
          2,
          0,
          1,
          2,
          1,
          3,
          2,
          2,
          1,
          2,
          3,
          2,
          2,
          2,
          2,
          2,
          2,
          2,
          2,
          1,
          3,
          1,
          3,
          2,
          1,
          2,
          2,
          1,
          1,
          1,
          3,
          2,
          3,
          2,
          2,
          2,
          2,
          2,
          2,
          2,
          3,
          1,
          2,
          2,
          2,
          2,
          2,
          2,
          2,
          2,
          2,
          1,
          2,
          2,
          2,
          3,
          3,
          1,
          2,
          2,
          1,
          3,
          2,
          1,
          2,
          2,
          2,
          2,
          2,
          1,
          0,
          3,
          3,
          2,
          2,
          2,
          2,
          2,
          2,
          2,
          2,
          2,
          2,
          3,
          2,
          1,
          2,
          1,
          2,
          2,
          2,
          3,
          2,
          2,
          2,
          2,
          2,
          2,
          2,
          2,
          3,
          2,
          2,
          2,
          0,
          2,
          2,
          2,
          2,
          2,
          1,
          2,
          1,
          3,
          2,
          2,
          1,
          2,
          2,
          1,
          2,
          1,
          2,
          2,
          1,
          2,
          1,
          2,
          2,
          2,
          2,
          2,
          2,
          1,
          2,
          1,
          1,
          2,
          2,
          2,
          2,
          1,
          2,
          2,
          2,
          2,
          1,
          1,
          2,
          2,
          1,
          1,
          2,
          1,
          2,
          2,
          3,
          1,
          1,
          2,
          2,
          2,
          2,
          2,
          3,
          2,
          2,
          1,
          3,
          2,
          2,
          1,
          2,
          2,
          1,
          2,
          3,
          2,
          2,
          3,
          2,
          3,
          2,
          1,
          2,
          2,
          0,
          2,
          2,
          1,
          1,
          0,
          2,
          2,
          1,
          1,
          1,
          2,
          1,
          3,
          2,
          2,
          1,
          2,
          2,
          2,
          2,
          3,
          1,
          2,
          1,
          2,
          1,
          2,
          3,
          1,
          1,
          2,
          0,
          1,
          2,
          3,
          2,
          2,
          2,
          2,
          3,
          2,
          2,
          2,
          2,
          2,
          2,
          2,
          2,
          2,
          3,
          2,
          2,
          1,
          2,
          2,
          2,
          1,
          2,
          2,
          3,
          2,
          2,
          3,
          1,
          3,
          2,
          3,
          2,
          3,
          2,
          1,
          2,
          2,
          1,
          2,
          2,
          2,
          3,
          2,
          3,
          1,
          2,
          2,
          3,
          2,
          2,
          1,
          3,
          2,
          2,
          2,
          2,
          1,
          3,
          2,
          2,
          1,
          2,
          0,
          3,
          2,
          2,
          1,
          2,
          3,
          3,
          2,
          2,
          3,
          3,
          2,
          2,
          2,
          2,
          2,
          3,
          2,
          2,
          2,
          2,
          2,
          1,
          3,
          2,
          2,
          1,
          2,
          1,
          2,
          2,
          2,
          2,
          2,
          2,
          1,
          2,
          2,
          2,
          2,
          1,
          2,
          1,
          2,
          2,
          2,
          2,
          2,
          3,
          3,
          2,
          2,
          2,
          2,
          1,
          2,
          2,
          2,
          2,
          1,
          2,
          2,
          1,
          1,
          2,
          2,
          2,
          2,
          3,
          2,
          1,
          2,
          1,
          2,
          2,
          2,
          2,
          1,
          2,
          3,
          2,
          2,
          3,
          2,
          2,
          2,
          2,
          3,
          1,
          1,
          2,
          2,
          2,
          1,
          1,
          2,
          3,
          2,
          1,
          1,
          2,
          1,
          2,
          2,
          2,
          2,
          3,
          2,
          2,
          2,
          2,
          3,
          3,
          2,
          1,
          2,
          2,
          2,
          2,
          2,
          1,
          2,
          2,
          2,
          2,
          2,
          2,
          1,
          2,
          3,
          2,
          3,
          2,
          2,
          2,
          2,
          2,
          2,
          2,
          3,
          1,
          3,
          2,
          2,
          2,
          1,
          2,
          3,
          2,
          3,
          2,
          1,
          2,
          2,
          2,
          2,
          2,
          1,
          2,
          2,
          2,
          2,
          2,
          2,
          1,
          2,
          1,
          2,
          2,
          2,
          0,
          2,
          3,
          2,
          2,
          2,
          2,
          2,
          1,
          3,
          3,
          1,
          2,
          2,
          3,
          2,
          2,
          1,
          1,
          1,
          2,
          2,
          1,
          2,
          2,
          0,
          1,
          3,
          2,
          1,
          2,
          2,
          3,
          1,
          2,
          2,
          2,
          2,
          1,
          2,
          0,
          2,
          2,
          1,
          2,
          1,
          2,
          2,
          1,
          2,
          3,
          2,
          0,
          2,
          2,
          3,
          2,
          2,
          1,
          3,
          1,
          2,
          2,
          3,
          2,
          2,
          2,
          2,
          1,
          2,
          0,
          2,
          1,
          2,
          2,
          0,
          1,
          2,
          3,
          2,
          1,
          2,
          2,
          2,
          3,
          2,
          2,
          1,
          3,
          2,
          2,
          2,
          2,
          2,
          1,
          2,
          2,
          1,
          2,
          2,
          2,
          2,
          2,
          2,
          2,
          2,
          2,
          2,
          2,
          2,
          2,
          1,
          2,
          2,
          2,
          2,
          2,
          2,
          2,
          2,
          2,
          1,
          2,
          3,
          2,
          2,
          3,
          2,
          2,
          0,
          2,
          3,
          2,
          3,
          2,
          1,
          2,
          2,
          3,
          3,
          2,
          1,
          2,
          2,
          2,
          3,
          3,
          1,
          2,
          1,
          1,
          2,
          2,
          2,
          2,
          2,
          3,
          2,
          2,
          2,
          1,
          1,
          2,
          2,
          2,
          3,
          3,
          3,
          1,
          2,
          1,
          2,
          2,
          3,
          0,
          2,
          3,
          1,
          1,
          2,
          2,
          2,
          2,
          1,
          2,
          3,
          2,
          1,
          2,
          1,
          2,
          1,
          2,
          2,
          3,
          1,
          2,
          2,
          2,
          3,
          1,
          1,
          1,
          1,
          3,
          2,
          1,
          3,
          2,
          2
         ],
         "xaxis": "x6",
         "yaxis": "y6"
        }
       ],
       "layout": {
        "height": 800,
        "template": {
         "data": {
          "bar": [
           {
            "error_x": {
             "color": "#2a3f5f"
            },
            "error_y": {
             "color": "#2a3f5f"
            },
            "marker": {
             "line": {
              "color": "#E5ECF6",
              "width": 0.5
             },
             "pattern": {
              "fillmode": "overlay",
              "size": 10,
              "solidity": 0.2
             }
            },
            "type": "bar"
           }
          ],
          "barpolar": [
           {
            "marker": {
             "line": {
              "color": "#E5ECF6",
              "width": 0.5
             },
             "pattern": {
              "fillmode": "overlay",
              "size": 10,
              "solidity": 0.2
             }
            },
            "type": "barpolar"
           }
          ],
          "carpet": [
           {
            "aaxis": {
             "endlinecolor": "#2a3f5f",
             "gridcolor": "white",
             "linecolor": "white",
             "minorgridcolor": "white",
             "startlinecolor": "#2a3f5f"
            },
            "baxis": {
             "endlinecolor": "#2a3f5f",
             "gridcolor": "white",
             "linecolor": "white",
             "minorgridcolor": "white",
             "startlinecolor": "#2a3f5f"
            },
            "type": "carpet"
           }
          ],
          "choropleth": [
           {
            "colorbar": {
             "outlinewidth": 0,
             "ticks": ""
            },
            "type": "choropleth"
           }
          ],
          "contour": [
           {
            "colorbar": {
             "outlinewidth": 0,
             "ticks": ""
            },
            "colorscale": [
             [
              0,
              "#0d0887"
             ],
             [
              0.1111111111111111,
              "#46039f"
             ],
             [
              0.2222222222222222,
              "#7201a8"
             ],
             [
              0.3333333333333333,
              "#9c179e"
             ],
             [
              0.4444444444444444,
              "#bd3786"
             ],
             [
              0.5555555555555556,
              "#d8576b"
             ],
             [
              0.6666666666666666,
              "#ed7953"
             ],
             [
              0.7777777777777778,
              "#fb9f3a"
             ],
             [
              0.8888888888888888,
              "#fdca26"
             ],
             [
              1,
              "#f0f921"
             ]
            ],
            "type": "contour"
           }
          ],
          "contourcarpet": [
           {
            "colorbar": {
             "outlinewidth": 0,
             "ticks": ""
            },
            "type": "contourcarpet"
           }
          ],
          "heatmap": [
           {
            "colorbar": {
             "outlinewidth": 0,
             "ticks": ""
            },
            "colorscale": [
             [
              0,
              "#0d0887"
             ],
             [
              0.1111111111111111,
              "#46039f"
             ],
             [
              0.2222222222222222,
              "#7201a8"
             ],
             [
              0.3333333333333333,
              "#9c179e"
             ],
             [
              0.4444444444444444,
              "#bd3786"
             ],
             [
              0.5555555555555556,
              "#d8576b"
             ],
             [
              0.6666666666666666,
              "#ed7953"
             ],
             [
              0.7777777777777778,
              "#fb9f3a"
             ],
             [
              0.8888888888888888,
              "#fdca26"
             ],
             [
              1,
              "#f0f921"
             ]
            ],
            "type": "heatmap"
           }
          ],
          "heatmapgl": [
           {
            "colorbar": {
             "outlinewidth": 0,
             "ticks": ""
            },
            "colorscale": [
             [
              0,
              "#0d0887"
             ],
             [
              0.1111111111111111,
              "#46039f"
             ],
             [
              0.2222222222222222,
              "#7201a8"
             ],
             [
              0.3333333333333333,
              "#9c179e"
             ],
             [
              0.4444444444444444,
              "#bd3786"
             ],
             [
              0.5555555555555556,
              "#d8576b"
             ],
             [
              0.6666666666666666,
              "#ed7953"
             ],
             [
              0.7777777777777778,
              "#fb9f3a"
             ],
             [
              0.8888888888888888,
              "#fdca26"
             ],
             [
              1,
              "#f0f921"
             ]
            ],
            "type": "heatmapgl"
           }
          ],
          "histogram": [
           {
            "marker": {
             "pattern": {
              "fillmode": "overlay",
              "size": 10,
              "solidity": 0.2
             }
            },
            "type": "histogram"
           }
          ],
          "histogram2d": [
           {
            "colorbar": {
             "outlinewidth": 0,
             "ticks": ""
            },
            "colorscale": [
             [
              0,
              "#0d0887"
             ],
             [
              0.1111111111111111,
              "#46039f"
             ],
             [
              0.2222222222222222,
              "#7201a8"
             ],
             [
              0.3333333333333333,
              "#9c179e"
             ],
             [
              0.4444444444444444,
              "#bd3786"
             ],
             [
              0.5555555555555556,
              "#d8576b"
             ],
             [
              0.6666666666666666,
              "#ed7953"
             ],
             [
              0.7777777777777778,
              "#fb9f3a"
             ],
             [
              0.8888888888888888,
              "#fdca26"
             ],
             [
              1,
              "#f0f921"
             ]
            ],
            "type": "histogram2d"
           }
          ],
          "histogram2dcontour": [
           {
            "colorbar": {
             "outlinewidth": 0,
             "ticks": ""
            },
            "colorscale": [
             [
              0,
              "#0d0887"
             ],
             [
              0.1111111111111111,
              "#46039f"
             ],
             [
              0.2222222222222222,
              "#7201a8"
             ],
             [
              0.3333333333333333,
              "#9c179e"
             ],
             [
              0.4444444444444444,
              "#bd3786"
             ],
             [
              0.5555555555555556,
              "#d8576b"
             ],
             [
              0.6666666666666666,
              "#ed7953"
             ],
             [
              0.7777777777777778,
              "#fb9f3a"
             ],
             [
              0.8888888888888888,
              "#fdca26"
             ],
             [
              1,
              "#f0f921"
             ]
            ],
            "type": "histogram2dcontour"
           }
          ],
          "mesh3d": [
           {
            "colorbar": {
             "outlinewidth": 0,
             "ticks": ""
            },
            "type": "mesh3d"
           }
          ],
          "parcoords": [
           {
            "line": {
             "colorbar": {
              "outlinewidth": 0,
              "ticks": ""
             }
            },
            "type": "parcoords"
           }
          ],
          "pie": [
           {
            "automargin": true,
            "type": "pie"
           }
          ],
          "scatter": [
           {
            "fillpattern": {
             "fillmode": "overlay",
             "size": 10,
             "solidity": 0.2
            },
            "type": "scatter"
           }
          ],
          "scatter3d": [
           {
            "line": {
             "colorbar": {
              "outlinewidth": 0,
              "ticks": ""
             }
            },
            "marker": {
             "colorbar": {
              "outlinewidth": 0,
              "ticks": ""
             }
            },
            "type": "scatter3d"
           }
          ],
          "scattercarpet": [
           {
            "marker": {
             "colorbar": {
              "outlinewidth": 0,
              "ticks": ""
             }
            },
            "type": "scattercarpet"
           }
          ],
          "scattergeo": [
           {
            "marker": {
             "colorbar": {
              "outlinewidth": 0,
              "ticks": ""
             }
            },
            "type": "scattergeo"
           }
          ],
          "scattergl": [
           {
            "marker": {
             "colorbar": {
              "outlinewidth": 0,
              "ticks": ""
             }
            },
            "type": "scattergl"
           }
          ],
          "scattermapbox": [
           {
            "marker": {
             "colorbar": {
              "outlinewidth": 0,
              "ticks": ""
             }
            },
            "type": "scattermapbox"
           }
          ],
          "scatterpolar": [
           {
            "marker": {
             "colorbar": {
              "outlinewidth": 0,
              "ticks": ""
             }
            },
            "type": "scatterpolar"
           }
          ],
          "scatterpolargl": [
           {
            "marker": {
             "colorbar": {
              "outlinewidth": 0,
              "ticks": ""
             }
            },
            "type": "scatterpolargl"
           }
          ],
          "scatterternary": [
           {
            "marker": {
             "colorbar": {
              "outlinewidth": 0,
              "ticks": ""
             }
            },
            "type": "scatterternary"
           }
          ],
          "surface": [
           {
            "colorbar": {
             "outlinewidth": 0,
             "ticks": ""
            },
            "colorscale": [
             [
              0,
              "#0d0887"
             ],
             [
              0.1111111111111111,
              "#46039f"
             ],
             [
              0.2222222222222222,
              "#7201a8"
             ],
             [
              0.3333333333333333,
              "#9c179e"
             ],
             [
              0.4444444444444444,
              "#bd3786"
             ],
             [
              0.5555555555555556,
              "#d8576b"
             ],
             [
              0.6666666666666666,
              "#ed7953"
             ],
             [
              0.7777777777777778,
              "#fb9f3a"
             ],
             [
              0.8888888888888888,
              "#fdca26"
             ],
             [
              1,
              "#f0f921"
             ]
            ],
            "type": "surface"
           }
          ],
          "table": [
           {
            "cells": {
             "fill": {
              "color": "#EBF0F8"
             },
             "line": {
              "color": "white"
             }
            },
            "header": {
             "fill": {
              "color": "#C8D4E3"
             },
             "line": {
              "color": "white"
             }
            },
            "type": "table"
           }
          ]
         },
         "layout": {
          "annotationdefaults": {
           "arrowcolor": "#2a3f5f",
           "arrowhead": 0,
           "arrowwidth": 1
          },
          "autotypenumbers": "strict",
          "coloraxis": {
           "colorbar": {
            "outlinewidth": 0,
            "ticks": ""
           }
          },
          "colorscale": {
           "diverging": [
            [
             0,
             "#8e0152"
            ],
            [
             0.1,
             "#c51b7d"
            ],
            [
             0.2,
             "#de77ae"
            ],
            [
             0.3,
             "#f1b6da"
            ],
            [
             0.4,
             "#fde0ef"
            ],
            [
             0.5,
             "#f7f7f7"
            ],
            [
             0.6,
             "#e6f5d0"
            ],
            [
             0.7,
             "#b8e186"
            ],
            [
             0.8,
             "#7fbc41"
            ],
            [
             0.9,
             "#4d9221"
            ],
            [
             1,
             "#276419"
            ]
           ],
           "sequential": [
            [
             0,
             "#0d0887"
            ],
            [
             0.1111111111111111,
             "#46039f"
            ],
            [
             0.2222222222222222,
             "#7201a8"
            ],
            [
             0.3333333333333333,
             "#9c179e"
            ],
            [
             0.4444444444444444,
             "#bd3786"
            ],
            [
             0.5555555555555556,
             "#d8576b"
            ],
            [
             0.6666666666666666,
             "#ed7953"
            ],
            [
             0.7777777777777778,
             "#fb9f3a"
            ],
            [
             0.8888888888888888,
             "#fdca26"
            ],
            [
             1,
             "#f0f921"
            ]
           ],
           "sequentialminus": [
            [
             0,
             "#0d0887"
            ],
            [
             0.1111111111111111,
             "#46039f"
            ],
            [
             0.2222222222222222,
             "#7201a8"
            ],
            [
             0.3333333333333333,
             "#9c179e"
            ],
            [
             0.4444444444444444,
             "#bd3786"
            ],
            [
             0.5555555555555556,
             "#d8576b"
            ],
            [
             0.6666666666666666,
             "#ed7953"
            ],
            [
             0.7777777777777778,
             "#fb9f3a"
            ],
            [
             0.8888888888888888,
             "#fdca26"
            ],
            [
             1,
             "#f0f921"
            ]
           ]
          },
          "colorway": [
           "#636efa",
           "#EF553B",
           "#00cc96",
           "#ab63fa",
           "#FFA15A",
           "#19d3f3",
           "#FF6692",
           "#B6E880",
           "#FF97FF",
           "#FECB52"
          ],
          "font": {
           "color": "#2a3f5f"
          },
          "geo": {
           "bgcolor": "white",
           "lakecolor": "white",
           "landcolor": "#E5ECF6",
           "showlakes": true,
           "showland": true,
           "subunitcolor": "white"
          },
          "hoverlabel": {
           "align": "left"
          },
          "hovermode": "closest",
          "mapbox": {
           "style": "light"
          },
          "paper_bgcolor": "white",
          "plot_bgcolor": "#E5ECF6",
          "polar": {
           "angularaxis": {
            "gridcolor": "white",
            "linecolor": "white",
            "ticks": ""
           },
           "bgcolor": "#E5ECF6",
           "radialaxis": {
            "gridcolor": "white",
            "linecolor": "white",
            "ticks": ""
           }
          },
          "scene": {
           "xaxis": {
            "backgroundcolor": "#E5ECF6",
            "gridcolor": "white",
            "gridwidth": 2,
            "linecolor": "white",
            "showbackground": true,
            "ticks": "",
            "zerolinecolor": "white"
           },
           "yaxis": {
            "backgroundcolor": "#E5ECF6",
            "gridcolor": "white",
            "gridwidth": 2,
            "linecolor": "white",
            "showbackground": true,
            "ticks": "",
            "zerolinecolor": "white"
           },
           "zaxis": {
            "backgroundcolor": "#E5ECF6",
            "gridcolor": "white",
            "gridwidth": 2,
            "linecolor": "white",
            "showbackground": true,
            "ticks": "",
            "zerolinecolor": "white"
           }
          },
          "shapedefaults": {
           "line": {
            "color": "#2a3f5f"
           }
          },
          "ternary": {
           "aaxis": {
            "gridcolor": "white",
            "linecolor": "white",
            "ticks": ""
           },
           "baxis": {
            "gridcolor": "white",
            "linecolor": "white",
            "ticks": ""
           },
           "bgcolor": "#E5ECF6",
           "caxis": {
            "gridcolor": "white",
            "linecolor": "white",
            "ticks": ""
           }
          },
          "title": {
           "x": 0.05
          },
          "xaxis": {
           "automargin": true,
           "gridcolor": "white",
           "linecolor": "white",
           "ticks": "",
           "title": {
            "standoff": 15
           },
           "zerolinecolor": "white",
           "zerolinewidth": 2
          },
          "yaxis": {
           "automargin": true,
           "gridcolor": "white",
           "linecolor": "white",
           "ticks": "",
           "title": {
            "standoff": 15
           },
           "zerolinecolor": "white",
           "zerolinewidth": 2
          }
         }
        },
        "title": {
         "text": "Hsitogramme des variables dont le risque de credit est bon"
        },
        "width": 800,
        "xaxis": {
         "anchor": "y",
         "domain": [
          0,
          0.45
         ]
        },
        "xaxis2": {
         "anchor": "y2",
         "domain": [
          0.55,
          1
         ]
        },
        "xaxis3": {
         "anchor": "y3",
         "domain": [
          0,
          0.45
         ]
        },
        "xaxis4": {
         "anchor": "y4",
         "domain": [
          0.55,
          1
         ]
        },
        "xaxis5": {
         "anchor": "y5",
         "domain": [
          0,
          0.45
         ]
        },
        "xaxis6": {
         "anchor": "y6",
         "domain": [
          0.55,
          1
         ]
        },
        "yaxis": {
         "anchor": "x",
         "domain": [
          0.7333333333333333,
          1
         ]
        },
        "yaxis2": {
         "anchor": "x2",
         "domain": [
          0.7333333333333333,
          1
         ]
        },
        "yaxis3": {
         "anchor": "x3",
         "domain": [
          0.36666666666666664,
          0.6333333333333333
         ]
        },
        "yaxis4": {
         "anchor": "x4",
         "domain": [
          0.36666666666666664,
          0.6333333333333333
         ]
        },
        "yaxis5": {
         "anchor": "x5",
         "domain": [
          0,
          0.26666666666666666
         ]
        },
        "yaxis6": {
         "anchor": "x6",
         "domain": [
          0,
          0.26666666666666666
         ]
        }
       }
      }
     },
     "metadata": {},
     "output_type": "display_data"
    }
   ],
   "source": [
    "fig = make_subplots(rows=3, cols=2, subplot_titles=None)\n",
    "\n",
    "fig.add_trace(go.Histogram(x=df_good['Age'], name='Age'), row=1, col=1)\n",
    "fig.add_trace(go.Histogram(x =df_good['Credit amount'], name='Credit Ammount'), row=2, col=2)\n",
    "fig.add_trace(go.Histogram(x =df_good['Duration'], name='Duration'), row=3, col=1)\n",
    "fig.add_trace(go.Histogram(x = df_good['Job'], name='Job'), row=3, col=2)\n",
    "\n",
    "fig.update_layout(height=800, width=800, title_text = 'Hsitogramme des variables dont le risque de credit est bon')\n",
    "fig.show()"
   ]
  },
  {
   "cell_type": "markdown",
   "metadata": {},
   "source": [
    "#### Bad risk"
   ]
  },
  {
   "cell_type": "code",
   "execution_count": 20,
   "metadata": {},
   "outputs": [
    {
     "data": {
      "application/vnd.plotly.v1+json": {
       "config": {
        "plotlyServerURL": "https://plot.ly"
       },
       "data": [
        {
         "name": "Age",
         "type": "histogram",
         "x": [
          22,
          53,
          28,
          25,
          24,
          60,
          32,
          44,
          63,
          25,
          37,
          58,
          57,
          52,
          23,
          61,
          25,
          37,
          40,
          34,
          44,
          47,
          28,
          33,
          58,
          39,
          39,
          25,
          30,
          23,
          25,
          27,
          30,
          29,
          29,
          66,
          22,
          20,
          33,
          31,
          33,
          34,
          26,
          53,
          28,
          30,
          40,
          36,
          74,
          20,
          54,
          34,
          36,
          21,
          34,
          27,
          40,
          21,
          50,
          66,
          27,
          53,
          22,
          26,
          30,
          23,
          61,
          29,
          24,
          22,
          24,
          29,
          37,
          45,
          28,
          34,
          32,
          48,
          28,
          26,
          42,
          37,
          44,
          33,
          24,
          25,
          31,
          28,
          32,
          30,
          24,
          24,
          23,
          44,
          24,
          32,
          29,
          28,
          23,
          26,
          23,
          25,
          42,
          60,
          37,
          57,
          38,
          46,
          27,
          22,
          28,
          42,
          35,
          33,
          33,
          25,
          55,
          29,
          25,
          26,
          41,
          30,
          34,
          61,
          31,
          35,
          29,
          22,
          23,
          28,
          33,
          26,
          47,
          42,
          20,
          29,
          27,
          38,
          24,
          27,
          34,
          26,
          23,
          24,
          53,
          31,
          28,
          33,
          42,
          23,
          31,
          34,
          43,
          24,
          34,
          22,
          28,
          29,
          27,
          31,
          24,
          37,
          36,
          31,
          23,
          27,
          30,
          33,
          20,
          47,
          60,
          20,
          40,
          32,
          23,
          36,
          31,
          30,
          34,
          28,
          50,
          22,
          48,
          22,
          21,
          32,
          38,
          65,
          29,
          44,
          19,
          25,
          26,
          27,
          40,
          27,
          26,
          38,
          40,
          37,
          45,
          42,
          41,
          23,
          43,
          41,
          24,
          29,
          46,
          24,
          25,
          35,
          27,
          34,
          24,
          24,
          21,
          25,
          59,
          21,
          23,
          26,
          37,
          23,
          55,
          32,
          39,
          35,
          24,
          30,
          31,
          25,
          25,
          25,
          23,
          50,
          27,
          39,
          51,
          24,
          26,
          24,
          54,
          46,
          26,
          41,
          33,
          36,
          47,
          23,
          29,
          25,
          48,
          29,
          23,
          68,
          57,
          33,
          32,
          29,
          28,
          35,
          25,
          27,
          43,
          53,
          23,
          42,
          43,
          25,
          31,
          32,
          68,
          33,
          39,
          22,
          55,
          46,
          39,
          22,
          30,
          28,
          42,
          30,
          43,
          31,
          24,
          28,
          26,
          45,
          35,
          23,
          29,
          36,
          47,
          25,
          49,
          33,
          26,
          23
         ],
         "xaxis": "x",
         "yaxis": "y"
        },
        {
         "name": "Credit Ammount",
         "type": "histogram",
         "x": [
          5951,
          4870,
          5234,
          1295,
          4308,
          1199,
          1282,
          12579,
          6836,
          4746,
          2100,
          6143,
          2225,
          6468,
          6229,
          1953,
          14421,
          1819,
          1977,
          3965,
          5943,
          12612,
          1108,
          797,
          15945,
          11938,
          6458,
          7855,
          7174,
          4281,
          1835,
          1924,
          639,
          3499,
          6887,
          766,
          2462,
          1282,
          1131,
          1935,
          950,
          2064,
          3414,
          7485,
          9572,
          4455,
          1647,
          884,
          5129,
          674,
          4591,
          3844,
          3915,
          3031,
          1501,
          951,
          4297,
          902,
          5293,
          1908,
          10961,
          7865,
          1478,
          4210,
          1823,
          14555,
          2767,
          915,
          4605,
          433,
          2150,
          2149,
          802,
          8978,
          3060,
          11998,
          4611,
          1024,
          9398,
          9960,
          3804,
          1344,
          10127,
          727,
          1237,
          685,
          2746,
          4249,
          1938,
          1864,
          7408,
          11590,
          4110,
          3384,
          1275,
          1136,
          959,
          6199,
          1246,
          4463,
          2406,
          2473,
          3446,
          14782,
          7685,
          14318,
          12976,
          1223,
          8648,
          2039,
          939,
          2292,
          1381,
          2579,
          1042,
          2762,
          1190,
          11328,
          1484,
          609,
          719,
          5096,
          1842,
          1512,
          4817,
          3386,
          1659,
          3092,
          448,
          654,
          1245,
          3114,
          1209,
          8318,
          2996,
          9034,
          3123,
          1216,
          1207,
          1309,
          6850,
          759,
          7127,
          3190,
          7119,
          2302,
          2631,
          2319,
          7763,
          1534,
          6350,
          2864,
          1333,
          626,
          6999,
          1331,
          2278,
          5003,
          3552,
          1928,
          1546,
          12389,
          1372,
          6758,
          3234,
          2820,
          1056,
          2384,
          2039,
          1217,
          2246,
          2718,
          1358,
          931,
          1442,
          4241,
          2775,
          918,
          1837,
          3349,
          2671,
          741,
          1240,
          1808,
          3441,
          1530,
          3914,
          2600,
          1437,
          1553,
          1980,
          1355,
          4370,
          750,
          4623,
          7980,
          1386,
          947,
          684,
          1922,
          2303,
          8086,
          888,
          900,
          4843,
          2580,
          5595,
          1123,
          6331,
          6560,
          2969,
          1198,
          14027,
          1337,
          433,
          1228,
          2570,
          1882,
          6416,
          1987,
          11560,
          4280,
          1274,
          976,
          1555,
          1285,
          1271,
          691,
          2124,
          12680,
          3108,
          8065,
          1371,
          4933,
          836,
          6224,
          5998,
          1188,
          7511,
          9271,
          1778,
          9629,
          3051,
          3931,
          1345,
          2712,
          3966,
          4165,
          8335,
          1216,
          11816,
          2327,
          1082,
          5179,
          1943,
          6761,
          709,
          2235,
          1442,
          3959,
          2169,
          2439,
          2210,
          1422,
          4057,
          795,
          15672,
          4153,
          2625,
          4736,
          3161,
          18424,
          14896,
          2359,
          3345,
          1366,
          6872,
          697,
          10297,
          1670,
          1919,
          745,
          6288,
          3349,
          1533,
          3621,
          2145,
          4113,
          10974,
          4006,
          2397,
          2520,
          1193,
          7297,
          2538,
          1264,
          8386,
          4844,
          8229,
          1845
         ],
         "xaxis": "x4",
         "yaxis": "y4"
        },
        {
         "name": "Duration",
         "type": "histogram",
         "x": [
          48,
          24,
          30,
          12,
          48,
          24,
          24,
          24,
          60,
          45,
          18,
          48,
          36,
          12,
          36,
          36,
          48,
          36,
          36,
          42,
          24,
          36,
          12,
          12,
          54,
          24,
          18,
          36,
          42,
          33,
          21,
          18,
          12,
          12,
          36,
          12,
          18,
          12,
          18,
          24,
          15,
          24,
          21,
          30,
          36,
          36,
          21,
          18,
          9,
          12,
          24,
          48,
          27,
          45,
          9,
          12,
          18,
          12,
          27,
          30,
          48,
          12,
          9,
          36,
          24,
          6,
          21,
          24,
          48,
          18,
          30,
          12,
          15,
          14,
          48,
          30,
          6,
          24,
          36,
          48,
          36,
          24,
          48,
          12,
          8,
          12,
          36,
          30,
          24,
          18,
          60,
          48,
          24,
          6,
          15,
          9,
          9,
          12,
          24,
          36,
          30,
          18,
          36,
          60,
          48,
          36,
          18,
          12,
          24,
          24,
          12,
          12,
          24,
          12,
          18,
          12,
          18,
          24,
          12,
          12,
          12,
          48,
          36,
          15,
          24,
          12,
          24,
          24,
          6,
          9,
          18,
          18,
          6,
          27,
          24,
          36,
          24,
          24,
          24,
          10,
          15,
          12,
          36,
          18,
          48,
          36,
          15,
          21,
          48,
          12,
          30,
          18,
          24,
          12,
          48,
          12,
          18,
          21,
          24,
          18,
          24,
          36,
          12,
          48,
          24,
          36,
          18,
          36,
          18,
          18,
          12,
          24,
          24,
          6,
          24,
          24,
          18,
          9,
          24,
          36,
          36,
          12,
          10,
          18,
          30,
          18,
          48,
          18,
          9,
          18,
          9,
          24,
          42,
          18,
          15,
          36,
          12,
          24,
          12,
          12,
          24,
          36,
          12,
          12,
          12,
          21,
          72,
          12,
          48,
          48,
          12,
          6,
          60,
          9,
          6,
          12,
          27,
          18,
          48,
          24,
          24,
          30,
          12,
          18,
          12,
          24,
          15,
          12,
          18,
          21,
          30,
          36,
          24,
          39,
          12,
          48,
          40,
          21,
          18,
          36,
          15,
          36,
          48,
          48,
          18,
          36,
          18,
          18,
          36,
          18,
          45,
          15,
          12,
          36,
          18,
          18,
          12,
          20,
          18,
          15,
          18,
          24,
          10,
          9,
          24,
          12,
          48,
          18,
          16,
          24,
          24,
          48,
          6,
          24,
          24,
          9,
          24,
          12,
          48,
          9,
          30,
          9,
          60,
          24,
          18,
          24,
          36,
          24,
          36,
          28,
          24,
          27,
          24,
          60,
          24,
          15,
          30,
          48,
          36,
          45
         ],
         "xaxis": "x5",
         "yaxis": "y5"
        },
        {
         "name": "Job",
         "type": "histogram",
         "x": [
          2,
          2,
          3,
          2,
          2,
          1,
          1,
          3,
          2,
          1,
          2,
          1,
          2,
          3,
          1,
          3,
          2,
          2,
          3,
          2,
          2,
          2,
          2,
          1,
          2,
          3,
          3,
          2,
          3,
          2,
          2,
          2,
          2,
          2,
          2,
          1,
          2,
          2,
          2,
          2,
          2,
          3,
          2,
          3,
          2,
          3,
          1,
          2,
          3,
          2,
          3,
          1,
          2,
          2,
          3,
          2,
          3,
          2,
          2,
          3,
          2,
          3,
          2,
          2,
          3,
          0,
          1,
          2,
          2,
          2,
          2,
          2,
          2,
          3,
          2,
          1,
          2,
          2,
          3,
          2,
          2,
          1,
          2,
          1,
          2,
          1,
          2,
          3,
          2,
          2,
          3,
          1,
          2,
          3,
          2,
          2,
          2,
          2,
          1,
          3,
          2,
          0,
          2,
          3,
          2,
          3,
          3,
          2,
          2,
          2,
          2,
          3,
          2,
          1,
          2,
          2,
          0,
          3,
          2,
          0,
          1,
          3,
          2,
          2,
          2,
          2,
          1,
          2,
          2,
          1,
          2,
          2,
          3,
          3,
          2,
          3,
          2,
          2,
          2,
          1,
          3,
          2,
          2,
          2,
          2,
          2,
          2,
          2,
          3,
          2,
          2,
          1,
          2,
          1,
          2,
          2,
          2,
          2,
          2,
          1,
          1,
          2,
          2,
          2,
          1,
          2,
          2,
          1,
          2,
          1,
          2,
          1,
          3,
          1,
          2,
          1,
          2,
          2,
          1,
          3,
          2,
          2,
          1,
          2,
          2,
          2,
          2,
          2,
          2,
          2,
          2,
          1,
          2,
          0,
          3,
          2,
          2,
          2,
          1,
          1,
          2,
          3,
          1,
          2,
          2,
          1,
          2,
          1,
          2,
          2,
          2,
          2,
          3,
          3,
          2,
          1,
          2,
          2,
          2,
          1,
          3,
          1,
          1,
          1,
          2,
          2,
          2,
          2,
          2,
          3,
          1,
          3,
          2,
          2,
          1,
          2,
          2,
          2,
          2,
          2,
          0,
          2,
          2,
          2,
          2,
          2,
          2,
          2,
          2,
          2,
          2,
          1,
          2,
          2,
          2,
          2,
          1,
          2,
          1,
          2,
          2,
          2,
          1,
          3,
          2,
          2,
          2,
          2,
          2,
          1,
          2,
          3,
          3,
          2,
          3,
          2,
          2,
          2,
          2,
          2,
          3,
          1,
          2,
          2,
          1,
          2,
          2,
          2,
          3,
          1,
          2,
          1,
          0,
          2,
          1,
          2,
          2,
          3,
          2,
          2
         ],
         "xaxis": "x6",
         "yaxis": "y6"
        }
       ],
       "layout": {
        "height": 800,
        "template": {
         "data": {
          "bar": [
           {
            "error_x": {
             "color": "#2a3f5f"
            },
            "error_y": {
             "color": "#2a3f5f"
            },
            "marker": {
             "line": {
              "color": "#E5ECF6",
              "width": 0.5
             },
             "pattern": {
              "fillmode": "overlay",
              "size": 10,
              "solidity": 0.2
             }
            },
            "type": "bar"
           }
          ],
          "barpolar": [
           {
            "marker": {
             "line": {
              "color": "#E5ECF6",
              "width": 0.5
             },
             "pattern": {
              "fillmode": "overlay",
              "size": 10,
              "solidity": 0.2
             }
            },
            "type": "barpolar"
           }
          ],
          "carpet": [
           {
            "aaxis": {
             "endlinecolor": "#2a3f5f",
             "gridcolor": "white",
             "linecolor": "white",
             "minorgridcolor": "white",
             "startlinecolor": "#2a3f5f"
            },
            "baxis": {
             "endlinecolor": "#2a3f5f",
             "gridcolor": "white",
             "linecolor": "white",
             "minorgridcolor": "white",
             "startlinecolor": "#2a3f5f"
            },
            "type": "carpet"
           }
          ],
          "choropleth": [
           {
            "colorbar": {
             "outlinewidth": 0,
             "ticks": ""
            },
            "type": "choropleth"
           }
          ],
          "contour": [
           {
            "colorbar": {
             "outlinewidth": 0,
             "ticks": ""
            },
            "colorscale": [
             [
              0,
              "#0d0887"
             ],
             [
              0.1111111111111111,
              "#46039f"
             ],
             [
              0.2222222222222222,
              "#7201a8"
             ],
             [
              0.3333333333333333,
              "#9c179e"
             ],
             [
              0.4444444444444444,
              "#bd3786"
             ],
             [
              0.5555555555555556,
              "#d8576b"
             ],
             [
              0.6666666666666666,
              "#ed7953"
             ],
             [
              0.7777777777777778,
              "#fb9f3a"
             ],
             [
              0.8888888888888888,
              "#fdca26"
             ],
             [
              1,
              "#f0f921"
             ]
            ],
            "type": "contour"
           }
          ],
          "contourcarpet": [
           {
            "colorbar": {
             "outlinewidth": 0,
             "ticks": ""
            },
            "type": "contourcarpet"
           }
          ],
          "heatmap": [
           {
            "colorbar": {
             "outlinewidth": 0,
             "ticks": ""
            },
            "colorscale": [
             [
              0,
              "#0d0887"
             ],
             [
              0.1111111111111111,
              "#46039f"
             ],
             [
              0.2222222222222222,
              "#7201a8"
             ],
             [
              0.3333333333333333,
              "#9c179e"
             ],
             [
              0.4444444444444444,
              "#bd3786"
             ],
             [
              0.5555555555555556,
              "#d8576b"
             ],
             [
              0.6666666666666666,
              "#ed7953"
             ],
             [
              0.7777777777777778,
              "#fb9f3a"
             ],
             [
              0.8888888888888888,
              "#fdca26"
             ],
             [
              1,
              "#f0f921"
             ]
            ],
            "type": "heatmap"
           }
          ],
          "heatmapgl": [
           {
            "colorbar": {
             "outlinewidth": 0,
             "ticks": ""
            },
            "colorscale": [
             [
              0,
              "#0d0887"
             ],
             [
              0.1111111111111111,
              "#46039f"
             ],
             [
              0.2222222222222222,
              "#7201a8"
             ],
             [
              0.3333333333333333,
              "#9c179e"
             ],
             [
              0.4444444444444444,
              "#bd3786"
             ],
             [
              0.5555555555555556,
              "#d8576b"
             ],
             [
              0.6666666666666666,
              "#ed7953"
             ],
             [
              0.7777777777777778,
              "#fb9f3a"
             ],
             [
              0.8888888888888888,
              "#fdca26"
             ],
             [
              1,
              "#f0f921"
             ]
            ],
            "type": "heatmapgl"
           }
          ],
          "histogram": [
           {
            "marker": {
             "pattern": {
              "fillmode": "overlay",
              "size": 10,
              "solidity": 0.2
             }
            },
            "type": "histogram"
           }
          ],
          "histogram2d": [
           {
            "colorbar": {
             "outlinewidth": 0,
             "ticks": ""
            },
            "colorscale": [
             [
              0,
              "#0d0887"
             ],
             [
              0.1111111111111111,
              "#46039f"
             ],
             [
              0.2222222222222222,
              "#7201a8"
             ],
             [
              0.3333333333333333,
              "#9c179e"
             ],
             [
              0.4444444444444444,
              "#bd3786"
             ],
             [
              0.5555555555555556,
              "#d8576b"
             ],
             [
              0.6666666666666666,
              "#ed7953"
             ],
             [
              0.7777777777777778,
              "#fb9f3a"
             ],
             [
              0.8888888888888888,
              "#fdca26"
             ],
             [
              1,
              "#f0f921"
             ]
            ],
            "type": "histogram2d"
           }
          ],
          "histogram2dcontour": [
           {
            "colorbar": {
             "outlinewidth": 0,
             "ticks": ""
            },
            "colorscale": [
             [
              0,
              "#0d0887"
             ],
             [
              0.1111111111111111,
              "#46039f"
             ],
             [
              0.2222222222222222,
              "#7201a8"
             ],
             [
              0.3333333333333333,
              "#9c179e"
             ],
             [
              0.4444444444444444,
              "#bd3786"
             ],
             [
              0.5555555555555556,
              "#d8576b"
             ],
             [
              0.6666666666666666,
              "#ed7953"
             ],
             [
              0.7777777777777778,
              "#fb9f3a"
             ],
             [
              0.8888888888888888,
              "#fdca26"
             ],
             [
              1,
              "#f0f921"
             ]
            ],
            "type": "histogram2dcontour"
           }
          ],
          "mesh3d": [
           {
            "colorbar": {
             "outlinewidth": 0,
             "ticks": ""
            },
            "type": "mesh3d"
           }
          ],
          "parcoords": [
           {
            "line": {
             "colorbar": {
              "outlinewidth": 0,
              "ticks": ""
             }
            },
            "type": "parcoords"
           }
          ],
          "pie": [
           {
            "automargin": true,
            "type": "pie"
           }
          ],
          "scatter": [
           {
            "fillpattern": {
             "fillmode": "overlay",
             "size": 10,
             "solidity": 0.2
            },
            "type": "scatter"
           }
          ],
          "scatter3d": [
           {
            "line": {
             "colorbar": {
              "outlinewidth": 0,
              "ticks": ""
             }
            },
            "marker": {
             "colorbar": {
              "outlinewidth": 0,
              "ticks": ""
             }
            },
            "type": "scatter3d"
           }
          ],
          "scattercarpet": [
           {
            "marker": {
             "colorbar": {
              "outlinewidth": 0,
              "ticks": ""
             }
            },
            "type": "scattercarpet"
           }
          ],
          "scattergeo": [
           {
            "marker": {
             "colorbar": {
              "outlinewidth": 0,
              "ticks": ""
             }
            },
            "type": "scattergeo"
           }
          ],
          "scattergl": [
           {
            "marker": {
             "colorbar": {
              "outlinewidth": 0,
              "ticks": ""
             }
            },
            "type": "scattergl"
           }
          ],
          "scattermapbox": [
           {
            "marker": {
             "colorbar": {
              "outlinewidth": 0,
              "ticks": ""
             }
            },
            "type": "scattermapbox"
           }
          ],
          "scatterpolar": [
           {
            "marker": {
             "colorbar": {
              "outlinewidth": 0,
              "ticks": ""
             }
            },
            "type": "scatterpolar"
           }
          ],
          "scatterpolargl": [
           {
            "marker": {
             "colorbar": {
              "outlinewidth": 0,
              "ticks": ""
             }
            },
            "type": "scatterpolargl"
           }
          ],
          "scatterternary": [
           {
            "marker": {
             "colorbar": {
              "outlinewidth": 0,
              "ticks": ""
             }
            },
            "type": "scatterternary"
           }
          ],
          "surface": [
           {
            "colorbar": {
             "outlinewidth": 0,
             "ticks": ""
            },
            "colorscale": [
             [
              0,
              "#0d0887"
             ],
             [
              0.1111111111111111,
              "#46039f"
             ],
             [
              0.2222222222222222,
              "#7201a8"
             ],
             [
              0.3333333333333333,
              "#9c179e"
             ],
             [
              0.4444444444444444,
              "#bd3786"
             ],
             [
              0.5555555555555556,
              "#d8576b"
             ],
             [
              0.6666666666666666,
              "#ed7953"
             ],
             [
              0.7777777777777778,
              "#fb9f3a"
             ],
             [
              0.8888888888888888,
              "#fdca26"
             ],
             [
              1,
              "#f0f921"
             ]
            ],
            "type": "surface"
           }
          ],
          "table": [
           {
            "cells": {
             "fill": {
              "color": "#EBF0F8"
             },
             "line": {
              "color": "white"
             }
            },
            "header": {
             "fill": {
              "color": "#C8D4E3"
             },
             "line": {
              "color": "white"
             }
            },
            "type": "table"
           }
          ]
         },
         "layout": {
          "annotationdefaults": {
           "arrowcolor": "#2a3f5f",
           "arrowhead": 0,
           "arrowwidth": 1
          },
          "autotypenumbers": "strict",
          "coloraxis": {
           "colorbar": {
            "outlinewidth": 0,
            "ticks": ""
           }
          },
          "colorscale": {
           "diverging": [
            [
             0,
             "#8e0152"
            ],
            [
             0.1,
             "#c51b7d"
            ],
            [
             0.2,
             "#de77ae"
            ],
            [
             0.3,
             "#f1b6da"
            ],
            [
             0.4,
             "#fde0ef"
            ],
            [
             0.5,
             "#f7f7f7"
            ],
            [
             0.6,
             "#e6f5d0"
            ],
            [
             0.7,
             "#b8e186"
            ],
            [
             0.8,
             "#7fbc41"
            ],
            [
             0.9,
             "#4d9221"
            ],
            [
             1,
             "#276419"
            ]
           ],
           "sequential": [
            [
             0,
             "#0d0887"
            ],
            [
             0.1111111111111111,
             "#46039f"
            ],
            [
             0.2222222222222222,
             "#7201a8"
            ],
            [
             0.3333333333333333,
             "#9c179e"
            ],
            [
             0.4444444444444444,
             "#bd3786"
            ],
            [
             0.5555555555555556,
             "#d8576b"
            ],
            [
             0.6666666666666666,
             "#ed7953"
            ],
            [
             0.7777777777777778,
             "#fb9f3a"
            ],
            [
             0.8888888888888888,
             "#fdca26"
            ],
            [
             1,
             "#f0f921"
            ]
           ],
           "sequentialminus": [
            [
             0,
             "#0d0887"
            ],
            [
             0.1111111111111111,
             "#46039f"
            ],
            [
             0.2222222222222222,
             "#7201a8"
            ],
            [
             0.3333333333333333,
             "#9c179e"
            ],
            [
             0.4444444444444444,
             "#bd3786"
            ],
            [
             0.5555555555555556,
             "#d8576b"
            ],
            [
             0.6666666666666666,
             "#ed7953"
            ],
            [
             0.7777777777777778,
             "#fb9f3a"
            ],
            [
             0.8888888888888888,
             "#fdca26"
            ],
            [
             1,
             "#f0f921"
            ]
           ]
          },
          "colorway": [
           "#636efa",
           "#EF553B",
           "#00cc96",
           "#ab63fa",
           "#FFA15A",
           "#19d3f3",
           "#FF6692",
           "#B6E880",
           "#FF97FF",
           "#FECB52"
          ],
          "font": {
           "color": "#2a3f5f"
          },
          "geo": {
           "bgcolor": "white",
           "lakecolor": "white",
           "landcolor": "#E5ECF6",
           "showlakes": true,
           "showland": true,
           "subunitcolor": "white"
          },
          "hoverlabel": {
           "align": "left"
          },
          "hovermode": "closest",
          "mapbox": {
           "style": "light"
          },
          "paper_bgcolor": "white",
          "plot_bgcolor": "#E5ECF6",
          "polar": {
           "angularaxis": {
            "gridcolor": "white",
            "linecolor": "white",
            "ticks": ""
           },
           "bgcolor": "#E5ECF6",
           "radialaxis": {
            "gridcolor": "white",
            "linecolor": "white",
            "ticks": ""
           }
          },
          "scene": {
           "xaxis": {
            "backgroundcolor": "#E5ECF6",
            "gridcolor": "white",
            "gridwidth": 2,
            "linecolor": "white",
            "showbackground": true,
            "ticks": "",
            "zerolinecolor": "white"
           },
           "yaxis": {
            "backgroundcolor": "#E5ECF6",
            "gridcolor": "white",
            "gridwidth": 2,
            "linecolor": "white",
            "showbackground": true,
            "ticks": "",
            "zerolinecolor": "white"
           },
           "zaxis": {
            "backgroundcolor": "#E5ECF6",
            "gridcolor": "white",
            "gridwidth": 2,
            "linecolor": "white",
            "showbackground": true,
            "ticks": "",
            "zerolinecolor": "white"
           }
          },
          "shapedefaults": {
           "line": {
            "color": "#2a3f5f"
           }
          },
          "ternary": {
           "aaxis": {
            "gridcolor": "white",
            "linecolor": "white",
            "ticks": ""
           },
           "baxis": {
            "gridcolor": "white",
            "linecolor": "white",
            "ticks": ""
           },
           "bgcolor": "#E5ECF6",
           "caxis": {
            "gridcolor": "white",
            "linecolor": "white",
            "ticks": ""
           }
          },
          "title": {
           "x": 0.05
          },
          "xaxis": {
           "automargin": true,
           "gridcolor": "white",
           "linecolor": "white",
           "ticks": "",
           "title": {
            "standoff": 15
           },
           "zerolinecolor": "white",
           "zerolinewidth": 2
          },
          "yaxis": {
           "automargin": true,
           "gridcolor": "white",
           "linecolor": "white",
           "ticks": "",
           "title": {
            "standoff": 15
           },
           "zerolinecolor": "white",
           "zerolinewidth": 2
          }
         }
        },
        "title": {
         "text": "Hsitogramme des variables dont le risque de credit est mauvais"
        },
        "width": 800,
        "xaxis": {
         "anchor": "y",
         "domain": [
          0,
          0.45
         ]
        },
        "xaxis2": {
         "anchor": "y2",
         "domain": [
          0.55,
          1
         ]
        },
        "xaxis3": {
         "anchor": "y3",
         "domain": [
          0,
          0.45
         ]
        },
        "xaxis4": {
         "anchor": "y4",
         "domain": [
          0.55,
          1
         ]
        },
        "xaxis5": {
         "anchor": "y5",
         "domain": [
          0,
          0.45
         ]
        },
        "xaxis6": {
         "anchor": "y6",
         "domain": [
          0.55,
          1
         ]
        },
        "yaxis": {
         "anchor": "x",
         "domain": [
          0.7333333333333333,
          1
         ]
        },
        "yaxis2": {
         "anchor": "x2",
         "domain": [
          0.7333333333333333,
          1
         ]
        },
        "yaxis3": {
         "anchor": "x3",
         "domain": [
          0.36666666666666664,
          0.6333333333333333
         ]
        },
        "yaxis4": {
         "anchor": "x4",
         "domain": [
          0.36666666666666664,
          0.6333333333333333
         ]
        },
        "yaxis5": {
         "anchor": "x5",
         "domain": [
          0,
          0.26666666666666666
         ]
        },
        "yaxis6": {
         "anchor": "x6",
         "domain": [
          0,
          0.26666666666666666
         ]
        }
       }
      }
     },
     "metadata": {},
     "output_type": "display_data"
    }
   ],
   "source": [
    "fig = make_subplots(rows=3, cols=2, subplot_titles=None)\n",
    "\n",
    "fig.add_trace(go.Histogram(x=df_bad['Age'], name='Age'), row=1, col=1)\n",
    "fig.add_trace(go.Histogram(x =df_bad['Credit amount'], name='Credit Ammount'), row=2, col=2)\n",
    "fig.add_trace(go.Histogram(x =df_bad['Duration'], name='Duration'), row=3, col=1)\n",
    "fig.add_trace(go.Histogram(x = df_bad['Job'], name='Job'), row=3, col=2)\n",
    "\n",
    "fig.update_layout(height=800, width=800, title_text = 'Hsitogramme des variables dont le risque de credit est mauvais')\n",
    "fig.show()"
   ]
  },
  {
   "cell_type": "markdown",
   "metadata": {},
   "source": [
    "## Identifiying the correlation"
   ]
  },
  {
   "cell_type": "code",
   "execution_count": 21,
   "metadata": {},
   "outputs": [
    {
     "name": "stdout",
     "output_type": "stream",
     "text": [
      "Corrlation de spearman\n",
      ":                     Age       Job  Credit amount  Duration\n",
      "Age            1.000000  0.041327       0.026298 -0.036316\n",
      "Job            0.041327  1.000000       0.298345  0.227266\n",
      "Credit amount  0.026298  0.298345       1.000000  0.624709\n",
      "Duration      -0.036316  0.227266       0.624709  1.000000\n",
      "\n",
      "Corrlation de pearson\n",
      ":                     Age       Job  Credit amount  Duration\n",
      "Age            1.000000  0.015673       0.032716 -0.036136\n",
      "Job            0.015673  1.000000       0.285385  0.210910\n",
      "Credit amount  0.032716  0.285385       1.000000  0.624984\n",
      "Duration      -0.036136  0.210910       0.624984  1.000000\n",
      "\n",
      "Corrlation de kendall\n",
      ":                     Age       Job  Credit amount  Duration\n",
      "Age            1.000000  0.034113       0.017308 -0.025186\n",
      "Job            0.034113  1.000000       0.236032  0.187245\n",
      "Credit amount  0.017308  0.236032       1.000000  0.465738\n",
      "Duration      -0.025186  0.187245       0.465738  1.000000\n",
      "\n"
     ]
    }
   ],
   "source": [
    "## method spearman\n",
    "\n",
    "correlation_spearman= train.select_dtypes(exclude='object').corr(method='spearman')\n",
    "\n",
    "### method de pearson\n",
    "correlation_pearson= train.select_dtypes(exclude='object').corr(method='pearson')\n",
    "## methode de kendall\n",
    "correlation_kdenall= train.select_dtypes(exclude='object').corr(method='kendall')\n",
    "\n",
    "print(f\"Corrlation de spearman\\n: {correlation_spearman}\\n\")\n",
    "print(f\"Corrlation de pearson\\n: {correlation_pearson}\\n\")\n",
    "print(f\"Corrlation de kendall\\n: {correlation_kdenall}\\n\")"
   ]
  },
  {
   "cell_type": "code",
   "execution_count": 22,
   "metadata": {},
   "outputs": [
    {
     "data": {
      "text/plain": [
       "<Axes: >"
      ]
     },
     "execution_count": 22,
     "metadata": {},
     "output_type": "execute_result"
    },
    {
     "data": {
      "image/png": "[encoded data removed]",
      "text/plain": [
       "<Figure size 640x480 with 2 Axes>"
      ]
     },
     "metadata": {},
     "output_type": "display_data"
    }
   ],
   "source": [
    "correlation_spearman= train.select_dtypes(exclude='object').corr(method='spearman')\n",
    "sns.heatmap(correlation_spearman, annot=True, cmap='coolwarm', fmt='.2f')"
   ]
  },
  {
   "cell_type": "markdown",
   "metadata": {},
   "source": [
    "Des resultats des correlations simples calculés , on peut deja constater que les variables credit_ammount et job sont corréles avec des valeurs respectives :\n",
    "  * job- credit amount = 0.30\n",
    "  * job-duration =0.23\n",
    "  * credit amount -Duration =0.62\n",
    "\n",
    "Mais on pourrait aller plus loin en faisant un test de krushkall pour identifer les correlation entre toutes les variables "
   ]
  },
  {
   "cell_type": "markdown",
   "metadata": {},
   "source": [
    "## Test de Krushkall-wallis"
   ]
  },
  {
   "cell_type": "code",
   "execution_count": 23,
   "metadata": {},
   "outputs": [
    {
     "name": "stdout",
     "output_type": "stream",
     "text": [
      "   Variable catégorique Variable numérique  Statistique       P-value\n",
      "0                   Sex                Age    49.548172  1.935602e-12\n",
      "1                   Sex                Job     3.727174  5.353390e-02\n",
      "2                   Sex      Credit amount    13.407530  2.506162e-04\n",
      "3                   Sex           Duration     5.327177  2.099537e-02\n",
      "4               Housing                Age   109.151059  1.986775e-24\n",
      "5               Housing                Job    22.124472  1.569394e-05\n",
      "6               Housing      Credit amount    28.125329  7.810206e-07\n",
      "7               Housing           Duration    23.828255  6.695146e-06\n",
      "8               Purpose                Age    31.805810  4.412433e-05\n",
      "9               Purpose                Job    22.999111  1.705216e-03\n",
      "10              Purpose      Credit amount    68.702497  2.701066e-12\n",
      "11              Purpose           Duration    39.570143  1.521127e-06\n",
      "12                 Risk                Age    12.574242  3.910999e-04\n",
      "13                 Risk                Job     1.246989  2.641283e-01\n",
      "14                 Risk      Credit amount     7.575880  5.915451e-03\n",
      "15                 Risk           Duration    42.263860  7.975281e-11\n",
      "La variable 'Age' montre une différence significative par rapport à 'Sex'.\n",
      "Aucune différence significative pour 'Job' avec 'Sex'.\n",
      "La variable 'Credit amount' montre une différence significative par rapport à 'Sex'.\n",
      "La variable 'Duration' montre une différence significative par rapport à 'Sex'.\n",
      "La variable 'Age' montre une différence significative par rapport à 'Housing'.\n",
      "La variable 'Job' montre une différence significative par rapport à 'Housing'.\n",
      "La variable 'Credit amount' montre une différence significative par rapport à 'Housing'.\n",
      "La variable 'Duration' montre une différence significative par rapport à 'Housing'.\n",
      "La variable 'Age' montre une différence significative par rapport à 'Purpose'.\n",
      "La variable 'Job' montre une différence significative par rapport à 'Purpose'.\n",
      "La variable 'Credit amount' montre une différence significative par rapport à 'Purpose'.\n",
      "La variable 'Duration' montre une différence significative par rapport à 'Purpose'.\n",
      "La variable 'Age' montre une différence significative par rapport à 'Risk'.\n",
      "Aucune différence significative pour 'Job' avec 'Risk'.\n",
      "La variable 'Credit amount' montre une différence significative par rapport à 'Risk'.\n",
      "La variable 'Duration' montre une différence significative par rapport à 'Risk'.\n"
     ]
    }
   ],
   "source": [
    "from scipy.stats import kruskal\n",
    "\n",
    "categorical_vars = ['Sex', \"Housing\", \"Saving accounts\", 'Checking account', 'Purpose', \"Risk\"]\n",
    "numerical_vars = ['Age', \"Job\", 'Credit amount', 'Duration']\n",
    "\n",
    "# stocker les résultats\n",
    "results = []\n",
    "for cat_var in categorical_vars:\n",
    "    for num_var in numerical_vars:\n",
    "        groups = [train.loc[train[cat_var] == category, num_var] for category in train[cat_var].unique()]\n",
    "        if all(len(group) > 0 for group in groups):\n",
    "            stat, p_value = kruskal(*groups)\n",
    "            \n",
    "            results.append({'Variable catégorique': cat_var, \n",
    "                            'Variable numérique': num_var, \n",
    "                            'Statistique': stat, \n",
    "                            'P-value': p_value})\n",
    "\n",
    "\n",
    "results_df = pd.DataFrame(results)\n",
    "print(results_df)\n",
    "\n",
    "for index, row in results_df.iterrows():\n",
    "    if row['P-value'] < 0.05:\n",
    "        print(f\"La variable '{row['Variable numérique']}' montre une différence significative par rapport à '{row['Variable catégorique']}'.\")\n",
    "    else:\n",
    "        print(f\"Aucune différence significative pour '{row['Variable numérique']}' avec '{row['Variable catégorique']}'.\")"
   ]
  },
  {
   "cell_type": "markdown",
   "metadata": {},
   "source": [
    "## Preprocessing "
   ]
  },
  {
   "cell_type": "markdown",
   "metadata": {},
   "source": [
    "  * Traitement des valeurs manquantes \n",
    "  * Normalisation des données à l'échelle\n",
    "  * Feature Ingineering data"
   ]
  },
  {
   "cell_type": "code",
   "execution_count": 24,
   "metadata": {},
   "outputs": [
    {
     "data": {
      "text/plain": [
       "Age                   0\n",
       "Sex                   0\n",
       "Job                   0\n",
       "Housing               0\n",
       "Saving accounts     183\n",
       "Checking account    394\n",
       "Credit amount         0\n",
       "Duration              0\n",
       "Purpose               0\n",
       "Risk                  0\n",
       "dtype: int64"
      ]
     },
     "execution_count": 24,
     "metadata": {},
     "output_type": "execute_result"
    }
   ],
   "source": [
    "### traitement des valeurs manquantes.\n",
    "train.isna().sum()"
   ]
  },
  {
   "cell_type": "code",
   "execution_count": 25,
   "metadata": {},
   "outputs": [
    {
     "data": {
      "text/html": [
       "<div>\n",
       "<style scoped>\n",
       "    .dataframe tbody tr th:only-of-type {\n",
       "        vertical-align: middle;\n",
       "    }\n",
       "\n",
       "    .dataframe tbody tr th {\n",
       "        vertical-align: top;\n",
       "    }\n",
       "\n",
       "    .dataframe thead th {\n",
       "        text-align: right;\n",
       "    }\n",
       "</style>\n",
       "<table border=\"1\" class=\"dataframe\">\n",
       "  <thead>\n",
       "    <tr style=\"text-align: right;\">\n",
       "      <th></th>\n",
       "      <th>Age</th>\n",
       "      <th>Sex</th>\n",
       "      <th>Job</th>\n",
       "      <th>Housing</th>\n",
       "      <th>Saving accounts</th>\n",
       "      <th>Checking account</th>\n",
       "      <th>Credit amount</th>\n",
       "      <th>Duration</th>\n",
       "      <th>Purpose</th>\n",
       "      <th>Risk</th>\n",
       "    </tr>\n",
       "  </thead>\n",
       "  <tbody>\n",
       "    <tr>\n",
       "      <th>0</th>\n",
       "      <td>67</td>\n",
       "      <td>male</td>\n",
       "      <td>2</td>\n",
       "      <td>own</td>\n",
       "      <td>NaN</td>\n",
       "      <td>little</td>\n",
       "      <td>1169</td>\n",
       "      <td>6</td>\n",
       "      <td>radio/TV</td>\n",
       "      <td>good</td>\n",
       "    </tr>\n",
       "    <tr>\n",
       "      <th>1</th>\n",
       "      <td>22</td>\n",
       "      <td>female</td>\n",
       "      <td>2</td>\n",
       "      <td>own</td>\n",
       "      <td>little</td>\n",
       "      <td>moderate</td>\n",
       "      <td>5951</td>\n",
       "      <td>48</td>\n",
       "      <td>radio/TV</td>\n",
       "      <td>bad</td>\n",
       "    </tr>\n",
       "    <tr>\n",
       "      <th>2</th>\n",
       "      <td>49</td>\n",
       "      <td>male</td>\n",
       "      <td>1</td>\n",
       "      <td>own</td>\n",
       "      <td>little</td>\n",
       "      <td>NaN</td>\n",
       "      <td>2096</td>\n",
       "      <td>12</td>\n",
       "      <td>education</td>\n",
       "      <td>good</td>\n",
       "    </tr>\n",
       "    <tr>\n",
       "      <th>3</th>\n",
       "      <td>45</td>\n",
       "      <td>male</td>\n",
       "      <td>2</td>\n",
       "      <td>free</td>\n",
       "      <td>little</td>\n",
       "      <td>little</td>\n",
       "      <td>7882</td>\n",
       "      <td>42</td>\n",
       "      <td>furniture/equipment</td>\n",
       "      <td>good</td>\n",
       "    </tr>\n",
       "    <tr>\n",
       "      <th>4</th>\n",
       "      <td>53</td>\n",
       "      <td>male</td>\n",
       "      <td>2</td>\n",
       "      <td>free</td>\n",
       "      <td>little</td>\n",
       "      <td>little</td>\n",
       "      <td>4870</td>\n",
       "      <td>24</td>\n",
       "      <td>car</td>\n",
       "      <td>bad</td>\n",
       "    </tr>\n",
       "  </tbody>\n",
       "</table>\n",
       "</div>"
      ],
      "text/plain": [
       "   Age     Sex  Job Housing Saving accounts Checking account  Credit amount  \\\n",
       "0   67    male    2     own             NaN           little           1169   \n",
       "1   22  female    2     own          little         moderate           5951   \n",
       "2   49    male    1     own          little              NaN           2096   \n",
       "3   45    male    2    free          little           little           7882   \n",
       "4   53    male    2    free          little           little           4870   \n",
       "\n",
       "   Duration              Purpose  Risk  \n",
       "0         6             radio/TV  good  \n",
       "1        48             radio/TV   bad  \n",
       "2        12            education  good  \n",
       "3        42  furniture/equipment  good  \n",
       "4        24                  car   bad  "
      ]
     },
     "execution_count": 25,
     "metadata": {},
     "output_type": "execute_result"
    }
   ],
   "source": [
    "train.head()"
   ]
  },
  {
   "cell_type": "markdown",
   "metadata": {},
   "source": [
    "## Pipeline to preprocess the data\n",
    "\t* Select the features numeric(int, float) of data and features categoricals\n",
    "\t* Using the pipeline and create the pipeline_numeric to standardize the features numerics, full the missing values of data in categorical features with the most_frequent or mode (manual) with the librairy SimpleImputer of sklearn after this we can use OneHotencoder to encode all feature categorical.\n",
    "\t*use final the transformers to apply the all transformations on the features selected.\n"
   ]
  },
  {
   "cell_type": "code",
   "execution_count": 26,
   "metadata": {},
   "outputs": [
    {
     "data": {
      "text/html": [
       "<style>#sk-container-id-1 {\n",
       "  /* Definition of color scheme common for light and dark mode */\n",
       "  --sklearn-color-text: black;\n",
       "  --sklearn-color-line: gray;\n",
       "  /* Definition of color scheme for unfitted estimators */\n",
       "  --sklearn-color-unfitted-level-0: #fff5e6;\n",
       "  --sklearn-color-unfitted-level-1: #f6e4d2;\n",
       "  --sklearn-color-unfitted-level-2: #ffe0b3;\n",
       "  --sklearn-color-unfitted-level-3: chocolate;\n",
       "  /* Definition of color scheme for fitted estimators */\n",
       "  --sklearn-color-fitted-level-0: #f0f8ff;\n",
       "  --sklearn-color-fitted-level-1: #d4ebff;\n",
       "  --sklearn-color-fitted-level-2: #b3dbfd;\n",
       "  --sklearn-color-fitted-level-3: cornflowerblue;\n",
       "\n",
       "  /* Specific color for light theme */\n",
       "  --sklearn-color-text-on-default-background: var(--sg-text-color, var(--theme-code-foreground, var(--jp-content-font-color1, black)));\n",
       "  --sklearn-color-background: var(--sg-background-color, var(--theme-background, var(--jp-layout-color0, white)));\n",
       "  --sklearn-color-border-box: var(--sg-text-color, var(--theme-code-foreground, var(--jp-content-font-color1, black)));\n",
       "  --sklearn-color-icon: #696969;\n",
       "\n",
       "  @media (prefers-color-scheme: dark) {\n",
       "    /* Redefinition of color scheme for dark theme */\n",
       "    --sklearn-color-text-on-default-background: var(--sg-text-color, var(--theme-code-foreground, var(--jp-content-font-color1, white)));\n",
       "    --sklearn-color-background: var(--sg-background-color, var(--theme-background, var(--jp-layout-color0, #111)));\n",
       "    --sklearn-color-border-box: var(--sg-text-color, var(--theme-code-foreground, var(--jp-content-font-color1, white)));\n",
       "    --sklearn-color-icon: #878787;\n",
       "  }\n",
       "}\n",
       "\n",
       "#sk-container-id-1 {\n",
       "  color: var(--sklearn-color-text);\n",
       "}\n",
       "\n",
       "#sk-container-id-1 pre {\n",
       "  padding: 0;\n",
       "}\n",
       "\n",
       "#sk-container-id-1 input.sk-hidden--visually {\n",
       "  border: 0;\n",
       "  clip: rect(1px 1px 1px 1px);\n",
       "  clip: rect(1px, 1px, 1px, 1px);\n",
       "  height: 1px;\n",
       "  margin: -1px;\n",
       "  overflow: hidden;\n",
       "  padding: 0;\n",
       "  position: absolute;\n",
       "  width: 1px;\n",
       "}\n",
       "\n",
       "#sk-container-id-1 div.sk-dashed-wrapped {\n",
       "  border: 1px dashed var(--sklearn-color-line);\n",
       "  margin: 0 0.4em 0.5em 0.4em;\n",
       "  box-sizing: border-box;\n",
       "  padding-bottom: 0.4em;\n",
       "  background-color: var(--sklearn-color-background);\n",
       "}\n",
       "\n",
       "#sk-container-id-1 div.sk-container {\n",
       "  /* jupyter's `normalize.less` sets `[hidden] { display: none; }`\n",
       "     but bootstrap.min.css set `[hidden] { display: none !important; }`\n",
       "     so we also need the `!important` here to be able to override the\n",
       "     default hidden behavior on the sphinx rendered scikit-learn.org.\n",
       "     See: https://github.com/scikit-learn/scikit-learn/issues/21755 */\n",
       "  display: inline-block !important;\n",
       "  position: relative;\n",
       "}\n",
       "\n",
       "#sk-container-id-1 div.sk-text-repr-fallback {\n",
       "  display: none;\n",
       "}\n",
       "\n",
       "div.sk-parallel-item,\n",
       "div.sk-serial,\n",
       "div.sk-item {\n",
       "  /* draw centered vertical line to link estimators */\n",
       "  background-image: linear-gradient(var(--sklearn-color-text-on-default-background), var(--sklearn-color-text-on-default-background));\n",
       "  background-size: 2px 100%;\n",
       "  background-repeat: no-repeat;\n",
       "  background-position: center center;\n",
       "}\n",
       "\n",
       "/* Parallel-specific style estimator block */\n",
       "\n",
       "#sk-container-id-1 div.sk-parallel-item::after {\n",
       "  content: \"\";\n",
       "  width: 100%;\n",
       "  border-bottom: 2px solid var(--sklearn-color-text-on-default-background);\n",
       "  flex-grow: 1;\n",
       "}\n",
       "\n",
       "#sk-container-id-1 div.sk-parallel {\n",
       "  display: flex;\n",
       "  align-items: stretch;\n",
       "  justify-content: center;\n",
       "  background-color: var(--sklearn-color-background);\n",
       "  position: relative;\n",
       "}\n",
       "\n",
       "#sk-container-id-1 div.sk-parallel-item {\n",
       "  display: flex;\n",
       "  flex-direction: column;\n",
       "}\n",
       "\n",
       "#sk-container-id-1 div.sk-parallel-item:first-child::after {\n",
       "  align-self: flex-end;\n",
       "  width: 50%;\n",
       "}\n",
       "\n",
       "#sk-container-id-1 div.sk-parallel-item:last-child::after {\n",
       "  align-self: flex-start;\n",
       "  width: 50%;\n",
       "}\n",
       "\n",
       "#sk-container-id-1 div.sk-parallel-item:only-child::after {\n",
       "  width: 0;\n",
       "}\n",
       "\n",
       "/* Serial-specific style estimator block */\n",
       "\n",
       "#sk-container-id-1 div.sk-serial {\n",
       "  display: flex;\n",
       "  flex-direction: column;\n",
       "  align-items: center;\n",
       "  background-color: var(--sklearn-color-background);\n",
       "  padding-right: 1em;\n",
       "  padding-left: 1em;\n",
       "}\n",
       "\n",
       "\n",
       "/* Toggleable style: style used for estimator/Pipeline/ColumnTransformer box that is\n",
       "clickable and can be expanded/collapsed.\n",
       "- Pipeline and ColumnTransformer use this feature and define the default style\n",
       "- Estimators will overwrite some part of the style using the `sk-estimator` class\n",
       "*/\n",
       "\n",
       "/* Pipeline and ColumnTransformer style (default) */\n",
       "\n",
       "#sk-container-id-1 div.sk-toggleable {\n",
       "  /* Default theme specific background. It is overwritten whether we have a\n",
       "  specific estimator or a Pipeline/ColumnTransformer */\n",
       "  background-color: var(--sklearn-color-background);\n",
       "}\n",
       "\n",
       "/* Toggleable label */\n",
       "#sk-container-id-1 label.sk-toggleable__label {\n",
       "  cursor: pointer;\n",
       "  display: block;\n",
       "  width: 100%;\n",
       "  margin-bottom: 0;\n",
       "  padding: 0.5em;\n",
       "  box-sizing: border-box;\n",
       "  text-align: center;\n",
       "}\n",
       "\n",
       "#sk-container-id-1 label.sk-toggleable__label-arrow:before {\n",
       "  /* Arrow on the left of the label */\n",
       "  content: \"▸\";\n",
       "  float: left;\n",
       "  margin-right: 0.25em;\n",
       "  color: var(--sklearn-color-icon);\n",
       "}\n",
       "\n",
       "#sk-container-id-1 label.sk-toggleable__label-arrow:hover:before {\n",
       "  color: var(--sklearn-color-text);\n",
       "}\n",
       "\n",
       "/* Toggleable content - dropdown */\n",
       "\n",
       "#sk-container-id-1 div.sk-toggleable__content {\n",
       "  max-height: 0;\n",
       "  max-width: 0;\n",
       "  overflow: hidden;\n",
       "  text-align: left;\n",
       "  /* unfitted */\n",
       "  background-color: var(--sklearn-color-unfitted-level-0);\n",
       "}\n",
       "\n",
       "#sk-container-id-1 div.sk-toggleable__content.fitted {\n",
       "  /* fitted */\n",
       "  background-color: var(--sklearn-color-fitted-level-0);\n",
       "}\n",
       "\n",
       "#sk-container-id-1 div.sk-toggleable__content pre {\n",
       "  margin: 0.2em;\n",
       "  border-radius: 0.25em;\n",
       "  color: var(--sklearn-color-text);\n",
       "  /* unfitted */\n",
       "  background-color: var(--sklearn-color-unfitted-level-0);\n",
       "}\n",
       "\n",
       "#sk-container-id-1 div.sk-toggleable__content.fitted pre {\n",
       "  /* unfitted */\n",
       "  background-color: var(--sklearn-color-fitted-level-0);\n",
       "}\n",
       "\n",
       "#sk-container-id-1 input.sk-toggleable__control:checked~div.sk-toggleable__content {\n",
       "  /* Expand drop-down */\n",
       "  max-height: 200px;\n",
       "  max-width: 100%;\n",
       "  overflow: auto;\n",
       "}\n",
       "\n",
       "#sk-container-id-1 input.sk-toggleable__control:checked~label.sk-toggleable__label-arrow:before {\n",
       "  content: \"▾\";\n",
       "}\n",
       "\n",
       "/* Pipeline/ColumnTransformer-specific style */\n",
       "\n",
       "#sk-container-id-1 div.sk-label input.sk-toggleable__control:checked~label.sk-toggleable__label {\n",
       "  color: var(--sklearn-color-text);\n",
       "  background-color: var(--sklearn-color-unfitted-level-2);\n",
       "}\n",
       "\n",
       "#sk-container-id-1 div.sk-label.fitted input.sk-toggleable__control:checked~label.sk-toggleable__label {\n",
       "  background-color: var(--sklearn-color-fitted-level-2);\n",
       "}\n",
       "\n",
       "/* Estimator-specific style */\n",
       "\n",
       "/* Colorize estimator box */\n",
       "#sk-container-id-1 div.sk-estimator input.sk-toggleable__control:checked~label.sk-toggleable__label {\n",
       "  /* unfitted */\n",
       "  background-color: var(--sklearn-color-unfitted-level-2);\n",
       "}\n",
       "\n",
       "#sk-container-id-1 div.sk-estimator.fitted input.sk-toggleable__control:checked~label.sk-toggleable__label {\n",
       "  /* fitted */\n",
       "  background-color: var(--sklearn-color-fitted-level-2);\n",
       "}\n",
       "\n",
       "#sk-container-id-1 div.sk-label label.sk-toggleable__label,\n",
       "#sk-container-id-1 div.sk-label label {\n",
       "  /* The background is the default theme color */\n",
       "  color: var(--sklearn-color-text-on-default-background);\n",
       "}\n",
       "\n",
       "/* On hover, darken the color of the background */\n",
       "#sk-container-id-1 div.sk-label:hover label.sk-toggleable__label {\n",
       "  color: var(--sklearn-color-text);\n",
       "  background-color: var(--sklearn-color-unfitted-level-2);\n",
       "}\n",
       "\n",
       "/* Label box, darken color on hover, fitted */\n",
       "#sk-container-id-1 div.sk-label.fitted:hover label.sk-toggleable__label.fitted {\n",
       "  color: var(--sklearn-color-text);\n",
       "  background-color: var(--sklearn-color-fitted-level-2);\n",
       "}\n",
       "\n",
       "/* Estimator label */\n",
       "\n",
       "#sk-container-id-1 div.sk-label label {\n",
       "  font-family: monospace;\n",
       "  font-weight: bold;\n",
       "  display: inline-block;\n",
       "  line-height: 1.2em;\n",
       "}\n",
       "\n",
       "#sk-container-id-1 div.sk-label-container {\n",
       "  text-align: center;\n",
       "}\n",
       "\n",
       "/* Estimator-specific */\n",
       "#sk-container-id-1 div.sk-estimator {\n",
       "  font-family: monospace;\n",
       "  border: 1px dotted var(--sklearn-color-border-box);\n",
       "  border-radius: 0.25em;\n",
       "  box-sizing: border-box;\n",
       "  margin-bottom: 0.5em;\n",
       "  /* unfitted */\n",
       "  background-color: var(--sklearn-color-unfitted-level-0);\n",
       "}\n",
       "\n",
       "#sk-container-id-1 div.sk-estimator.fitted {\n",
       "  /* fitted */\n",
       "  background-color: var(--sklearn-color-fitted-level-0);\n",
       "}\n",
       "\n",
       "/* on hover */\n",
       "#sk-container-id-1 div.sk-estimator:hover {\n",
       "  /* unfitted */\n",
       "  background-color: var(--sklearn-color-unfitted-level-2);\n",
       "}\n",
       "\n",
       "#sk-container-id-1 div.sk-estimator.fitted:hover {\n",
       "  /* fitted */\n",
       "  background-color: var(--sklearn-color-fitted-level-2);\n",
       "}\n",
       "\n",
       "/* Specification for estimator info (e.g. \"i\" and \"?\") */\n",
       "\n",
       "/* Common style for \"i\" and \"?\" */\n",
       "\n",
       ".sk-estimator-doc-link,\n",
       "a:link.sk-estimator-doc-link,\n",
       "a:visited.sk-estimator-doc-link {\n",
       "  float: right;\n",
       "  font-size: smaller;\n",
       "  line-height: 1em;\n",
       "  font-family: monospace;\n",
       "  background-color: var(--sklearn-color-background);\n",
       "  border-radius: 1em;\n",
       "  height: 1em;\n",
       "  width: 1em;\n",
       "  text-decoration: none !important;\n",
       "  margin-left: 1ex;\n",
       "  /* unfitted */\n",
       "  border: var(--sklearn-color-unfitted-level-1) 1pt solid;\n",
       "  color: var(--sklearn-color-unfitted-level-1);\n",
       "}\n",
       "\n",
       ".sk-estimator-doc-link.fitted,\n",
       "a:link.sk-estimator-doc-link.fitted,\n",
       "a:visited.sk-estimator-doc-link.fitted {\n",
       "  /* fitted */\n",
       "  border: var(--sklearn-color-fitted-level-1) 1pt solid;\n",
       "  color: var(--sklearn-color-fitted-level-1);\n",
       "}\n",
       "\n",
       "/* On hover */\n",
       "div.sk-estimator:hover .sk-estimator-doc-link:hover,\n",
       ".sk-estimator-doc-link:hover,\n",
       "div.sk-label-container:hover .sk-estimator-doc-link:hover,\n",
       ".sk-estimator-doc-link:hover {\n",
       "  /* unfitted */\n",
       "  background-color: var(--sklearn-color-unfitted-level-3);\n",
       "  color: var(--sklearn-color-background);\n",
       "  text-decoration: none;\n",
       "}\n",
       "\n",
       "div.sk-estimator.fitted:hover .sk-estimator-doc-link.fitted:hover,\n",
       ".sk-estimator-doc-link.fitted:hover,\n",
       "div.sk-label-container:hover .sk-estimator-doc-link.fitted:hover,\n",
       ".sk-estimator-doc-link.fitted:hover {\n",
       "  /* fitted */\n",
       "  background-color: var(--sklearn-color-fitted-level-3);\n",
       "  color: var(--sklearn-color-background);\n",
       "  text-decoration: none;\n",
       "}\n",
       "\n",
       "/* Span, style for the box shown on hovering the info icon */\n",
       ".sk-estimator-doc-link span {\n",
       "  display: none;\n",
       "  z-index: 9999;\n",
       "  position: relative;\n",
       "  font-weight: normal;\n",
       "  right: .2ex;\n",
       "  padding: .5ex;\n",
       "  margin: .5ex;\n",
       "  width: min-content;\n",
       "  min-width: 20ex;\n",
       "  max-width: 50ex;\n",
       "  color: var(--sklearn-color-text);\n",
       "  box-shadow: 2pt 2pt 4pt #999;\n",
       "  /* unfitted */\n",
       "  background: var(--sklearn-color-unfitted-level-0);\n",
       "  border: .5pt solid var(--sklearn-color-unfitted-level-3);\n",
       "}\n",
       "\n",
       ".sk-estimator-doc-link.fitted span {\n",
       "  /* fitted */\n",
       "  background: var(--sklearn-color-fitted-level-0);\n",
       "  border: var(--sklearn-color-fitted-level-3);\n",
       "}\n",
       "\n",
       ".sk-estimator-doc-link:hover span {\n",
       "  display: block;\n",
       "}\n",
       "\n",
       "/* \"?\"-specific style due to the `<a>` HTML tag */\n",
       "\n",
       "#sk-container-id-1 a.estimator_doc_link {\n",
       "  float: right;\n",
       "  font-size: 1rem;\n",
       "  line-height: 1em;\n",
       "  font-family: monospace;\n",
       "  background-color: var(--sklearn-color-background);\n",
       "  border-radius: 1rem;\n",
       "  height: 1rem;\n",
       "  width: 1rem;\n",
       "  text-decoration: none;\n",
       "  /* unfitted */\n",
       "  color: var(--sklearn-color-unfitted-level-1);\n",
       "  border: var(--sklearn-color-unfitted-level-1) 1pt solid;\n",
       "}\n",
       "\n",
       "#sk-container-id-1 a.estimator_doc_link.fitted {\n",
       "  /* fitted */\n",
       "  border: var(--sklearn-color-fitted-level-1) 1pt solid;\n",
       "  color: var(--sklearn-color-fitted-level-1);\n",
       "}\n",
       "\n",
       "/* On hover */\n",
       "#sk-container-id-1 a.estimator_doc_link:hover {\n",
       "  /* unfitted */\n",
       "  background-color: var(--sklearn-color-unfitted-level-3);\n",
       "  color: var(--sklearn-color-background);\n",
       "  text-decoration: none;\n",
       "}\n",
       "\n",
       "#sk-container-id-1 a.estimator_doc_link.fitted:hover {\n",
       "  /* fitted */\n",
       "  background-color: var(--sklearn-color-fitted-level-3);\n",
       "}\n",
       "</style><div id=\"sk-container-id-1\" class=\"sk-top-container\"><div class=\"sk-text-repr-fallback\"><pre>ColumnTransformer(transformers=[(&#x27;num&#x27;,\n",
       "                                 Pipeline(steps=[(&#x27;scaler&#x27;, StandardScaler())]),\n",
       "                                 [&#x27;Age&#x27;, &#x27;Job&#x27;, &#x27;Credit amount&#x27;, &#x27;Duration&#x27;]),\n",
       "                                (&#x27;cat&#x27;,\n",
       "                                 Pipeline(steps=[(&#x27;imputer&#x27;,\n",
       "                                                  SimpleImputer(strategy=&#x27;most_frequent&#x27;)),\n",
       "                                                 (&#x27;onehot&#x27;,\n",
       "                                                  OneHotEncoder(handle_unknown=&#x27;ignore&#x27;,\n",
       "                                                                sparse_output=False))]),\n",
       "                                 [&#x27;Sex&#x27;, &#x27;Housing&#x27;, &#x27;Saving accounts&#x27;,\n",
       "                                  &#x27;Checking account&#x27;, &#x27;Purpose&#x27;])])</pre><b>In a Jupyter environment, please rerun this cell to show the HTML representation or trust the notebook. <br />On GitHub, the HTML representation is unable to render, please try loading this page with nbviewer.org.</b></div><div class=\"sk-container\" hidden><div class=\"sk-item sk-dashed-wrapped\"><div class=\"sk-label-container\"><div class=\"sk-label  sk-toggleable\"><input class=\"sk-toggleable__control sk-hidden--visually\" id=\"sk-estimator-id-1\" type=\"checkbox\" ><label for=\"sk-estimator-id-1\" class=\"sk-toggleable__label  sk-toggleable__label-arrow \">&nbsp;&nbsp;ColumnTransformer<a class=\"sk-estimator-doc-link \" rel=\"noreferrer\" target=\"_blank\" href=\"https://scikit-learn.org/1.5/modules/generated/sklearn.compose.ColumnTransformer.html\">?<span>Documentation for ColumnTransformer</span></a><span class=\"sk-estimator-doc-link \">i<span>Not fitted</span></span></label><div class=\"sk-toggleable__content \"><pre>ColumnTransformer(transformers=[(&#x27;num&#x27;,\n",
       "                                 Pipeline(steps=[(&#x27;scaler&#x27;, StandardScaler())]),\n",
       "                                 [&#x27;Age&#x27;, &#x27;Job&#x27;, &#x27;Credit amount&#x27;, &#x27;Duration&#x27;]),\n",
       "                                (&#x27;cat&#x27;,\n",
       "                                 Pipeline(steps=[(&#x27;imputer&#x27;,\n",
       "                                                  SimpleImputer(strategy=&#x27;most_frequent&#x27;)),\n",
       "                                                 (&#x27;onehot&#x27;,\n",
       "                                                  OneHotEncoder(handle_unknown=&#x27;ignore&#x27;,\n",
       "                                                                sparse_output=False))]),\n",
       "                                 [&#x27;Sex&#x27;, &#x27;Housing&#x27;, &#x27;Saving accounts&#x27;,\n",
       "                                  &#x27;Checking account&#x27;, &#x27;Purpose&#x27;])])</pre></div> </div></div><div class=\"sk-parallel\"><div class=\"sk-parallel-item\"><div class=\"sk-item\"><div class=\"sk-label-container\"><div class=\"sk-label  sk-toggleable\"><input class=\"sk-toggleable__control sk-hidden--visually\" id=\"sk-estimator-id-2\" type=\"checkbox\" ><label for=\"sk-estimator-id-2\" class=\"sk-toggleable__label  sk-toggleable__label-arrow \">num</label><div class=\"sk-toggleable__content \"><pre>[&#x27;Age&#x27;, &#x27;Job&#x27;, &#x27;Credit amount&#x27;, &#x27;Duration&#x27;]</pre></div> </div></div><div class=\"sk-serial\"><div class=\"sk-item\"><div class=\"sk-serial\"><div class=\"sk-item\"><div class=\"sk-estimator  sk-toggleable\"><input class=\"sk-toggleable__control sk-hidden--visually\" id=\"sk-estimator-id-3\" type=\"checkbox\" ><label for=\"sk-estimator-id-3\" class=\"sk-toggleable__label  sk-toggleable__label-arrow \">&nbsp;StandardScaler<a class=\"sk-estimator-doc-link \" rel=\"noreferrer\" target=\"_blank\" href=\"https://scikit-learn.org/1.5/modules/generated/sklearn.preprocessing.StandardScaler.html\">?<span>Documentation for StandardScaler</span></a></label><div class=\"sk-toggleable__content \"><pre>StandardScaler()</pre></div> </div></div></div></div></div></div></div><div class=\"sk-parallel-item\"><div class=\"sk-item\"><div class=\"sk-label-container\"><div class=\"sk-label  sk-toggleable\"><input class=\"sk-toggleable__control sk-hidden--visually\" id=\"sk-estimator-id-4\" type=\"checkbox\" ><label for=\"sk-estimator-id-4\" class=\"sk-toggleable__label  sk-toggleable__label-arrow \">cat</label><div class=\"sk-toggleable__content \"><pre>[&#x27;Sex&#x27;, &#x27;Housing&#x27;, &#x27;Saving accounts&#x27;, &#x27;Checking account&#x27;, &#x27;Purpose&#x27;]</pre></div> </div></div><div class=\"sk-serial\"><div class=\"sk-item\"><div class=\"sk-serial\"><div class=\"sk-item\"><div class=\"sk-estimator  sk-toggleable\"><input class=\"sk-toggleable__control sk-hidden--visually\" id=\"sk-estimator-id-5\" type=\"checkbox\" ><label for=\"sk-estimator-id-5\" class=\"sk-toggleable__label  sk-toggleable__label-arrow \">&nbsp;SimpleImputer<a class=\"sk-estimator-doc-link \" rel=\"noreferrer\" target=\"_blank\" href=\"https://scikit-learn.org/1.5/modules/generated/sklearn.impute.SimpleImputer.html\">?<span>Documentation for SimpleImputer</span></a></label><div class=\"sk-toggleable__content \"><pre>SimpleImputer(strategy=&#x27;most_frequent&#x27;)</pre></div> </div></div><div class=\"sk-item\"><div class=\"sk-estimator  sk-toggleable\"><input class=\"sk-toggleable__control sk-hidden--visually\" id=\"sk-estimator-id-6\" type=\"checkbox\" ><label for=\"sk-estimator-id-6\" class=\"sk-toggleable__label  sk-toggleable__label-arrow \">&nbsp;OneHotEncoder<a class=\"sk-estimator-doc-link \" rel=\"noreferrer\" target=\"_blank\" href=\"https://scikit-learn.org/1.5/modules/generated/sklearn.preprocessing.OneHotEncoder.html\">?<span>Documentation for OneHotEncoder</span></a></label><div class=\"sk-toggleable__content \"><pre>OneHotEncoder(handle_unknown=&#x27;ignore&#x27;, sparse_output=False)</pre></div> </div></div></div></div></div></div></div></div></div></div></div>"
      ],
      "text/plain": [
       "ColumnTransformer(transformers=[('num',\n",
       "                                 Pipeline(steps=[('scaler', StandardScaler())]),\n",
       "                                 ['Age', 'Job', 'Credit amount', 'Duration']),\n",
       "                                ('cat',\n",
       "                                 Pipeline(steps=[('imputer',\n",
       "                                                  SimpleImputer(strategy='most_frequent')),\n",
       "                                                 ('onehot',\n",
       "                                                  OneHotEncoder(handle_unknown='ignore',\n",
       "                                                                sparse_output=False))]),\n",
       "                                 ['Sex', 'Housing', 'Saving accounts',\n",
       "                                  'Checking account', 'Purpose'])])"
      ]
     },
     "execution_count": 26,
     "metadata": {},
     "output_type": "execute_result"
    }
   ],
   "source": [
    "numeric_features = ['Age', \"Job\",\"Credit amount\", \"Duration\"]\n",
    "categoric_features = [\"Sex\", \"Housing\", \"Saving accounts\", \"Checking account\", \"Purpose\"]\n",
    "\n",
    "pipeline_numeric = Pipeline(steps=[\n",
    "    ('scaler', StandardScaler())\n",
    "])\n",
    "\n",
    "pipeline_categoric = Pipeline(steps=[\n",
    "    ('imputer', SimpleImputer(strategy='most_frequent')),\n",
    "    ('onehot', OneHotEncoder(handle_unknown='ignore',sparse_output=False))\n",
    "])\n",
    "\n",
    "preprocessor = ColumnTransformer(transformers=[\n",
    "    ('num', pipeline_numeric, numeric_features),\n",
    "    ('cat', pipeline_categoric, categoric_features)\n",
    "])\n",
    "\n",
    "preprocessor"
   ]
  },
  {
   "cell_type": "code",
   "execution_count": 27,
   "metadata": {},
   "outputs": [
    {
     "data": {
      "text/plain": [
       "((800, 9), (1000, 9), (1000,))"
      ]
     },
     "execution_count": 27,
     "metadata": {},
     "output_type": "execute_result"
    }
   ],
   "source": [
    "X = train.drop('Risk', axis =1)\n",
    "y = LabelEncoder().fit_transform(train['Risk'])\n",
    "\n",
    "xtrain, xtest,ytrain, ytest = train_test_split(X, y, test_size=0.2, random_state=42)\n",
    "xtrain.shape, X.shape, y.shape"
   ]
  },
  {
   "cell_type": "code",
   "execution_count": 28,
   "metadata": {},
   "outputs": [
    {
     "data": {
      "text/plain": [
       "0.7"
      ]
     },
     "execution_count": 28,
     "metadata": {},
     "output_type": "execute_result"
    }
   ],
   "source": [
    "## transformation\n",
    "Xtrain = preprocessor.fit_transform(xtrain)\n",
    "Xtest = preprocessor.transform(xtest)\n",
    "\n",
    "model = LogisticRegression(penalty='l2', fit_intercept=True)\n",
    "model.fit(Xtrain, ytrain)\n",
    "predict = model.predict(Xtest)\n",
    "model.score(Xtest, ytest)"
   ]
  },
  {
   "cell_type": "code",
   "execution_count": 29,
   "metadata": {},
   "outputs": [
    {
     "data": {
      "text/plain": [
       "['../models_credit_risque/pipeline_transformer.pkl']"
      ]
     },
     "execution_count": 29,
     "metadata": {},
     "output_type": "execute_result"
    }
   ],
   "source": [
    "joblib.dump(preprocessor, '../models_credit_risque/pipeline_transformer.pkl')"
   ]
  },
  {
   "cell_type": "markdown",
   "metadata": {},
   "source": [
    "## Modeling "
   ]
  },
  {
   "cell_type": "code",
   "execution_count": 30,
   "metadata": {},
   "outputs": [],
   "source": [
    "def modeling_data(estimator, xtrain, xtest, ytrain, ytest):\n",
    "    ## fiting\n",
    "    estimator.fit(xtrain, ytrain)\n",
    "    prediction = estimator.predict(xtest)\n",
    "    \n",
    "    ## result models\n",
    "    print(\"************** Result ***************\")\n",
    "    #print(f\"Name model : {estimator}\")\n",
    "    Accuracy = accuracy_score(ytest, prediction)\n",
    "    F1_score = f1_score(ytest, prediction, average='weighted')\n",
    "    Report = classification_report(ytest, prediction)\n",
    "    Precision = precision_score(ytest, prediction, average='weighted')\n",
    "    Matrice_Confusion = confusion_matrix(ytest, prediction)\n",
    "    #probablities\n",
    "    probabilities = estimator.predict_proba(xtest)[:, 1]\n",
    "    ROC_AUC = roc_auc_score(ytest, probabilities)\n",
    "    \n",
    "    #print(f\"Classification Report: {Report}\\n\")\n",
    "    #print(f\"matrice de Confusion :{Matrice_Confusion}\\n\")\n",
    "    \n",
    "    ## cross_val_score\n",
    "    scores = cross_val_score(estimator, xtrain, ytrain, cv=5, scoring='f1')\n",
    "    average_scores = np.round(np.mean(scores),4)\n",
    "    result_modeling = pd.DataFrame({\n",
    "        \"Metric\": [\"Accuracy\", \"F1 Score\", \"Precision\", \"ROC\",\"Cross_Val\"],\n",
    "        \"Value\": [Accuracy, F1_score, Precision, ROC_AUC, average_scores]\n",
    "    })\n",
    "    return result_modeling\n",
    "    "
   ]
  },
  {
   "cell_type": "code",
   "execution_count": 31,
   "metadata": {},
   "outputs": [
    {
     "name": "stdout",
     "output_type": "stream",
     "text": [
      "ModelName: LogisticRegression\n",
      "************** Result ***************\n"
     ]
    },
    {
     "name": "stdout",
     "output_type": "stream",
     "text": [
      "      Metric     Value\n",
      "0   Accuracy  0.700000\n",
      "1   F1 Score  0.659473\n",
      "2  Precision  0.659580\n",
      "3        ROC  0.594062\n",
      "4  Cross_Val  0.818700\n",
      "ModelName: Random\n",
      "************** Result ***************\n",
      "      Metric     Value\n",
      "0   Accuracy  0.675000\n",
      "1   F1 Score  0.637203\n",
      "2  Precision  0.628088\n",
      "3        ROC  0.635233\n",
      "4  Cross_Val  0.803800\n",
      "ModelName: XGBOOST\n",
      "************** Result ***************\n",
      "      Metric     Value\n",
      "0   Accuracy  0.700000\n",
      "1   F1 Score  0.679322\n",
      "2  Precision  0.673563\n",
      "3        ROC  0.672557\n",
      "4  Cross_Val  0.784900\n",
      "ModelName: DecisionTree\n",
      "************** Result ***************\n",
      "      Metric     Value\n",
      "0   Accuracy  0.715000\n",
      "1   F1 Score  0.652154\n",
      "2  Precision  0.679361\n",
      "3        ROC  0.619005\n",
      "4  Cross_Val  0.802800\n",
      "ModelName: KNN\n",
      "************** Result ***************\n",
      "      Metric     Value\n",
      "0   Accuracy  0.665000\n",
      "1   F1 Score  0.626040\n",
      "2  Precision  0.614108\n",
      "3        ROC  0.603919\n",
      "4  Cross_Val  0.780900\n",
      "ModelName: GB\n",
      "************** Result ***************\n",
      "      Metric     Value\n",
      "0   Accuracy  0.610000\n",
      "1   F1 Score  0.613588\n",
      "2  Precision  0.617614\n",
      "3        ROC  0.581921\n",
      "4  Cross_Val  0.747800\n",
      "ModelName: Adaboost\n",
      "************** Result ***************\n",
      "      Metric     Value\n",
      "0   Accuracy  0.705000\n",
      "1   F1 Score  0.659087\n",
      "2  Precision  0.664233\n",
      "3        ROC  0.666667\n",
      "4  Cross_Val  0.804300\n"
     ]
    }
   ],
   "source": [
    "models = [\n",
    "    (\"LogisticRegression\", LogisticRegression(penalty='l2', fit_intercept=True, solver='liblinear')),\n",
    "    ('Random', RandomForestClassifier(n_estimators=200, criterion='gini', random_state=42)),\n",
    "    ('XGBOOST', XGBClassifier(random_state =500)),\n",
    "    ('DecisionTree', DecisionTreeClassifier(criterion='gini', max_depth=3, max_features=5)),\n",
    "    ('KNN', KNeighborsClassifier(n_neighbors=5)),\n",
    "    ('GB', GaussianNB()),\n",
    "    ('Adaboost', AdaBoostClassifier(n_estimators=100, algorithm=\"SAMME\", random_state=42))\n",
    "]\n",
    "\n",
    "for model_name,model in models:\n",
    "    print(f\"ModelName: {model_name}\")\n",
    "    result = modeling_data(model, Xtrain, Xtest, ytrain, ytest)\n",
    "    print(result)"
   ]
  },
  {
   "cell_type": "code",
   "execution_count": 32,
   "metadata": {},
   "outputs": [
    {
     "data": {
      "text/plain": [
       "Risk\n",
       "good    700\n",
       "bad     300\n",
       "Name: count, dtype: int64"
      ]
     },
     "execution_count": 32,
     "metadata": {},
     "output_type": "execute_result"
    }
   ],
   "source": [
    "train['Risk'].value_counts()"
   ]
  },
  {
   "cell_type": "markdown",
   "metadata": {},
   "source": [
    "les classes ne sont pas équilibreés dont on pourrait effectuer un réechantillonage classes "
   ]
  },
  {
   "cell_type": "markdown",
   "metadata": {},
   "source": [
    "## Grilles de paramètres pour select the best model"
   ]
  },
  {
   "cell_type": "code",
   "execution_count": 33,
   "metadata": {},
   "outputs": [
    {
     "name": "stdout",
     "output_type": "stream",
     "text": [
      "Tuning hyperparameters for LogisticRegression...\n",
      "Fitting 5 folds for each of 8 candidates, totalling 40 fits\n",
      "Best Model for LogisticRegression: LogisticRegression(C=1, random_state=42, solver='liblinear')\n",
      "Best Parameters: {'C': 1, 'penalty': 'l2', 'solver': 'liblinear'}\n",
      "Best CV Score: 0.7175\n",
      "\n",
      "Test Accuracy for LogisticRegression: 0.7\n",
      "\n",
      "Tuning hyperparameters for RandomForestClassifier...\n",
      "Fitting 5 folds for each of 24 candidates, totalling 120 fits\n",
      "Best Model for RandomForestClassifier: RandomForestClassifier(max_depth=10, n_estimators=200, random_state=42)\n",
      "Best Parameters: {'criterion': 'gini', 'max_depth': 10, 'n_estimators': 200}\n",
      "Best CV Score: 0.71375\n",
      "\n",
      "Test Accuracy for RandomForestClassifier: 0.685\n",
      "\n",
      "Tuning hyperparameters for XGBClassifier...\n",
      "Fitting 5 folds for each of 36 candidates, totalling 180 fits\n",
      "Best Model for XGBClassifier: XGBClassifier(base_score=None, booster=None, callbacks=None,\n",
      "              colsample_bylevel=None, colsample_bynode=None,\n",
      "              colsample_bytree=None, device=None, early_stopping_rounds=None,\n",
      "              enable_categorical=False, eval_metric='logloss',\n",
      "              feature_types=None, gamma=None, grow_policy=None,\n",
      "              importance_type=None, interaction_constraints=None,\n",
      "              learning_rate=0.01, max_bin=None, max_cat_threshold=None,\n",
      "              max_cat_to_onehot=None, max_delta_step=None, max_depth=5,\n",
      "              max_leaves=None, min_child_weight=None, missing=nan,\n",
      "              monotone_constraints=None, multi_strategy=None, n_estimators=200,\n",
      "              n_jobs=None, num_parallel_tree=None, random_state=42, ...)\n",
      "Best Parameters: {'learning_rate': 0.01, 'max_depth': 5, 'n_estimators': 200, 'subsample': 1.0}\n",
      "Best CV Score: 0.7200000000000001\n",
      "\n",
      "Test Accuracy for XGBClassifier: 0.73\n",
      "\n",
      "Tuning hyperparameters for DecisionTreeClassifier...\n",
      "Fitting 5 folds for each of 18 candidates, totalling 90 fits\n",
      "Best Model for DecisionTreeClassifier: DecisionTreeClassifier(criterion='entropy', max_depth=5, max_features=5,\n",
      "                       random_state=42)\n",
      "Best Parameters: {'criterion': 'entropy', 'max_depth': 5, 'max_features': 5}\n",
      "Best CV Score: 0.695\n",
      "\n",
      "Test Accuracy for DecisionTreeClassifier: 0.685\n",
      "\n",
      "Tuning hyperparameters for KNeighborsClassifier...\n",
      "Fitting 5 folds for each of 8 candidates, totalling 40 fits\n",
      "Best Model for KNeighborsClassifier: KNeighborsClassifier(n_neighbors=9, weights='distance')\n",
      "Best Parameters: {'n_neighbors': 9, 'weights': 'distance'}\n",
      "Best CV Score: 0.70375\n",
      "\n",
      "Test Accuracy for KNeighborsClassifier: 0.67\n",
      "\n",
      "Tuning hyperparameters for GaussianNB...\n",
      "Fitting 5 folds for each of 1 candidates, totalling 5 fits\n",
      "Best Model for GaussianNB: GaussianNB()\n",
      "Best Parameters: {}\n",
      "Best CV Score: 0.66125\n",
      "\n",
      "Test Accuracy for GaussianNB: 0.61\n",
      "\n",
      "Tuning hyperparameters for AdaBoostClassifier...\n",
      "Fitting 5 folds for each of 9 candidates, totalling 45 fits\n"
     ]
    },
    {
     "name": "stderr",
     "output_type": "stream",
     "text": [
      "/home/dona-erick/Test_Technique_DataBeez/Riskenv/lib/python3.12/site-packages/sklearn/ensemble/_weight_boosting.py:527: FutureWarning: The SAMME.R algorithm (the default) is deprecated and will be removed in 1.6. Use the SAMME algorithm to circumvent this warning.\n",
      "  warnings.warn(\n",
      "/home/dona-erick/Test_Technique_DataBeez/Riskenv/lib/python3.12/site-packages/sklearn/ensemble/_weight_boosting.py:527: FutureWarning: The SAMME.R algorithm (the default) is deprecated and will be removed in 1.6. Use the SAMME algorithm to circumvent this warning.\n",
      "  warnings.warn(\n",
      "/home/dona-erick/Test_Technique_DataBeez/Riskenv/lib/python3.12/site-packages/sklearn/ensemble/_weight_boosting.py:527: FutureWarning: The SAMME.R algorithm (the default) is deprecated and will be removed in 1.6. Use the SAMME algorithm to circumvent this warning.\n",
      "  warnings.warn(\n",
      "/home/dona-erick/Test_Technique_DataBeez/Riskenv/lib/python3.12/site-packages/sklearn/ensemble/_weight_boosting.py:527: FutureWarning: The SAMME.R algorithm (the default) is deprecated and will be removed in 1.6. Use the SAMME algorithm to circumvent this warning.\n",
      "  warnings.warn(\n",
      "/home/dona-erick/Test_Technique_DataBeez/Riskenv/lib/python3.12/site-packages/sklearn/ensemble/_weight_boosting.py:527: FutureWarning: The SAMME.R algorithm (the default) is deprecated and will be removed in 1.6. Use the SAMME algorithm to circumvent this warning.\n",
      "  warnings.warn(\n",
      "/home/dona-erick/Test_Technique_DataBeez/Riskenv/lib/python3.12/site-packages/sklearn/ensemble/_weight_boosting.py:527: FutureWarning: The SAMME.R algorithm (the default) is deprecated and will be removed in 1.6. Use the SAMME algorithm to circumvent this warning.\n",
      "  warnings.warn(\n",
      "/home/dona-erick/Test_Technique_DataBeez/Riskenv/lib/python3.12/site-packages/sklearn/ensemble/_weight_boosting.py:527: FutureWarning: The SAMME.R algorithm (the default) is deprecated and will be removed in 1.6. Use the SAMME algorithm to circumvent this warning.\n",
      "  warnings.warn(\n",
      "/home/dona-erick/Test_Technique_DataBeez/Riskenv/lib/python3.12/site-packages/sklearn/ensemble/_weight_boosting.py:527: FutureWarning: The SAMME.R algorithm (the default) is deprecated and will be removed in 1.6. Use the SAMME algorithm to circumvent this warning.\n",
      "  warnings.warn(\n",
      "/home/dona-erick/Test_Technique_DataBeez/Riskenv/lib/python3.12/site-packages/sklearn/ensemble/_weight_boosting.py:527: FutureWarning: The SAMME.R algorithm (the default) is deprecated and will be removed in 1.6. Use the SAMME algorithm to circumvent this warning.\n",
      "  warnings.warn(\n",
      "/home/dona-erick/Test_Technique_DataBeez/Riskenv/lib/python3.12/site-packages/sklearn/ensemble/_weight_boosting.py:527: FutureWarning: The SAMME.R algorithm (the default) is deprecated and will be removed in 1.6. Use the SAMME algorithm to circumvent this warning.\n",
      "  warnings.warn(\n",
      "/home/dona-erick/Test_Technique_DataBeez/Riskenv/lib/python3.12/site-packages/sklearn/ensemble/_weight_boosting.py:527: FutureWarning: The SAMME.R algorithm (the default) is deprecated and will be removed in 1.6. Use the SAMME algorithm to circumvent this warning.\n",
      "  warnings.warn(\n",
      "/home/dona-erick/Test_Technique_DataBeez/Riskenv/lib/python3.12/site-packages/sklearn/ensemble/_weight_boosting.py:527: FutureWarning: The SAMME.R algorithm (the default) is deprecated and will be removed in 1.6. Use the SAMME algorithm to circumvent this warning.\n",
      "  warnings.warn(\n",
      "/home/dona-erick/Test_Technique_DataBeez/Riskenv/lib/python3.12/site-packages/sklearn/ensemble/_weight_boosting.py:527: FutureWarning: The SAMME.R algorithm (the default) is deprecated and will be removed in 1.6. Use the SAMME algorithm to circumvent this warning.\n",
      "  warnings.warn(\n",
      "/home/dona-erick/Test_Technique_DataBeez/Riskenv/lib/python3.12/site-packages/sklearn/ensemble/_weight_boosting.py:527: FutureWarning: The SAMME.R algorithm (the default) is deprecated and will be removed in 1.6. Use the SAMME algorithm to circumvent this warning.\n",
      "  warnings.warn(\n",
      "/home/dona-erick/Test_Technique_DataBeez/Riskenv/lib/python3.12/site-packages/sklearn/ensemble/_weight_boosting.py:527: FutureWarning: The SAMME.R algorithm (the default) is deprecated and will be removed in 1.6. Use the SAMME algorithm to circumvent this warning.\n",
      "  warnings.warn(\n",
      "/home/dona-erick/Test_Technique_DataBeez/Riskenv/lib/python3.12/site-packages/sklearn/ensemble/_weight_boosting.py:527: FutureWarning: The SAMME.R algorithm (the default) is deprecated and will be removed in 1.6. Use the SAMME algorithm to circumvent this warning.\n",
      "  warnings.warn(\n",
      "/home/dona-erick/Test_Technique_DataBeez/Riskenv/lib/python3.12/site-packages/sklearn/ensemble/_weight_boosting.py:527: FutureWarning: The SAMME.R algorithm (the default) is deprecated and will be removed in 1.6. Use the SAMME algorithm to circumvent this warning.\n",
      "  warnings.warn(\n",
      "/home/dona-erick/Test_Technique_DataBeez/Riskenv/lib/python3.12/site-packages/sklearn/ensemble/_weight_boosting.py:527: FutureWarning: The SAMME.R algorithm (the default) is deprecated and will be removed in 1.6. Use the SAMME algorithm to circumvent this warning.\n",
      "  warnings.warn(\n",
      "/home/dona-erick/Test_Technique_DataBeez/Riskenv/lib/python3.12/site-packages/sklearn/ensemble/_weight_boosting.py:527: FutureWarning: The SAMME.R algorithm (the default) is deprecated and will be removed in 1.6. Use the SAMME algorithm to circumvent this warning.\n",
      "  warnings.warn(\n",
      "/home/dona-erick/Test_Technique_DataBeez/Riskenv/lib/python3.12/site-packages/sklearn/ensemble/_weight_boosting.py:527: FutureWarning: The SAMME.R algorithm (the default) is deprecated and will be removed in 1.6. Use the SAMME algorithm to circumvent this warning.\n",
      "  warnings.warn(\n",
      "/home/dona-erick/Test_Technique_DataBeez/Riskenv/lib/python3.12/site-packages/sklearn/ensemble/_weight_boosting.py:527: FutureWarning: The SAMME.R algorithm (the default) is deprecated and will be removed in 1.6. Use the SAMME algorithm to circumvent this warning.\n",
      "  warnings.warn(\n",
      "/home/dona-erick/Test_Technique_DataBeez/Riskenv/lib/python3.12/site-packages/sklearn/ensemble/_weight_boosting.py:527: FutureWarning: The SAMME.R algorithm (the default) is deprecated and will be removed in 1.6. Use the SAMME algorithm to circumvent this warning.\n",
      "  warnings.warn(\n",
      "/home/dona-erick/Test_Technique_DataBeez/Riskenv/lib/python3.12/site-packages/sklearn/ensemble/_weight_boosting.py:527: FutureWarning: The SAMME.R algorithm (the default) is deprecated and will be removed in 1.6. Use the SAMME algorithm to circumvent this warning.\n",
      "  warnings.warn(\n",
      "/home/dona-erick/Test_Technique_DataBeez/Riskenv/lib/python3.12/site-packages/sklearn/ensemble/_weight_boosting.py:527: FutureWarning: The SAMME.R algorithm (the default) is deprecated and will be removed in 1.6. Use the SAMME algorithm to circumvent this warning.\n",
      "  warnings.warn(\n",
      "/home/dona-erick/Test_Technique_DataBeez/Riskenv/lib/python3.12/site-packages/sklearn/ensemble/_weight_boosting.py:527: FutureWarning: The SAMME.R algorithm (the default) is deprecated and will be removed in 1.6. Use the SAMME algorithm to circumvent this warning.\n",
      "  warnings.warn(\n",
      "/home/dona-erick/Test_Technique_DataBeez/Riskenv/lib/python3.12/site-packages/sklearn/ensemble/_weight_boosting.py:527: FutureWarning: The SAMME.R algorithm (the default) is deprecated and will be removed in 1.6. Use the SAMME algorithm to circumvent this warning.\n",
      "  warnings.warn(\n",
      "/home/dona-erick/Test_Technique_DataBeez/Riskenv/lib/python3.12/site-packages/sklearn/ensemble/_weight_boosting.py:527: FutureWarning: The SAMME.R algorithm (the default) is deprecated and will be removed in 1.6. Use the SAMME algorithm to circumvent this warning.\n",
      "  warnings.warn(\n",
      "/home/dona-erick/Test_Technique_DataBeez/Riskenv/lib/python3.12/site-packages/sklearn/ensemble/_weight_boosting.py:527: FutureWarning: The SAMME.R algorithm (the default) is deprecated and will be removed in 1.6. Use the SAMME algorithm to circumvent this warning.\n",
      "  warnings.warn(\n",
      "/home/dona-erick/Test_Technique_DataBeez/Riskenv/lib/python3.12/site-packages/sklearn/ensemble/_weight_boosting.py:527: FutureWarning: The SAMME.R algorithm (the default) is deprecated and will be removed in 1.6. Use the SAMME algorithm to circumvent this warning.\n",
      "  warnings.warn(\n",
      "/home/dona-erick/Test_Technique_DataBeez/Riskenv/lib/python3.12/site-packages/sklearn/ensemble/_weight_boosting.py:527: FutureWarning: The SAMME.R algorithm (the default) is deprecated and will be removed in 1.6. Use the SAMME algorithm to circumvent this warning.\n",
      "  warnings.warn(\n",
      "/home/dona-erick/Test_Technique_DataBeez/Riskenv/lib/python3.12/site-packages/sklearn/ensemble/_weight_boosting.py:527: FutureWarning: The SAMME.R algorithm (the default) is deprecated and will be removed in 1.6. Use the SAMME algorithm to circumvent this warning.\n",
      "  warnings.warn(\n",
      "/home/dona-erick/Test_Technique_DataBeez/Riskenv/lib/python3.12/site-packages/sklearn/ensemble/_weight_boosting.py:527: FutureWarning: The SAMME.R algorithm (the default) is deprecated and will be removed in 1.6. Use the SAMME algorithm to circumvent this warning.\n",
      "  warnings.warn(\n",
      "/home/dona-erick/Test_Technique_DataBeez/Riskenv/lib/python3.12/site-packages/sklearn/ensemble/_weight_boosting.py:527: FutureWarning: The SAMME.R algorithm (the default) is deprecated and will be removed in 1.6. Use the SAMME algorithm to circumvent this warning.\n",
      "  warnings.warn(\n",
      "/home/dona-erick/Test_Technique_DataBeez/Riskenv/lib/python3.12/site-packages/sklearn/ensemble/_weight_boosting.py:527: FutureWarning: The SAMME.R algorithm (the default) is deprecated and will be removed in 1.6. Use the SAMME algorithm to circumvent this warning.\n",
      "  warnings.warn(\n",
      "/home/dona-erick/Test_Technique_DataBeez/Riskenv/lib/python3.12/site-packages/sklearn/ensemble/_weight_boosting.py:527: FutureWarning: The SAMME.R algorithm (the default) is deprecated and will be removed in 1.6. Use the SAMME algorithm to circumvent this warning.\n",
      "  warnings.warn(\n",
      "/home/dona-erick/Test_Technique_DataBeez/Riskenv/lib/python3.12/site-packages/sklearn/ensemble/_weight_boosting.py:527: FutureWarning: The SAMME.R algorithm (the default) is deprecated and will be removed in 1.6. Use the SAMME algorithm to circumvent this warning.\n",
      "  warnings.warn(\n",
      "/home/dona-erick/Test_Technique_DataBeez/Riskenv/lib/python3.12/site-packages/sklearn/ensemble/_weight_boosting.py:527: FutureWarning: The SAMME.R algorithm (the default) is deprecated and will be removed in 1.6. Use the SAMME algorithm to circumvent this warning.\n",
      "  warnings.warn(\n",
      "/home/dona-erick/Test_Technique_DataBeez/Riskenv/lib/python3.12/site-packages/sklearn/ensemble/_weight_boosting.py:527: FutureWarning: The SAMME.R algorithm (the default) is deprecated and will be removed in 1.6. Use the SAMME algorithm to circumvent this warning.\n",
      "  warnings.warn(\n",
      "/home/dona-erick/Test_Technique_DataBeez/Riskenv/lib/python3.12/site-packages/sklearn/ensemble/_weight_boosting.py:527: FutureWarning: The SAMME.R algorithm (the default) is deprecated and will be removed in 1.6. Use the SAMME algorithm to circumvent this warning.\n",
      "  warnings.warn(\n",
      "/home/dona-erick/Test_Technique_DataBeez/Riskenv/lib/python3.12/site-packages/sklearn/ensemble/_weight_boosting.py:527: FutureWarning: The SAMME.R algorithm (the default) is deprecated and will be removed in 1.6. Use the SAMME algorithm to circumvent this warning.\n",
      "  warnings.warn(\n",
      "/home/dona-erick/Test_Technique_DataBeez/Riskenv/lib/python3.12/site-packages/sklearn/ensemble/_weight_boosting.py:527: FutureWarning: The SAMME.R algorithm (the default) is deprecated and will be removed in 1.6. Use the SAMME algorithm to circumvent this warning.\n",
      "  warnings.warn(\n",
      "/home/dona-erick/Test_Technique_DataBeez/Riskenv/lib/python3.12/site-packages/sklearn/ensemble/_weight_boosting.py:527: FutureWarning: The SAMME.R algorithm (the default) is deprecated and will be removed in 1.6. Use the SAMME algorithm to circumvent this warning.\n",
      "  warnings.warn(\n",
      "/home/dona-erick/Test_Technique_DataBeez/Riskenv/lib/python3.12/site-packages/sklearn/ensemble/_weight_boosting.py:527: FutureWarning: The SAMME.R algorithm (the default) is deprecated and will be removed in 1.6. Use the SAMME algorithm to circumvent this warning.\n",
      "  warnings.warn(\n",
      "/home/dona-erick/Test_Technique_DataBeez/Riskenv/lib/python3.12/site-packages/sklearn/ensemble/_weight_boosting.py:527: FutureWarning: The SAMME.R algorithm (the default) is deprecated and will be removed in 1.6. Use the SAMME algorithm to circumvent this warning.\n",
      "  warnings.warn(\n",
      "/home/dona-erick/Test_Technique_DataBeez/Riskenv/lib/python3.12/site-packages/sklearn/ensemble/_weight_boosting.py:527: FutureWarning: The SAMME.R algorithm (the default) is deprecated and will be removed in 1.6. Use the SAMME algorithm to circumvent this warning.\n",
      "  warnings.warn(\n"
     ]
    },
    {
     "name": "stdout",
     "output_type": "stream",
     "text": [
      "Best Model for AdaBoostClassifier: AdaBoostClassifier(learning_rate=0.1, n_estimators=200, random_state=42)\n",
      "Best Parameters: {'learning_rate': 0.1, 'n_estimators': 200}\n",
      "Best CV Score: 0.70625\n",
      "\n",
      "Test Accuracy for AdaBoostClassifier: 0.71\n",
      "\n",
      "\n",
      "Final Results:\n",
      "LogisticRegression: Test Accuracy = 0.7000, CV Score = 0.7175\n",
      "RandomForestClassifier: Test Accuracy = 0.6850, CV Score = 0.7137\n",
      "XGBClassifier: Test Accuracy = 0.7300, CV Score = 0.7200\n",
      "DecisionTreeClassifier: Test Accuracy = 0.6850, CV Score = 0.6950\n",
      "KNeighborsClassifier: Test Accuracy = 0.6700, CV Score = 0.7037\n",
      "GaussianNB: Test Accuracy = 0.6100, CV Score = 0.6613\n",
      "AdaBoostClassifier: Test Accuracy = 0.7100, CV Score = 0.7063\n"
     ]
    }
   ],
   "source": [
    "from sklearn.model_selection import GridSearchCV\n",
    "from sklearn.metrics import accuracy_score\n",
    "\n",
    "# Hyperparamètres pour chaque modèle\n",
    "param_grids = {\n",
    "    \"LogisticRegression\": {\n",
    "        \"penalty\": [\"l1\", \"l2\"],\n",
    "        \"C\": [0.01, 0.1, 1, 10],\n",
    "        \"solver\": [\"liblinear\"]\n",
    "    },\n",
    "    \"RandomForestClassifier\": {\n",
    "        \"n_estimators\": [100, 200, 300],\n",
    "        \"max_depth\": [5, 10, 20, 30],\n",
    "        \"criterion\": [\"gini\", \"entropy\"]\n",
    "    },\n",
    "    \"XGBClassifier\": {\n",
    "        \"n_estimators\": [100, 200],\n",
    "        \"max_depth\": [3, 5, 7],\n",
    "        \"learning_rate\": [0.01, 0.1, 0.3],\n",
    "        \"subsample\": [0.8, 1.0]\n",
    "    },\n",
    "    \"DecisionTreeClassifier\": {\n",
    "        \"criterion\": [\"gini\", \"entropy\"],\n",
    "        \"max_depth\": [3, 5, 10],\n",
    "        \"max_features\": [2, 3, 5]\n",
    "    },\n",
    "    \"KNeighborsClassifier\": {\n",
    "        \"n_neighbors\": [3, 5, 7, 9],\n",
    "        \"weights\": [\"uniform\", \"distance\"]\n",
    "    },\n",
    "    \"GaussianNB\": {}, \n",
    "    \"AdaBoostClassifier\": {\n",
    "        \"n_estimators\": [50, 100, 200],\n",
    "        \"learning_rate\": [0.01, 0.1, 1.0]\n",
    "    }\n",
    "}\n",
    "\n",
    "# Initialiser les modèles\n",
    "models = {\n",
    "    \"LogisticRegression\": LogisticRegression(random_state=42),\n",
    "    \"RandomForestClassifier\": RandomForestClassifier(random_state=42),\n",
    "    \"XGBClassifier\": XGBClassifier(random_state=42, eval_metric='logloss'),\n",
    "    \"DecisionTreeClassifier\": DecisionTreeClassifier(random_state=42),\n",
    "    \"KNeighborsClassifier\": KNeighborsClassifier(),\n",
    "    \"GaussianNB\": GaussianNB(),\n",
    "    \"AdaBoostClassifier\": AdaBoostClassifier(random_state=42)\n",
    "}\n",
    "\n",
    "# Stocker les meilleurs résultats\n",
    "best_models = {}\n",
    "\n",
    "# GridSearchCV pour chaque modèle\n",
    "for model_name, model in models.items():\n",
    "    print(f\"Tuning hyperparameters for {model_name}...\")\n",
    "    param_grid = param_grids.get(model_name, {})\n",
    "    grid_search = GridSearchCV(estimator=model, param_grid=param_grid, cv=5, scoring='accuracy', n_jobs=-1, verbose=1)\n",
    "    \n",
    "\n",
    "    grid_search.fit(Xtrain, ytrain)\n",
    "    \n",
    "    # Meilleur modèle et score\n",
    "    best_model = grid_search.best_estimator_\n",
    "    best_score = grid_search.best_score_\n",
    "    best_params = grid_search.best_params_\n",
    "    \n",
    "    print(f\"Best Model for {model_name}: {best_model}\")\n",
    "    print(f\"Best Parameters: {best_params}\")\n",
    "    print(f\"Best CV Score: {best_score}\\n\")\n",
    "    \n",
    "    # Évaluer sur le jeu de test\n",
    "    test_accuracy = accuracy_score(ytest, best_model.predict(Xtest))\n",
    "    print(f\"Test Accuracy for {model_name}: {test_accuracy}\\n\")\n",
    "    \n",
    "    # Stocker le résultat\n",
    "    best_models[model_name] = {\n",
    "        \"Best Model\": best_model,\n",
    "        \"Best Parameters\": best_params,\n",
    "        \"CV Score\": best_score,\n",
    "        \"Test Accuracy\": test_accuracy\n",
    "    }\n",
    "\n",
    "# Comparaison des modèles\n",
    "print(\"\\nFinal Results:\")\n",
    "for model_name, results in best_models.items():\n",
    "    print(f\"{model_name}: Test Accuracy = {results['Test Accuracy']:.4f}, CV Score = {results['CV Score']:.4f}\")\n"
   ]
  },
  {
   "cell_type": "markdown",
   "metadata": {},
   "source": [
    "## Best model"
   ]
  },
  {
   "cell_type": "code",
   "execution_count": 34,
   "metadata": {},
   "outputs": [
    {
     "name": "stdout",
     "output_type": "stream",
     "text": [
      "Accuracy :0.73\n",
      "\n",
      "Precision :0.7430167597765364\n",
      "\n",
      "Confusion_matrix \n",
      ":[[ 13  46]\n",
      " [  8 133]]\n",
      "\n",
      "classification \n",
      ":              precision    recall  f1-score   support\n",
      "\n",
      "           0       0.62      0.22      0.33        59\n",
      "           1       0.74      0.94      0.83       141\n",
      "\n",
      "    accuracy                           0.73       200\n",
      "   macro avg       0.68      0.58      0.58       200\n",
      "weighted avg       0.71      0.73      0.68       200\n",
      "\n",
      "\n"
     ]
    }
   ],
   "source": [
    "best_model = XGBClassifier(\n",
    "    learning_rate= 0.01, max_depth =5, \n",
    "    n_estimators= 200, subsample= 1.0\n",
    ")\n",
    "\n",
    "## fitting\n",
    "best_model.fit(Xtrain, ytrain)\n",
    "prediction_best= best_model.predict(Xtest)\n",
    "\n",
    "Accuracy = accuracy_score(ytest, prediction_best)\n",
    "Precision = precision_score(ytest, prediction_best)\n",
    "Confusion_matrix = confusion_matrix(ytest, prediction_best)\n",
    "classification = classification_report(ytest, prediction_best)\n",
    "print(f\"Accuracy :{Accuracy}\\n\")\n",
    "print(f\"Precision :{Precision}\\n\")\n",
    "print(f\"Confusion_matrix \\n:{Confusion_matrix}\\n\")\n",
    "print(f\"classification \\n:{classification}\\n\")\n"
   ]
  },
  {
   "cell_type": "markdown",
   "metadata": {},
   "source": [
    "## Building the pipeline of model"
   ]
  },
  {
   "cell_type": "code",
   "execution_count": 35,
   "metadata": {},
   "outputs": [
    {
     "name": "stdout",
     "output_type": "stream",
     "text": [
      "0.73\n"
     ]
    }
   ],
   "source": [
    "pipeline_model = Pipeline(steps=[\n",
    "    ('transformer', preprocessor),\n",
    "    ('classifier', best_model)\n",
    "])\n",
    "\n",
    "pipeline_model.fit(xtrain, ytrain)\n",
    "predict_new = pipeline_model.predict(xtest)\n",
    "\n",
    "Accuracy_new = accuracy_score(ytest, predict_new)\n",
    "print(Accuracy_new) \n",
    "\n"
   ]
  },
  {
   "cell_type": "code",
   "execution_count": null,
   "metadata": {},
   "outputs": [],
   "source": [
    "feature_importance = pipeline_model.named_steps['classifier'].feature_importances_\n",
    "features = numeric_features +list(preprocessor.named_transformers_['cat'].named_steps['onehot'].get_feature_names_out())\n",
    "result = pd.DataFrame({'importances': feature_importance, \n",
    "                       'columns': features})\n",
    "result.sort_values(ascending=True, by='importances')\n",
    "sns.barplot(data=result, x='importances', y='columns')"
   ]
  },
  {
   "cell_type": "markdown",
   "metadata": {},
   "source": [
    "### testing"
   ]
  },
  {
   "cell_type": "code",
   "execution_count": 37,
   "metadata": {},
   "outputs": [
    {
     "name": "stdout",
     "output_type": "stream",
     "text": [
      "Predictions of test data is : 1\n"
     ]
    }
   ],
   "source": [
    "predictions = pipeline_model.predict(test)\n",
    "print(f\"Predictions of test data is : {predictions[0]}\")"
   ]
  },
  {
   "cell_type": "markdown",
   "metadata": {},
   "source": [
    "### saving the pipeline model"
   ]
  },
  {
   "cell_type": "code",
   "execution_count": 38,
   "metadata": {},
   "outputs": [
    {
     "data": {
      "text/plain": [
       "['../models_credit_risque/final_model_pipeline.pkl']"
      ]
     },
     "execution_count": 38,
     "metadata": {},
     "output_type": "execute_result"
    }
   ],
   "source": [
    "joblib.dump(pipeline_model, '../models_credit_risque/final_model_pipeline.pkl')"
   ]
  },
  {
   "cell_type": "code",
   "execution_count": 39,
   "metadata": {},
   "outputs": [
    {
     "data": {
      "text/plain": [
       "((1000, 9), (200,), (200, 9))"
      ]
     },
     "execution_count": 39,
     "metadata": {},
     "output_type": "execute_result"
    }
   ],
   "source": [
    "test.shape, ytest.shape, xtest.shape"
   ]
  },
  {
   "cell_type": "code",
   "execution_count": 40,
   "metadata": {},
   "outputs": [
    {
     "data": {
      "text/plain": [
       "array([[0.11209208],\n",
       "       [0.8879079 ],\n",
       "       [0.61101276],\n",
       "       ...,\n",
       "       [0.3975385 ],\n",
       "       [0.39412463],\n",
       "       [0.6058754 ]], dtype=float32)"
      ]
     },
     "execution_count": 40,
     "metadata": {},
     "output_type": "execute_result"
    }
   ],
   "source": [
    "model = joblib.load(\"/home/dona-erick/Test_Technique_DataBeez/models_credit_risque/final_model_pipeline.pkl\")\n",
    "pred = model.predict(test)\n",
    "probablité = model.predict_proba(test)\n",
    "probablité.reshape(-1, 1)\n"
   ]
  },
  {
   "cell_type": "code",
   "execution_count": 41,
   "metadata": {},
   "outputs": [],
   "source": [
    "predictions = model.predict(test)\n",
    "predictions_df = pd.DataFrame({'id':test.index,\n",
    "                               \"Normal\":y,\n",
    "                            'Predicted': [\"Good\" if pred == 1 else \"Bad\" for pred in predictions],\n",
    "                            'Probability': model.predict_proba(test)[:, 1]\n",
    "})\n",
    "predictions_df.to_csv('../German_Data_Credit/predictions/prediction_df.csv', index = False)"
   ]
  },
  {
   "cell_type": "code",
   "execution_count": 44,
   "metadata": {},
   "outputs": [
    {
     "name": "stdout",
     "output_type": "stream",
     "text": [
      "          Age       Job  Credit amount  Duration     Sex Housing  \\\n",
      "0    2.766456  0.146949      -0.745131 -1.236478    male     own   \n",
      "1   -1.191404  0.146949       0.949817  2.248194  female     own   \n",
      "2    1.183312 -1.383771      -0.416562 -0.738668    male     own   \n",
      "3    0.831502  0.146949       1.634247  1.750384    male    free   \n",
      "4    1.535122  0.146949       0.566664  0.256953    male    free   \n",
      "..        ...       ...            ...       ...     ...     ...   \n",
      "995 -0.399832 -1.383771      -0.544162 -0.738668  female     own   \n",
      "996  0.391740  1.677670       0.207612  0.754763    male     own   \n",
      "997  0.215835  0.146949      -0.874503 -0.738668    male     own   \n",
      "998 -1.103451  0.146949      -0.505528  1.999289    male    free   \n",
      "999 -0.751642  0.146949       0.462457  1.999289    male     own   \n",
      "\n",
      "    Saving accounts Checking account              Purpose  \n",
      "0            little           little             radio/TV  \n",
      "1            little         moderate             radio/TV  \n",
      "2            little           little            education  \n",
      "3            little           little  furniture/equipment  \n",
      "4            little           little                  car  \n",
      "..              ...              ...                  ...  \n",
      "995          little           little  furniture/equipment  \n",
      "996          little           little                  car  \n",
      "997          little           little             radio/TV  \n",
      "998          little           little             radio/TV  \n",
      "999        moderate         moderate                  car  \n",
      "\n",
      "[1000 rows x 9 columns]\n"
     ]
    }
   ],
   "source": [
    "transformer = joblib.load('../models_credit_risque/pipeline_transformer.pkl')\n",
    "transformer.fit(train)\n",
    "\n",
    "data_cleaned = transformer.transform(train)\n",
    "num_features= numeric_features\n",
    "cat_features = transformer.named_transformers_['cat']['onehot'].get_feature_names_out(categoric_features)\n",
    "\n",
    "all_features = list(num_features) + list(cat_features)\n",
    "data_cleaned = pd.DataFrame(data_cleaned, columns=all_features)\n",
    "# Consolider les colonnes encodées \n",
    "for original_col in categoric_features:\n",
    "    matching_cols = [col for col in all_features if col.startswith(original_col + \"_\")]\n",
    "    data_cleaned[original_col] = data_cleaned[matching_cols].idxmax(axis=1).str.replace(f\"{original_col}_\", \"\")\n",
    "    data_cleaned.drop(columns=matching_cols, inplace=True)\n",
    "#transformed_df = pd.DataFrame(data_cleaned, columns=all_features)\n",
    "\n",
    "# Afficher le DataFrame transformé\n",
    "print(data_cleaned)\n"
   ]
  },
  {
   "cell_type": "code",
   "execution_count": 45,
   "metadata": {},
   "outputs": [],
   "source": [
    "data_cleaned['Risk']=train['Risk']\n",
    "data_cleaned.to_csv('../German_Data_Credit/Train/data_cleaned.csv', index = False)"
   ]
  }
 ],
 "metadata": {
  "kernelspec": {
   "display_name": "Riskenv",
   "language": "python",
   "name": "python3"
  },
  "language_info": {
   "codemirror_mode": {
    "name": "ipython",
    "version": 3
   },
   "file_extension": ".py",
   "mimetype": "text/x-python",
   "name": "python",
   "nbconvert_exporter": "python",
   "pygments_lexer": "ipython3",
   "version": "3.12.3"
  }
 },
 "nbformat": 4,
 "nbformat_minor": 2
}
